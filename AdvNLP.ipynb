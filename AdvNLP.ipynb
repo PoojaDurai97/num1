{
  "nbformat": 4,
  "nbformat_minor": 0,
  "metadata": {
    "colab": {
      "name": "AdvNLP.ipynb",
      "provenance": [],
      "collapsed_sections": [],
      "authorship_tag": "ABX9TyPWnsz7Lpnp8EFsXXzIQG6c",
      "include_colab_link": true
    },
    "kernelspec": {
      "name": "python3",
      "display_name": "Python 3"
    },
    "accelerator": "GPU"
  },
  "cells": [
    {
      "cell_type": "markdown",
      "metadata": {
        "id": "view-in-github",
        "colab_type": "text"
      },
      "source": [
        "<a href=\"https://colab.research.google.com/github/PoojaDurai97/num1/blob/master/AdvNLP.ipynb\" target=\"_parent\"><img src=\"https://colab.research.google.com/assets/colab-badge.svg\" alt=\"Open In Colab\"/></a>"
      ]
    },
    {
      "cell_type": "code",
      "metadata": {
        "id": "fiYAGYZ0nxlw"
      },
      "source": [
        "import requests\n",
        "from bs4 import BeautifulSoup\n",
        "import pandas as pd\n",
        "import numpy as np\n",
        "import matplotlib.pyplot as plt\n",
        "import seaborn as sns\n",
        "import os\n",
        "%matplotlib inline"
      ],
      "execution_count": null,
      "outputs": []
    },
    {
      "cell_type": "code",
      "metadata": {
        "id": "_L9j_9Y5noKB"
      },
      "source": [
        "seed_urls = ['https://inshorts.com/en/read/technology',\n",
        "             'https://inshorts.com/en/read/sports',\n",
        "             'https://inshorts.com/en/read/world']\n",
        "\n",
        "def build_dataset(seed_urls):\n",
        "    news_data = []\n",
        "    for url in seed_urls:\n",
        "        news_category = url.split('/')[-1]\n",
        "        data = requests.get(url)\n",
        "        soup = BeautifulSoup(data.content, 'html.parser')\n",
        "        \n",
        "        news_articles = [{'news_headline': headline.find('span', \n",
        "                                                         attrs={\"itemprop\": \"headline\"}).string,\n",
        "                          'news_article': article.find('div', \n",
        "                                                       attrs={\"itemprop\": \"articleBody\"}).string,\n",
        "                          'news_category': news_category}\n",
        "                         \n",
        "                            for headline, article in \n",
        "                             zip(soup.find_all('div', \n",
        "                                               class_=[\"news-card-title news-right-box\"]),\n",
        "                                 soup.find_all('div', \n",
        "                                               class_=[\"news-card-content news-right-box\"]))\n",
        "                        ]\n",
        "        news_data.extend(news_articles)\n",
        "        \n",
        "    df =  pd.DataFrame(news_data)\n",
        "    df = df[['news_headline', 'news_article', 'news_category']]\n",
        "    return df"
      ],
      "execution_count": null,
      "outputs": []
    },
    {
      "cell_type": "code",
      "metadata": {
        "id": "IPb8A71An3CQ",
        "outputId": "b13cd4c4-d4f2-4661-bcd4-b9a280dcfbd8",
        "colab": {
          "base_uri": "https://localhost:8080/",
          "height": 204
        }
      },
      "source": [
        "news_df = build_dataset(seed_urls)\n",
        "news_df.head()"
      ],
      "execution_count": null,
      "outputs": [
        {
          "output_type": "execute_result",
          "data": {
            "text/html": [
              "<div>\n",
              "<style scoped>\n",
              "    .dataframe tbody tr th:only-of-type {\n",
              "        vertical-align: middle;\n",
              "    }\n",
              "\n",
              "    .dataframe tbody tr th {\n",
              "        vertical-align: top;\n",
              "    }\n",
              "\n",
              "    .dataframe thead th {\n",
              "        text-align: right;\n",
              "    }\n",
              "</style>\n",
              "<table border=\"1\" class=\"dataframe\">\n",
              "  <thead>\n",
              "    <tr style=\"text-align: right;\">\n",
              "      <th></th>\n",
              "      <th>news_headline</th>\n",
              "      <th>news_article</th>\n",
              "      <th>news_category</th>\n",
              "    </tr>\n",
              "  </thead>\n",
              "  <tbody>\n",
              "    <tr>\n",
              "      <th>0</th>\n",
              "      <td>Bose launches QC Earbuds with 'world’s most ef...</td>\n",
              "      <td>Bose has launched the new QuietComfort Earbuds...</td>\n",
              "      <td>technology</td>\n",
              "    </tr>\n",
              "    <tr>\n",
              "      <th>1</th>\n",
              "      <td>WhatsApp launches feature to make messages dis...</td>\n",
              "      <td>WhatsApp on Thursday launched 'disappearing me...</td>\n",
              "      <td>technology</td>\n",
              "    </tr>\n",
              "    <tr>\n",
              "      <th>2</th>\n",
              "      <td>WhatsApp allowed to offer payments service via...</td>\n",
              "      <td>The National Payments Corporation of India on ...</td>\n",
              "      <td>technology</td>\n",
              "    </tr>\n",
              "    <tr>\n",
              "      <th>3</th>\n",
              "      <td>NPCI imposes 30% cap for third-party apps offe...</td>\n",
              "      <td>The NPCI imposed a cap on the share of UPI tra...</td>\n",
              "      <td>technology</td>\n",
              "    </tr>\n",
              "    <tr>\n",
              "      <th>4</th>\n",
              "      <td>Twitter labels Trump's tweet accusing Democrat...</td>\n",
              "      <td>US President Donald Trump accused Democrats of...</td>\n",
              "      <td>technology</td>\n",
              "    </tr>\n",
              "  </tbody>\n",
              "</table>\n",
              "</div>"
            ],
            "text/plain": [
              "                                       news_headline  ... news_category\n",
              "0  Bose launches QC Earbuds with 'world’s most ef...  ...    technology\n",
              "1  WhatsApp launches feature to make messages dis...  ...    technology\n",
              "2  WhatsApp allowed to offer payments service via...  ...    technology\n",
              "3  NPCI imposes 30% cap for third-party apps offe...  ...    technology\n",
              "4  Twitter labels Trump's tweet accusing Democrat...  ...    technology\n",
              "\n",
              "[5 rows x 3 columns]"
            ]
          },
          "metadata": {
            "tags": []
          },
          "execution_count": 89
        }
      ]
    },
    {
      "cell_type": "code",
      "metadata": {
        "id": "3SaokGjlntxJ"
      },
      "source": [
        "page = requests.get('https://www.ndtv.com/india-news/details-of-dissent-letter-to-sonia-gandhi-steady-decline-no-honest-inspection-2286399') \n",
        "soup = BeautifulSoup(page.content, 'html.parser')\n",
        "\n"
      ],
      "execution_count": null,
      "outputs": []
    },
    {
      "cell_type": "code",
      "metadata": {
        "id": "5UVtDxfw6RV3"
      },
      "source": [
        "for s in soup.select('script'):\n",
        "    s.extract()\n",
        "for a in soup.findAll('a', href=True):\n",
        "    a.extract()"
      ],
      "execution_count": null,
      "outputs": []
    },
    {
      "cell_type": "code",
      "metadata": {
        "id": "PLesnNF9Mse_"
      },
      "source": [
        "for tags in soup.findAll(\"p\", class_=[\"live_tv\",\"ft-social--txt\"]):\n",
        "    tags.extract()"
      ],
      "execution_count": null,
      "outputs": []
    },
    {
      "cell_type": "code",
      "metadata": {
        "id": "o0POszZbBc_8"
      },
      "source": [
        "\n",
        "for tags in soup.findAll(\"div\", class_=[\"watch-news_inner\",\"ins_adwrap marginb20\"]):\n",
        "    tags.extract()\n",
        "for div in soup.findAll(\"div\", {'id':'jiosaavn-widget'}): \n",
        "    div.decompose()"
      ],
      "execution_count": null,
      "outputs": []
    },
    {
      "cell_type": "code",
      "metadata": {
        "id": "B3fKV4ysAmkr",
        "outputId": "e35091b8-a827-4dd0-9ab0-e138f4f848a8",
        "colab": {
          "base_uri": "https://localhost:8080/"
        }
      },
      "source": [
        "soup"
      ],
      "execution_count": null,
      "outputs": [
        {
          "output_type": "execute_result",
          "data": {
            "text/plain": [
              "<!DOCTYPE doctype html>\n",
              "<html itemscope=\"\" itemtype=\"http://schema.org/NewsArticle\" xmlns=\"http://www.w3.org/1999/xhtml\"><head><title>Dissent Letter To Sonia Gandhi: No More A Nurturing Leadership</title><meta content=\"Sonia Gandhi,Rahul Gandhi,Congress\" itemprop=\"keywords\" name=\"news_keywords\"/><meta content='The letter by 23 Congress dissidents to party chief Sonia Gandhi says there has been a \"steady decline of the party\", witnessed in the 2014 and 2019 elections, but there has been no honest introspection to analyse the reasons.' itemprop=\"description\" name=\"description\"/><meta content=\"india\" itemprop=\"articleSection\" name=\"section\"/><meta content=\"https://www.ndtv.com/india-news/details-of-dissent-letter-to-sonia-gandhi-steady-decline-no-honest-inspection-2286399\" itemprop=\"url\" name=\"url\"/><link href=\"https://www.ndtv.com/india-news/details-of-dissent-letter-to-sonia-gandhi-steady-decline-no-honest-inspection-2286399?amp=1&amp;akamai-rum=off\" rel=\"amphtml\"/><link href=\"https://plus.google.com/+NDTV\" rel=\"publisher\"/><link href=\"android-app://com.july.ndtv/ndtv/ndtv.android/type=news/id=2286399/category=india-news\" rel=\"alternate\"/><link href=\"ios-app://377869410/ndtv/news/ndtv.com/news/view/ndtv/2286399/site=classic/\" rel=\"alternate\"/><link href=\"https://feeds2.feedburner.com/NdtvNews-TopStories\" rel=\"alternate\" title=\"NDTV Top Stories\" type=\"application/rss+xml\"/><meta content=\"Sonia Gandhi,Rahul Gandhi,Congress\" name=\"keywords\"/><meta content=\"&quot;No More A Nurturing Leadership&quot;: 'Dissent' Letter To Sonia Gandhi\" property=\"og:title\"><meta content=\"article\" property=\"og:type\"/><meta content=\"https://c.ndtvimg.com/2020-08/f45hcqj8_sonia-gandhi-rahul-gandhi-pti-650_650x400_24_August_20.jpg\" property=\"og:image\"/><meta content=\"https://c.ndtvimg.com/2020-08/f45hcqj8_sonia-gandhi-rahul-gandhi-pti-650_650x400_24_August_20.jpg\" property=\"og:image:secure_url\"/><meta content=\"630\" property=\"og:image:width\"/><meta content=\"473\" property=\"og:image:height\"/><meta content=\"https://www.ndtv.com/india-news/details-of-dissent-letter-to-sonia-gandhi-steady-decline-no-honest-inspection-2286399\" property=\"og:url\"/><meta content=\"NDTV.com\" property=\"og:site_name\"/><meta content='The letter by 23 Congress dissidents to party chief Sonia Gandhi says there has been a \"steady decline of the party\", witnessed in the 2014 and 2019 elections, but there has been no honest introspection to analyse the reasons.' property=\"og:description\"/><meta content=\"213741912058651\" property=\"fb:app_id\"/><meta content=\"ndtvSocial://com.july.ndtv/ndtv/ndtv.android/type=news/id=2286399/category=india-news\" property=\"al:android:url\"/><meta content=\"com.july.ndtv\" property=\"al:android:package\"/><meta content=\"NDTV\" property=\"al:android:app_name\"/><meta content=\"ndtv://news/ndtv.com/news/view/ndtv/2286399/site=classic/\" property=\"al:ios:url\"/><meta content=\"377869410\" property=\"al:ios:app_store_id\"/><meta content=\"NDTV\" property=\"al:ios:app_name\"/><meta content=\"ndtvhd://news/ndtv.com/news/view/ndtv/2286399/site=classic/\" property=\"al:ipad:url\"/><meta content=\"390847563\" property=\"al:ipad:app_store_id\"/><meta content=\"NDTV HD\" property=\"al:ipad:app_name\"/><meta content=\"summary_large_image\" name=\"twitter:card\"/><meta content=\"@ndtv\" name=\"twitter:site\"/><meta content=\"https://www.ndtv.com/india-news/details-of-dissent-letter-to-sonia-gandhi-steady-decline-no-honest-inspection-2286399\" name=\"twitter:url\"/><meta content=\"&quot;No More A Nurturing Leadership&quot;: 'Dissent' Letter To Sonia Gandhi\" name=\"twitter:title\"/><meta content='The letter by 23 Congress dissidents to party chief Sonia Gandhi says there has been a \"steady decline of the party\", witnessed in the 2014 and 2019 elections, but there has been no honest introspection to analyse the reasons.' name=\"twitter:description\"/><meta content=\"https://c.ndtvimg.com/2020-08/f45hcqj8_sonia-gandhi-rahul-gandhi-pti-650_650x400_24_August_20.jpg?ver-20201024.1\" name=\"twitter:image\"/><meta content=\"ndtv://news/ndtv.com/news/view/ndtv/2286399/site=classic/\" name=\"twitter:app:url:iphone\"/><meta content=\"ndtvnews://www.ndtv.com/type=news/id=2286399/category=india-news\" name=\"twitter:app:url:googleplay\"/><meta content=\"https://c.ndtvimg.com/2020-08/f45hcqj8_sonia-gandhi-rahul-gandhi-pti-650_650x400_24_August_20.jpg\" property=\"snapchat:sticker\"/><meta content=\"text/html;charset=utf-8\" http-equiv=\"Content-Type\"/><meta content=\"IE=edge\" http-equiv=\"X-UA-Compatible\"/><meta content=\"News\" property=\"category\"/><link crossorigin=\"\" href=\"https://i.ndtvimg.com/\" rel=\"preconnect\"><link crossorigin=\"\" href=\"https://social.ndtv.com/\" rel=\"preconnect\"><link crossorigin=\"\" href=\"https://cdn.ndtv.com/\" rel=\"preconnect\"><link crossorigin=\"\" href=\"https://drop.ndtv.com/\" rel=\"preconnect\"><link crossorigin=\"\" href=\"https://static.social.ndtv.com/\" rel=\"preconnect\"><link crossorigin=\"\" href=\"https://fonts.googleapis.com/\" rel=\"preconnect\"/><link crossorigin=\"\" href=\"https://fonts.gstatic.com/\" rel=\"preconnect\"/><link crossorigin=\"\" href=\"https://www.google-analytics.com/\" rel=\"preconnect\"/><link crossorigin=\"\" href=\"https://sb.scorecardresearch.com/\" rel=\"preconnect\"/><link crossorigin=\"\" href=\"https://www.googletagservices.com/\" rel=\"preconnect\"/><link crossorigin=\"\" href=\"https://securepubads.g.doubleclick.net/\" rel=\"preconnect\"/><link crossorigin=\"\" href=\"https://partner.googleadservices.com/\" rel=\"preconnect\"/><link crossorigin=\"\" href=\"https://pagead2.googlesyndication.com/\" rel=\"preconnect\"/><link crossorigin=\"\" href=\"https://cdn.taboola.com/\" rel=\"preconnect\"/><link crossorigin=\"\" href=\"https://images.taboola.com/\" rel=\"preconnect\"/><link crossorigin=\"\" href=\"https://cdn.taboola.com\" rel=\"preconnect\"/><link crossorigin=\"\" href=\"https://trc.taboola.com/\" rel=\"preconnect\"/><link href=\"//fastlane.rubiconproject.com/\" rel=\"dns-prefetch\"/><link as=\"script\" href=\"https://ads.ndtv1.com/Test/prebid3.2.0.js\" rel=\"preload\"><link as=\"script\" href=\"https://www.google-analytics.com/analytics.js\" rel=\"preload\"/><link as=\"script\" href=\"https://cdn.tercept.com/js/trcpt?account_id=TCPT-1551\" rel=\"preload\"/><link href=\"https://www.ndtv.com/manifest.json\" rel=\"manifest\"/><meta content=\"#e3eef9\" name=\"theme-color\"/><meta content=\"app-id=377869410 , app-argument=ndtv://news/ndtv.com/news/view/ndtv/2286399/site=classic/\" name=\"apple-itunes-app\"/><meta content=\"&quot;No More A Nurturing Leadership&quot;: 'Dissent' Letter To Sonia Gandhi\" property=\"taboola:title\"/><link href=\"https://www.ndtv.com/india-news/details-of-dissent-letter-to-sonia-gandhi-steady-decline-no-honest-inspection-2286399\" rel=\"canonical\"/><link href=\"https://www.ndtv.com/india-news/details-of-dissent-letter-to-sonia-gandhi-steady-decline-no-honest-inspection-2286399\" itemprop=\"mainEntityOfPage\"/><link href=\"https://cdn.ndtv.com/static/images/logo_ndtv_touch_icon.png\" rel=\"apple-touch-icon\"/><meta content=\"NDTV\" name=\"twitter:app:name:iphone\"/><meta content=\"377869410\" name=\"twitter:app:id:iphone\"/><meta content=\"NDTV HD\" name=\"twitter:app:name:ipad\"/><meta content=\"NDTV\" name=\"twitter:app:name:googleplay\"/><meta content=\"com.july.ndtv\" name=\"twitter:app:id:googleplay\"/><link href=\"https://www.ndtv.com/images/icons/ndtv.ico\" rel=\"shortcut icon\" type=\"image/x-icon\"/><link href=\"https://fonts.googleapis.com/css?family=Roboto:300,400,500,700,900&amp;display=swap\" rel=\"stylesheet\"/><style>/*advertisement.css*/.t-add { background-color: #d9dee4;}.add-wrp { text-align: center; margin: 0px auto; /*width: 970px; height: 250px; display: flex; align-items: center; justify-content: center;*/}/*.add__wrp { float: left;}*/.add-img { background-color: var(--light-m1); display: inline-block; height: auto; margin: 15px auto; min-width: 728px;}.add__txt { color: #999999; display: inline-block; font-size: 11px; padding: 1px 0; width: 100%; text-align: center;}.add__placeholder { font-size: 0; margin-bottom: 15px; padding: 0; text-align: right;}.add-rhs .newins_widget .video-title, .add-rhs .newins_widget .vertical-a .syndicatedItem .video-title, .thumbnails-d .syndicatedItem .video-title { font-size: 14px !important; color: #2E2E2E !important; line-height: 1.4 !important;}.add-rhs .trc_elastic_vertical-a .trc_rbox_outer .videoCube { margin-bottom: 20px;}/*.add-rhs section.add-section { width: 300px; height: 600px;}*/#taboola-below-article-thumbnails .trc_related_container { background-color: #fdfdfd; padding: 10px !important;}.trc_rbox_header_span { color: #222; font-family: var(--ff-one); padding: 0 0 0 0px; font-size: 12px; font-weight: 400;}.__pcwgtlhs { font-family: var(--ff-one) !important;}.sp_ad-t .trc_rbox_header_span {padding-left: 15px;}.mx-spon{ max-width: 320px; width: 100%; float: left;border: solid 1px #eaeaea;border-radius: 3px;margin-top: 15px;}.mx-spon *{box-sizing: border-box;}.mx-spon_inner{ width: 100%; background-color: #fff; border-radius: 4px; position: relative; overflow: hidden;}.mx-spon_head{ display: flex; align-items: center; position: relative;}.mx-spon_name{ display: flex; align-items: center; background: #fff; border-radius: 3px;font-size: 12px;font-weight: normal;color: #212121;text-align: center;text-transform: uppercase;padding: 3px 10px;float: left;letter-spacing: 0.5px;}.mx-spon_list{ width: 100%; display: flex; flex-wrap: nowrap;}.mx-spon_item{ width: 100%; flex-shrink: 0; padding: 0px 12px 8px;}.mx-spon_contant{ width: 100%; display: flex; align-items: center;}.mx-spon_title{ width: 100%; padding: 15px; font-size: 18px; font-weight: 600; color: #333;}.mx-spon_tnumb{ width: 100px; flex-shrink: 0; font-size:0; line-height: 0; border-radius: 3px; position: relative; overflow: hidden;}.mx-spon_tnumb img{ width: 100%;}.mx-spon_desc{font-size: 14px; font-weight: 400;line-height: 20px; padding-left:15px;}.mx-spon_item.selected{ display:block;}#rhswgt_fix,.add-section {clear: both;}.stick { position:fixed; top:52px; clear: both;}/*footer-sticky.css*/.foot-sticky {width: 100%;min-height: 90px;padding: 15px 0;background-color: rgba(253, 253, 253, 0.9);border-top: solid 1px #ddd;position: fixed;bottom: 0;transition: all 0.3s linear;z-index: 9;backdrop-filter: blur(10px);-webkit-backdrop-filter: blur(10px);box-shadow: 0 0 10px rgba(0, 0, 0, 0.1);}.dirt-arrow {padding: 5px 10px;position: absolute;z-index: 9;left: 25px;min-width: 110px;height: 32px;display: flex;align-items: center;justify-content: center;cursor: pointer;border-radius: 3px 3px 0 0;box-shadow: none;background-color: rgba(253, 253, 253, 0.9);top: -31px;border: solid 1px #ddd;border-bottom-color: rgba(253, 253, 253, 0.9);backdrop-filter: blur(10px);-webkit-backdrop-filter: blur(10px);box-shadow: 0 -3px 5px rgba(0, 0, 0, 0.05);}.dirt-arrow span {display: block;font-size: 12px;text-transform: uppercase;font-weight: 400;padding-top: 2px;margin-right: 5px;}.dirt-arrow svg {transform: rotate(90deg);width: 15px;height: 15px;margin-top: 3px;}.foot-news {width: 100%;height: 100%;display: flex;align-items: center;padding: 0px 20px;z-index: 0;position: relative;}.foot-news--list {width: calc(20% - 15px);display: table;margin-left: 20px;padding: 5px;}.foot-news--list:first-child {margin-left: 0;}.foot-news--list .foot-thumb {display: table-cell;vertical-align: top;}.foot-news--list .foot-thumb span {width: 55px;height: 55px;margin-right: 10px;display: block;position: relative;overflow: hidden;}.foot-news--list .title {display: table-cell;vertical-align: top;font-family: var(--ff-one);font-size: 14px;font-weight: 400;color: var(--ttl);line-height:1.3;}.foot-news--list .title:hover {text-decoration: underline;}.foot-sticky.hideon {transform: translate(0%, 100%);background-color: #e5e5e5;border-top: none;}.hideon .dirt-arrow svg {transform: rotate(-90deg);}.foot-news--list .title a:visited { color: #5182a5;}/*list-dropdown.css*/.dd-drp_icn { padding: 16px 18px 17px; float: right;}.dd-drp_icn.vj_icn { font-size: 27px; height: 50px; padding: 0; margin: 0 22px;}.dd-drp_icn svg circle { fill: #000;}.dd-nav { position: absolute; top: 100%; left: -16px; right: -16px; z-index: 1000; font-size: 14px; text-align: left; background-color: var(--light-m1); box-shadow: 0 36px 18px -18px rgba(0, 0, 0, 0.28); background-clip: padding-box; -webkit-transition: all 0.2s ease; opacity: 0; transform: translateY(15px); visibility: hidden; border-radius: 0px 0px 10px 10px;}.dd-lst { height: 400px; width: 100%; overflow-y: scroll;}.dd-nav_ul { width:100%; list-style: none; margin: 0; position: relative; float: left; padding: 0px 15px;}.dd-nav_hvr:hover>.dd-nav { opacity: 1; -webkit-transition: all 0.45s ease; transform: translateY(0px); visibility: visible;}.dd-nav_two { position: relative;}.dd-nav_two .dd-nav { left: -30px; right: auto; width: 440px;}.dd-nav_two.dd-ven .dd-nav { left: -16px; width: 510px;}.dd-nav_three { position: relative;}.dd-nav_three .dd-nav { left: -30px; right: auto; width: 680px;}.dd-nav_three-r { position: relative; cursor: pointer;}.dd-nav_three-r .dd-nav { right: auto; left: 0; width: 180px;}.t-icn-ltv .dd-nav .m-nv_lnk { /* border: 1px solid #eee; border-radius: 6px; */ display: block; padding: 0px; text-align: center;}.t-icn-ltv .dd-nav .m-nv_lnk:hover { border-color: #ccc;}.t-icn-ltv .m-nv_lgo { display: block; margin: 0 auto; max-width: 100px; opacity: 0.6; padding: 9px 0 3px 0; width: 100%;}.t-icn-ltv .m-nv_lnk:hover .m-nv_lgo { opacity: 1;}.dd-nav_ltv-r { position: relative;}.dd-nav_ltv-r .dd-nav { right: -95px; left: auto; width: 380px;}.dd-nav_ltv-ful { background-color: #f5f9fb; display: block; font-family: var(--ff-two); font-size: 18px; float: left; letter-spacing: 0.7px; padding: 18px 42px; text-align: center; width: 100%;}.dd-nav_ltv-ful:hover { background-color: #fffef3}.dd-nav_li { color: #666; list-style: none; opacity: 0; -webkit-transition: all 0.5s ease; transform: translateY(30%);}.dd-nav_hvr:hover .dd-nav_li { opacity: 1; -webkit-transition: all 0.75s ease; transform: translateY(0px);}.dd-nav .m-nv_lnk { display: block; padding: 5px 0px; height: auto;}.dd-ls { float: left; padding: 14px 30px;}.dd-ls_ul { display: inline-block; /* width: 100%; */ margin: 0 -8px 0; /* margin-bottom: 1rem; */}.dd-ls_li { margin-bottom: 1rem; width: 25%; float: left; padding: 0 8px; position: relative;}.dd-ls_cl1 .dd-ls_li { width: 100%;}.dd-ls_cl2 .dd-ls_li { width: 50%;}.dd-ls_cl3 .dd-ls_li { width: 33.333%;}.dd-ls_cl4 .dd-ls_li { width: 25%;}.dd-ls_cl5 .dd-ls_li { width: 20%;}.dd-ls_cl6 .dd-ls_li { width: 16.666%;}.dd-ls_cl7 .dd-ls_li { width: 14.285%;}.dd-ls_cl14 .dd-ls_li { width: 7.14%;}.dd-ls_br .dd-ls_li { border-bottom: 1px solid #eee; margin-bottom: 15px; padding-bottom: 15px;}.dd-ls_img img { border-radius: 6px; margin-bottom: 0; width: 100%;}.dd-ls_txt { font-size: 15px; font-weight: 400;}.dd-ls_tg { border-left: 2px solid #75a6e4; color: #75a6e4; display: inline-block; font-size: 12px; font-weight: 500; line-height: 1; left: 0; margin-bottom: 8px; padding: 0 6px 0 10px; position: relative; text-transform: uppercase; top: 0;}.dd-ls_tg.tg_b { border-left: 2px solid #77c17d; color: #77c17d;}.dd-ls_tg.tg_c { border-left: 2px solid #e8b845; color: #e8b845;}.dd-ls_tg.tg_d { border-left: 2px solid #e67a60; color: #e67a60;}.dd-ls_tg.tg_e { border-left: 2px solid #d073a6; color: #d073a6;}.sm-in { display: inline-block; font-size: 16px; height: auto; letter-spacing: 0.7px; vertical-align: middle;}.vj-right-arrow.sm__ic { background: #5693e1; border: 1px solid #4684d4; border-radius: 30px; box-shadow: 0 2px 6px rgba(0, 0, 0, 0.17); color: #fff; display: block; font-size: 27px; line-height: 42px; height: 60px; margin: 0 auto 10px; padding: 9px; width: 60px; position: relative; text-align: center;}.sm__ic .circle-ripple { margin: 6px;}.sm__tt { display: block;}.dd-news { float: left; margin: 30px 0; padding: 0px 30px; width: 50%;}.dd-news .lsm-li { padding: 0 0 16px 0; border: 0 none;}.dd-news .lsm-li:last-child { padding-bottom: 0;}.dd-ls_img { position: relative; display: inline-block; margin-bottom: 0.6rem; width: 100%;}.dd-ven .dd-ls_li { text-align: center; margin: 8px 0 8px; padding: 0 3px;}.dd-ven .dd-ls_img { display: inline-block; padding: 13px 12px 16px;}.dd-ven_img { float: left; margin-right: 21px; width: 70px;}.dd-ven .dd-nav .dd-nav_li { border-bottom: 1px solid #f7f7f7;}.dd-ven .dd-nav .m-nv_lnk { font-size: 15px; letter-spacing: 0.6px; padding: 16px 12px 16px 16px;}.dd-ven .dd-ls_img img { border-radius: 0;}.dd-ven .dd-ls_tg { background-color: #344d5f; border-radius: 4px; color: #ffffff; display: inline-block; font-family: var(--ff-two); font-size: 14px; font-weight: 500; letter-spacing: 0; width: 100%; padding: 0; padding: 3px 0; transition: 0.6s ease all;}.dd-ls_li a { background: #fff; margin: 0 auto;}.dd-ls_li a:hover { color: var(--gray);}.dd-ven .dd-ls_li:nth-child(1) .dd-ls_tg { background-color: #729de6;}.dd-ven .dd-ls_li:nth-child(2) .dd-ls_tg { background-color: #ce8fca;}.dd-ven .dd-ls_li:nth-child(3) .dd-ls_tg { background-color: #92ca97;}.dd-ven .dd-ls_li:nth-child(4) .dd-ls_tg { background-color: #d87676;}.dd-ven .dd-ls_li:nth-child(5) .dd-ls_tg { background-color: #929a9e;}.dd-ven .dd-ls_li:nth-child(6) .dd-ls_tg { background-color: #758dbf;}.dd-ven .dd-ls_li:nth-child(7) .dd-ls_tg { background-color: #c77b7b;}.dd-ven .dd-ls_li:nth-child(8) .dd-ls_tg { background-color: #5c666b;}.dd-ven .dd-ls_li:nth-child(9) .dd-ls_tg { background-color: #6c84ad;}.dd-ven .dd-ls_li:nth-child(10) .dd-ls_tg { background-color: #5c656a;}.dd-ven .dd-ls_li:nth-child(11) .dd-ls_tg { background-color: #e0c56b;}.dd-ven .dd-ls_li:nth-child(12) .dd-ls_tg { background-color: #54abda;}.dd-ven .dd-ls_li:nth-child(13) .dd-ls_tg { background-color: #ce7775;}.dd-ven .dd-ls_li:nth-child(14) .dd-ls_tg { background-color: #bd70aa;}.dd-ven .dd-ls_li a:hover .dd-ls_tg { background: #000;}.m-nv_li.dd-nav_hvr .dd-nav.live-tv { min-height: initial;}.live_txt { font-family: var(--ff-one); text-transform: uppercase; font-size: 14px; font-weight: 500; text-align: center; padding: 0; margin: 0;}.live-tvgrp { padding: 20px;}.live-tvgrp .dd-nav_ul { width: 100%; padding: 0 0 3px 0; display: flex; align-items: center; justify-content: space-around; border-bottom: solid 5px #f5f5f5;}.live-tvgrp .dd-nav_li { width: 30%;}.live-tvgrp .dd-nav_li a:hover:before, .live-tvgrp .dd-nav_li a.active:before { content: \"\"; width: 100%; height: 5px; background-color: #e93f33; position: absolute; bottom: -8px; left: 0;}.player-cont { width: 100%; position: relative;}.play_icon { width: 64px; height: 64px; position: absolute; top: 50%; left: 50%; transform: translate(-50%, -50%); background: url(../images/player-icon.svg) center center no-repeat; opacity: 0.75;}.player-cont h3 { font-size: 14px; font-family: var(--ff-one); color: var(--ttl); padding: 10px 0; margin: 0;}.live-tvgrp .dd-nav_li a.active .m-nv_lgo { opacity: 1;}#search_latest .lsm-li { padding: 0 0 16px 0; border: 0 none; display: flex; align-items: center;}#search_latest span.img-gr { width: 125px; height: 77px; overflow: hidden; border-radius: 4px; display: block; margin-right: 15px;}#search_latest h2.lsm-txt { font-size: 15px;}.sp-hd { display: inline-block; position: relative; width: 100%;}.sp-cn { display: inline-block; margin-bottom: 15px; position: relative; width: 100%;}.stk-t_bg { cursor: pointer; position: absolute; z-index: 2; top: 0; left: 0; height: 100%; width: 100%; background-color: var(--white); opacity: 0; visibility: hidden; -webkit-transition: opacity .6s, visibility .6s; -moz-transition: opacity .6s, visibility .6s; transition: opacity .6s, visibility .6s; box-shadow: 0 1px 6px rgba(0, 0, 0, 0.09)}.j-stk-dn .stk-t_bg { opacity: 1; visibility: visible; transition-delay: 0s;}.search-active .stk-t_bg { background-color: #fff; opacity: 1; visibility: visible; transition-delay: 0s;}.ins_instory_dv_cont img { background: #f1f1f1;}.disclaimer .cmt_btn { margin-top: 60px;}.ins_storybody > p:nth-of-type(1) {display: inline;}.ovu-video-description:after{ content:\"Disclaimer: This video is sourced from a third party which is responsible for the video and the contents thereof. The facts and opinions appearing in the video do not reflect the views of NDTV.\";clear: left; width: 100%;display: block; font-style: italic; color: #757575 !important; line-height: 16px; font-size: 11px; font-weight: 400; border-top: solid 1px #cccccc; padding-top: 10px; margin-top: 10px; margin-bottom: 5px; margin-bottom: 0;}.new_nextarrow, .new_prevarrow { z-index: 9; position: fixed; top: 50%; right: 0; border-radius: 5px 0 0 5px; padding: 25px 8px; box-shadow: 2px 2px 4px 0 #ccc; border: 1px solid #f2f2f2; background-color: #fff;}.new_prevarrow { left: 0; right: auto; border-radius: 0 5px 5px 0; padding: 25px 0 25px 6px;}.new_nextarrow .arrow { float: right;}.new_prevarrow .arrow { float: left; margin-right: 10px;}.new_nextarrow a, .new_prevarrow a { font-size: 14px; line-height: 20px; color: #666;}.new_nextarrow .arrowstory, .new_prevarrow .arrowstory { display: block; width: 200px; font-size: 16px; line-height: 22px; color: #666; font-style: italic;}.new_prevarrow .arrowstory { float: right;}.new_nextarrow .arrowstory:hover a, .new_prevarrow .arrowstory:hover a{color: var(--clr-lnk);text-decoration: underline;}.backtondtv{float:right;position:relative; z-index:0;margin-left: 10px;}.backtondtv a{position:relative;width:189px;height:34px;float:left;display:block;box-sizing:border-box;font-size:0;border-radius:4px;overflow:hidden;box-shadow:2px 2px 3px rgba(0,0,0,.12)}.backtondtv a span{position:relative;z-index:9;display:block}.j-stk-dn .backtondtv {display: none;}/*responsive.css*/.hid_sml-dvc{ display:block;}.shw_sml-dvc{ display:none;}/* For 1200px & Below*/@media (max-width:1200px){ .hid_sml-dvc{ display:none; } .shw_sml-dvc{ display:block; } .cmt_btn:after, .cmt_btn:before{ width:17%; } .s-ls .s-ttl{ font-size:18px; padding-right:0; } .s-ls .s-ttl .s-ttl_s{ margin-left:0; } .ss .ss-lk.hid_sml-dvc{ display:none; } .sp-wrp{ padding:0; }}/* For 1200px & Below*/@media (max-width:900px){ .hid_xs-dvc{ display:none; } .shw_xs-dvc{ display:block; } .dd-nav_three-r .dd-nav{ right:-100px; } .tf-scl{ display:none; }}/*side-widget.css*//* .s-lf-stky { position: -webkit-sticky; position: sticky; top: 90px;} */.s-lf-wid {display: inline-block;width: 200px;}.s-tx:before {background-image: url(\"data:image/svg+xml,%3Csvg width='6' height='6' viewBox='0 0 6 6' xmlns='http://www.w3.org/2000/svg'%3E%3Cg fill='%23989898' fill-opacity='0.4' fill-rule='evenodd'%3E%3Cpath d='M5 0h1L0 6V5zM6 5v1H5z'/%3E%3C/g%3E%3C/svg%3E\");background-position: 50%;background-repeat: repeat-x;content: \"\";height: 100%;left: 0;position: absolute;width: 100%;top: 0;display: none;}.s-tx .s-ttl {background-color: none;line-height: 1.6;margin-bottom: 0;padding: 0;padding-top: 10px;font-family: var(--ff-one);font-size: 14px;letter-spacing: 1px;background-color:#f5f5f5;border-radius:3px;padding:3px;width:100%;text-align:center;}.s-ttl {display: inline-block;font-family: var(--ff-two);font-size: 19px;letter-spacing: 0.7px;padding-right: 15px;position: relative;text-transform: uppercase;}.s-ttl .s-ttl_s {margin-left: 5px;}.s-ls {float: left;width: 100%;}.s-ls_ul {}.trndngWdgt .s-tx {background: none;}.trndngWdgt .s-ls_li > a {width: 58px;height: 58px;float: left;margin-right: 15px;text-decoration: underline;}.trndngWdgt .s-ls_li > a:hover {text-decoration: underline;}.trndngWdgt .s-ls_li img {border-radius: 0;}.trndngWdgt.rltdwdgt .s-ls_li > a, .trndngWdgt.rltdwdgt .s-ls_txt, .trndngWdgt.rltdwdgt .s-ls_li {width: 100%;height: auto;}.trndngWdgt.rltdwdgt ul {counter-reset: num_cntr;list-style: none;padding-left: 23px}.trndngWdgt.rltdwdgt ul li {counter-increment: num_cntr;position: relative;}.trndngWdgt.rltdwdgt ul li:before {content: counter(num_cntr);padding: 0px 1px;font-size: 14px;line-height: 18px;border-bottom: 1px solid #222;position: absolute;top: -5px;left: -20px;font-weight: bold;}.s-ls_li {margin-bottom: 1rem;float: left;width: 100%;}.s-ls_br .s-ls_li {margin-bottom: 15px;padding-bottom: 15px;}.s-ls_img img {margin-bottom: 0.5rem;width: 100%;}.s-ls_txt {color: var(--clr-lnk);font-size: 14px;font-weight: 400;line-height: 1.56;width: calc(100% - 75px);float: left;margin-top: -5px;}.s-ls_txt:hover {text-decoration: underline;}.add-rhs {display: block;float: right;width: 300px;}.ins_keyword_rhs { float: left; margin-bottom: 15px;}.newins_widhead { float: left; width: 100%; margin-bottom: 5px; }.newins_widhead span { font-size: 16px; font-weight: 700; text-transform: uppercase;}.ins_keyword_rhs a { background-color: #f5f5f5; margin: 0px 5px 5px 0px; padding: 5px; border-radius: 3px; font-size: 13px; display: inline-block; line-height: 1;}/***ott widget**/.ndmv-celeb-fashion { float: left;}.ott-award * {box-sizing: border-box;margin: 0;padding: 0;}.ott-award {width: 100%;float: left;margin: 40px auto;}.ott-award a {text-decoration: none;}.ott-award_inner {width: 100%;background-color: #E9E1D2;border-radius: 11px;float: left;position: relative;}.ott-award_inner::before {content: \"\";position: absolute;left: 50%;transform: translateX(-50%);top: -50px;display: block;width: 118px;height: 118px;border-radius: 50%;background-color: #E9E1D2;z-index: 0;}.ott-award_wrap {width: 100%;background: #000000 url(bg.jpg) center center no-repeat;background-size: cover;border-radius: 11px;margin-top: 10px;position: relative;z-index: 1;}.ott-award_wrap::after {content: \"\";display: block;position: absolute;left: 0;top: 0;width: 100%;height: 100%;opacity: 0.85;background-image: linear-gradient(180deg, #11040D 6%, rgba(28, 12, 23, 0.44) 100%);border-radius: 11px;}.ott-award_logo {width: 104px;position: absolute;z-index: 9;top: -50px;left: 50%;transform: translateX(-50%);margin: 0px auto;}.ott-award_logo img {width: 100%;display: block;}.ott-award_info {width: 100%;padding: 60px 20px 30px 20px;font-family: 'Montserrat';font-weight: 400;position: relative;z-index: 9;}.info-1 {font-size: 12px;color: #FFE5A5;letter-spacing: 0.2px;text-align: center;line-height: 17px;padding-top: 5px;}.info-2 {font-size: 19px;line-height: 24px;color: #ECC56E;letter-spacing: 0;text-align: center;text-shadow: 0 2px 4px rgba(167, 134, 75, 0.38);font-weight: 300;padding-top: 5px;}.vote-now_btn {display: block;margin: 0px;background-image: linear-gradient(180deg, #000000 55%, #57421D 100%);border: 1px solid #A5854A;border-radius: 24px;padding: 6px 18px;font-size: 12px;color: #FFFFFF;letter-spacing: 0.3px;text-align: center;text-decoration: none;text-transform: uppercase;position: absolute;left: 50%;bottom: -12px;transform: translateX(-50%);}.vote-now_btn:hover {color: #FFFFFF;background-image: linear-gradient(180deg, #57421D 55%, #000000 100%);}/***ott widget**/.trndngWdgt.wthWs ul li:before{display: none;}.trndngWdgt.wthWs ul{padding-left:0}.trndngWdgt.wthWs ul li{display:flex; border-bottom: 1px solid #EDEDED; margin-top: 15px; padding-bottom: 28px;}.trndngWdgt.wthWs ul li .trndImg{flex-shrink: 0; width:50px; max-height:68px; margin-right:10px; overflow:hidden; border-radius: 4px;}.trndngWdgt.wthWs ul li:first-child{margin-top:15px;}.trndngWdgt.wthWs ul li .s-ls_txt{font-weight: 500;line-height: 18px; margin-top: -3px;}.trndngWdgt.wthWs ul li .s-ls_txt:hover{text-decoration:none;}.trndngWdgt.wthWs ul li .trndImg img{border-radius: 4px;}.trndngWdgt.wthWs .trndCatNm{background:url(https://www.ndtv.com/static/web/images/card-icon.svg) left center no-repeat; background-size: 13px; padding-left: 20px; color:#000; letter-spacing: normal; margin-bottom: 2px; display:block; font-weight: 400;}.trndngWdgt.wthWs .trndNumSlds{font-size: 11px; color:#6E6E6E; letter-spacing: -0.06px; margin-top: 2px; display:block; font-weight: 400;}/*tooltip.css*/.ttp .tip.on-bottom:after { border-left: 7px solid transparent; border-right: 7px solid transparent;}.ttp .tip { position: absolute; width: 100px; color: #fff; font-family: var(--ff-one); font-size: 14px; font-weight: 400; line-height: 1.6; text-align: center; border-radius: 4px; background-color: var(--dark); box-shadow: 0 2px 6px rgba(0,0,0,0.07); padding: 4px 8px; -webkit-box-sizing: border-box; box-sizing: border-box; cursor: auto; z-index: 10; opacity: 0; visibility: hidden; -webkit-transition: all .25s ease-in; transition: all .25s ease-in; text-transform: uppercase;}.ttp .tip:after { position: absolute; width: 0; height: 0; content: '';}.ttp .tip.on-bottom { bottom: -51px; left: 50%; margin-left: -52px;}.m-nv .ttp .tip.on-bottom { bottom: auto; top: 71px;}.ttp .tip.on-bottom:after { top: -6px; left: 50%; margin-left: -4px; border-bottom: 7px solid #343a40;}.ttp:hover .tip { opacity: 1; visibility: visible;}.ttp:hover .tip.on-bottom { -webkit-transform: translateY(16px); transform: translateY(-16px);}.ttp-lnk { color: #fff; text-decoration: underline;}.ttp-lnk:hover { color: #d7e3f1;}.t-icn-nt.ttp .tip { background-color: #308cd8; font-size: 14px; line-height: 1.7; margin-left: -100px; padding: 10px; width: 200px; text-transform: capitalize;}.t-icn-nt.ttp .tip.on-bottom:after { border-bottom-color: #308cd8;}.t-icn-nt.ttp .ttp-lnk { background-color: #ffffff; border-radius: 3px; color: #335f84; display: block; margin-top: 10px; padding: 4px 0; text-decoration: none;}.t-icn-nt.ttp .ttp-lnk:hover { background-color: #e0f1ff;}/*base.css*//*! * NDTV Base v1.0.0 */ :root { --ttl: #2E2E2E; --txt: #2E2E2E; --txt-b: #6C6C6C; --txt-c: #999; --stk-hd: #fffef3; --red: #e93f33; --gray: #666; --dark: #555555; --clr-b: #dc5a5a; --light-c: #e7e7e7; --light-b: #fce9d8; --clr-a: #245e8a; --clr-c: #ca8484; --clr-d: #19a919; --clr-lnk: #245e8a; --black: #000; --gray-dark: #343a40; --white: #fff; --light-m: #fdfdfd; --light-m1: #fafafa; --light: #f7f7f7; --light-d: #fffef3; --gray-bg: #ddd; --gray-bg1: #bfbfbf; --ff-one: 'Roboto', sans-serif; --ff-two: 'Roboto Condensed', sans-serif; --ff-hindi: 'Noto Sans', sans-serif; --ff-bengali: 'Noto Sans Bengali UI', sans-serif; --ff-tamil: 'Noto Sans Tamil', sans-serif;}*, *::before, *::after { -webkit-box-sizing: border-box; box-sizing: border-box;}html { font-family: sans-serif; line-height: 1.6; -webkit-text-size-adjust: 100%; -ms-text-size-adjust: 100%; -ms-overflow-style: scrollbar; -webkit-tap-highlight-color: transparent;}@-ms-viewport { width: device-width;}article, aside, dialog, figcaption, figure, footer, header, hgroup, main, nav, section { display: block;}body { margin: 0; font-family: var(--ff-one); font-size: 1rem; font-weight: 400; line-height: 1.7; color: var(--txt); text-align: left; background-color: var(--white); min-width: 1260px; overflow-x: hidden;}[tabindex=\"-1\"]:focus { outline: 0 !important;}hr { -webkit-box-sizing: content-box; box-sizing: content-box; height: 0; overflow: visible;}p { margin-top: 0; margin-bottom: 1.5rem;}ol, ul, dl { list-style: none; margin: 0; padding: 0;}ol ol, ul ul, ol ul, ul ol { margin-bottom: 0;}blockquote { margin: 0 0 1rem;}b, strong { font-weight: bolder;}small { font-size: 80%;}*, a, button, input, select, textarea { -webkit-tap-highlight-color: transparent;}a { color: var(--txt);}a:hover, a:focus { color: var(--clr-a); text-decoration: none;}a, button, [role=\"button\"], input[type=\"button\"], input[type=\"submit\"], input[type=\"reset\"] { cursor: pointer;}a, button, .btn, .form-control { text-decoration: none; -webkit-transition: all 200ms linear 0ms; transition: all 200ms linear 0ms;}pre, code, kbd, samp { font-family: monospace, monospace; font-size: 1em;}pre { margin-top: 0; margin-bottom: 1rem; overflow: auto; -ms-overflow-style: scrollbar;}figure { margin: 0 0 1rem;}img { max-width: 100%; vertical-align: middle; border-style: none;}svg:not(:root) { overflow: hidden;}::-webkit-file-upload-button { font: inherit; -webkit-appearance: button;}h1, h2, h3, h4, h5, h6, .h1, .h2, .h3, .h4, .h5, .h6 { color: var(--ttl); font-family: var(--ff-one); font-weight: 600; line-height: 1.4; margin-bottom: 16px; margin-top: 0;}h1, .h1 { font-size: 2.5rem;}h2, .h2 { font-size: 2rem;}h3, .h3 { font-size: 1.75rem;}h4, .h4 { font-size: 1.5rem;}h5, .h5 { font-size: 1.25rem;}h6, .h6 { font-size: 1rem;}.clear:before, .clear:after { content: ''; clear: both; display: block;}/*---- Container ----*/.container { width: 100%; max-width: 1260px; margin-right: auto; margin-left: auto;}.row { display: -webkit-box; display: -ms-flexbox; display: flex; -ms-flex-wrap: wrap; flex-wrap: wrap;}.col-180, .col-200, .col-300, .col-650, .col-900 { position: relative; width: 100%; min-height: 1px;}.col-12 { -webkit-box-flex: 0; -ms-flex: 0 0 100%; flex: 0 0 100%; max-width: 100%;}.col-180 { -webkit-box-flex: 0; -ms-flex: 0 0 180px; flex: 0 0 180px; max-width: 180px;}.col-200 { -webkit-box-flex: 0; -ms-flex: 0 0 200px; flex: 0 0 200px; max-width: 200px;}.col-300 { -webkit-box-flex: 0; -ms-flex: 0 0 300px; flex: 0 0 300px; max-width: 300px;}.col-560 { -webkit-box-flex: 0; -ms-flex: 0 0 560px; flex: 0 0 560px; max-width: 560px;}.col-650 { -webkit-box-flex: 0; -ms-flex: 0 0 650px; flex: 0 0 650px; max-width: 650px;}.col-765 { -webkit-box-flex: 0; -ms-flex: 0 0 765px; flex: 0 0 765px; max-width: 765px;}.col-800 { -webkit-box-flex: 0; -ms-flex: 0 0 800px; flex: 0 0 800px; max-width: 800px;}.col-855 { -webkit-box-flex: 0; -ms-flex: 0 0 855px; flex: 0 0 855px; max-width: 855px;}.col-885 { -webkit-box-flex: 0; -ms-flex: 0 0 885px; flex: 0 0 885px; max-width: 885px;}.col-890 { -webkit-box-flex: 0; -ms-flex: 0 0 890px; flex: 0 0 890px; max-width: 890px;}.col-900 { -webkit-box-flex: 0; -ms-flex: 0 0 900px; flex: 0 0 900px; max-width: 900px;}.content { margin-bottom: 5rem;}.mr-60 { margin-right: 60px;}.mr-75 { margin-right: 75px;}@media screen and (max-width: 1200px){body{ overflow-x: auto;}}/*header.css*/.header { background-color: var(--white); position: relative;}.top-header { width: 100%; display: flex; align-items: center; justify-content: space-between;}/*--- Header Top NDTV Logo ---*/.t-md { /* border-bottom: 1px solid rgba(0, 0, 0, 0.06); */}.ndtv-logo-wrp { padding: 10px 0px; margin: 0 16px 0 0px; transition: all 0.3s linear;}.ndtv-logo { display: inline-block; float: left; position: relative; z-index: 6;}.ndtv-logo-img { display: block; float: left; height: 18px;}.j-stk-dn .ndtv-logo-img { height: 15px;}.logo-corona .ndtv-logo-img { height:28px;}.logo-corona span { position: absolute; top: -6px; right: 0; display: block; font-size: 10px; font-weight: 500; letter-spacing: 0.5px; color: #D8262C; text-transform: uppercase;}.ntopnav_wrap .ndtvlogo span { position: absolute; top: -4px; right: 0; display: block; font-size: 10px; font-weight: 500; letter-spacing: 0.5px; color: #D8262C; text-transform: uppercase;}.coronacont .m-nv_lf { float: left; max-width: calc(100% - 500px); width: 100%;}.logo-corona .ndtvlogo { float: left; font-size: 24px; margin-right: 15px; padding: 15px 0px 0 0; font-weight: 500; max-width: 230px; position:relative;}.j-stk-dn .ndtv-logo-wrp { margin: 0 25px;}.ndtv_bdg { color: #333333; display: inline-block; font-family: var(--ff-two); font-size: 16px; float: left; margin-left: -2px; vertical-align: bottom; text-transform: capitalize;}.ndtv-logo-alt .ndtv-logo-img { height: 48px;}.ndtv-logo-alt { padding: 7px 0px 0 15px;}.t-icn-nv { cursor: pointer; background-repeat: no-repeat; background-position: center; text-align: center; background-size: 19px; float: right; height: 50px; position: relative; width: 47px; display: flex; align-items: center; justify-content: flex-end;}.t-icn-nv:first-child { width: 25px;}.t-md .t-icn-nv { height: 71px;}.t-icn-nv .vj_icn { font-size: 26px; height: 50px; width: 50px; margin: 0 auto;}.t-icn-nv:hover .vj_icn { color: #dc5a5a;}.nav_icn { transform: scale(0); width: 15px; display: none; flex-direction: column; justify-content: space-between; height: 14px;}.nav_icn span { width: 100%; transition: all 0.3s ease-in; height: 2px; background: #393939; display: block;}.nav_icn.crsBt span:nth-child(1) { transform: translateY(7px) rotate(45deg); -webkit-transform: translateY(7px) rotate(45deg); -moz-transform: translateY(7px) rotate(45deg); -ms-transform: translateY(7px) rotate(45deg); -o-transform: translateY(7px) rotate(45deg);}.nav_icn.crsBt span:nth-child(3) { transform: translateY(-5px) rotate(-45deg); -webkit-transform: translateY(-5px) rotate(-45deg); -moz-transform: translateY(-5px) rotate(-45deg); -ms-transform: translateY(-5px) rotate(-45deg); -o-transform: translateY(-5px) rotate(-45deg);}.nav_icn.crsBt span:nth-child(2) { transform: translateX(-20px); opacity: 0;}.j-stk-dn .nav_icn { display: flex; z-index: 99; transform: scale(1)}.searchBtn { display: none; transform: scale(0);}.j-stk-dn .searchBtn { display: block; z-index: 99; margin-left: -5px; width: auto; transform: scale(1); position: relative; display: flex; justify-content: center; align-content: center;}.j-stk-dn .searchBtn:after { width: 1px; height: 20px; background: #707070; content: ''; position: absolute; top: 15px; right: -25px}nav.m-nv.navActv .stk-t_bg, nav.m-nv.navActv .stk-t, nav.m-nv.navActv .searchBtn { opacity: 0; visibility: hidden;}#___ndtvspldiv b{ background: url(\"../static/web/images/noti.svg\") center center no-repeat; cursor: pointer; background-repeat: no-repeat;background-position: center;text-align: center;background-size: 19px;float: right;height: 50px;position: relative;width: 47px;display: flex;align-items: center;justify-content: flex-end;}.t-icn-nv .popover { left: 23px!important;}.j-stk-dn .top-header .fright { display: none;}.logo-profit img, .j-stk-dn .logo-profit .ndtv-logo-img { height: 25px;}.t-icn-nv .popover { left: 2px; top: 48px;}.electionTxt{font-size: 24px; color:#000; position: absolute; top:0px; left: calc(100% + 5px); line-height:18px;}.j-stk-dn .electionTxt {font-size: 20px; z-index: 3; top: -1px; position: relative; left: 3px;}.budgetTxt{font-size: 16px;color:#000;position: absolute;top: -4px;width: 95px;left: calc(100% + 5px);}.j-stk-dn .budgetTxt {font-size: 15px;z-index: 3;position: relative;left: 3px;display: flex;line-height: 1;top: 2px;}.webst { position: relative;}.webst:after { content: \"New\"; position: absolute; top: -5px; color: #fff; background-color: #FF2E2E; padding: 2px; font-size: 9px; border-radius: 2px; font-weight: bold; line-height: 1;}/*main-nav.css*//* .m-nv_lf{ flex: none; margin-right:auto;} */.m-nv { background-color: var(--light-m1); top: 0; position: -webkit-sticky; position: sticky; z-index: 99;}.m-nv:before { box-shadow: 0 2px 16px rgba(0, 0, 0, 0); bottom: 0; content: \"\"; height: 100%; left: 0px; right: 0; position: absolute; z-index: -137;}.nav_stk .m-nv:before { box-shadow: 0 2px 12px rgba(0, 0, 0, 0.2);}.m-nv_ul { display: inline-block; margin: 0; padding: 0; font-size: 0; float: left;}.m-nv_li { display: flex; align-items: center; justify-content: center; float: left;}.m-nv_lnk { color: var(--dark); display: inline-flex; align-items: center; font-family: var(--ff-one); font-size: 13px; font-weight: 400; position: relative; text-transform: uppercase; padding: 16px; height: 50px;}.m-nv_li.dd-nav_hvr .dd-nav { /* min-height: 215px; */}.dd-nav_hvr:hover>.m-nv_lnk, .m-nv_lnk:hover, .dd-nav_hvr:hover svg, .dd-nav_hvr:hover svg g { color: var(--clr-a); fill: var(--clr-a);}/* .m-nv_lnk:before { content: \"\"; position: absolute; bottom: 0px; left: 0px; right: 0px; width: 0px; height: 2px; opacity: 0; margin: auto; background: var(--clr-a); transition: all 0.3s ease-in-out;}.dd-nav_hvr:hover > .m-nv_lnk:before, .m-nv_lnk:hover:before, .m-nv_lnk:focus:before { width: 100%; opacity: 1;} */.m-nv_act {}.m-nv_bkp { height: 68px; position: absolute; width: 100%;}.j-stk-dn.j-stk-up .m-nv { position: fixed; top: 0; left: 0; width: 100%;}.j-stk-dn.j-stk-up .m-nv_bkp { position: relative;}.play-video-icon { background-color: rgba(0, 0, 0, 0.38); background-image: url(data:image/svg+xml;utf8;base64,PD94bWwgdmVyc2lvbj0iMS4wIiBlbmNvZGluZz0iaXNvLTg4NTktMSI/Pgo8IS0tIEdlbmVyYXRvcjogQWRvYmUgSWxsdXN0cmF0b3IgMTYuMC4wLCBTVkcgRXhwb3J0IFBsdWctSW4gLiBTVkcgVmVyc2lvbjogNi4wMCBCdWlsZCAwKSAgLS0+CjwhRE9DVFlQRSBzdmcgUFVCTElDICItLy9XM0MvL0RURCBTVkcgMS4xLy9FTiIgImh0dHA6Ly93d3cudzMub3JnL0dyYXBoaWNzL1NWRy8xLjEvRFREL3N2ZzExLmR0ZCI+CjxzdmcgeG1sbnM9Imh0dHA6Ly93d3cudzMub3JnLzIwMDAvc3ZnIiB4bWxuczp4bGluaz0iaHR0cDovL3d3dy53My5vcmcvMTk5OS94bGluayIgdmVyc2lvbj0iMS4xIiBpZD0iQ2FwYV8xIiB4PSIwcHgiIHk9IjBweCIgd2lkdGg9IjE2cHgiIGhlaWdodD0iMTZweCIgdmlld0JveD0iMCAwIDE2My44NjEgMTYzLjg2MSIgc3R5bGU9ImVuYWJsZS1iYWNrZ3JvdW5kOm5ldyAwIDAgMTYzLjg2MSAxNjMuODYxOyIgeG1sOnNwYWNlPSJwcmVzZXJ2ZSI+CjxnPgoJPHBhdGggZD0iTTM0Ljg1NywzLjYxM0MyMC4wODQtNC44NjEsOC4xMDcsMi4wODEsOC4xMDcsMTkuMTA2djEyNS42MzdjMCwxNy4wNDIsMTEuOTc3LDIzLjk3NSwyNi43NSwxNS41MDlMMTQ0LjY3LDk3LjI3NSAgIGMxNC43NzgtOC40NzcsMTQuNzc4LTIyLjIxMSwwLTMwLjY4NkwzNC44NTcsMy42MTN6IiBmaWxsPSIjRkZGRkZGIi8+CjwvZz4KPGc+CjwvZz4KPGc+CjwvZz4KPGc+CjwvZz4KPGc+CjwvZz4KPGc+CjwvZz4KPGc+CjwvZz4KPGc+CjwvZz4KPGc+CjwvZz4KPGc+CjwvZz4KPGc+CjwvZz4KPGc+CjwvZz4KPGc+CjwvZz4KPGc+CjwvZz4KPGc+CjwvZz4KPGc+CjwvZz4KPC9zdmc+Cg==); background-position: 16px 14px; background-repeat: no-repeat; background-size: 18px; border: 2px solid rgba(249, 249, 249, 0.91); border-radius: 50px; box-shadow: 0 2px 6px rgba(0, 0, 0, 0.3); display: inline-block; height: 51px; margin: 0 0 8px 0; position: absolute; left: 10px; width: 51px; bottom: 0; z-index: 2;}.ltv__vd.img__full { background-color: #000000; border: 1px solid rgba(0, 0, 0, 0.3); border-radius: 8px; display: inline-block; margin: 0; overflow: hidden; font-size: 0; position: relative; width: 100%;}.ltv__lo { background-image: url(../images/NDTV_24x7.svg); background-repeat: no-repeat; background-position: 50%; background-size: 126px; bottom: 0; left: 0; position: absolute; right: 0; top: 0; z-index: 1;}.ltv__rpl { display: inline-block; position: relative; width: 100%;}.ltv__lk { display: inline-block; position: relative; width: 100%;}/*search.css*/.search-active { overflow: hidden;}.search-active .search-input { opacity: 1; transform: none; pointer-events: all; transition-delay: 0.2s;}.search-active .s-wr .cls-btn { right: 17%; opacity: 1;}.search-active .control { cursor: default; /* right: 172%; */}.search-active .control .btn-material {/* -webkit-animation: sc-slide-in .2s; */-moz-animation: sc-slide-in .2s;/* animation: sc-slide-in .2s; */opacity: 1;visibility: visible;transition-delay: 0s;}@-webkit-keyframes sc-slide-in { 0% { -webkit-transform: translateY(-100%); } 100% { -webkit-transform: translateY(0); }}@-moz-keyframes sc-slide-in { 0% { -moz-transform: translateY(-100%); } 100% { -moz-transform: translateY(0); }}@keyframes sc-slide-in { 0% { -webkit-transform: translateY(-100%); -moz-transform: translateY(-100%); -ms-transform: translateY(-100%); -o-transform: translateY(-100%); transform: translateY(-100%); } 100% { -webkit-transform: translateY(0); -moz-transform: translateY(0); -ms-transform: translateY(0); -o-transform: translateY(0); transform: translateY(0); }}@-webkit-keyframes s-pd { 0% { -webkit-transform: translateY(-100%); } 100% { -webkit-transform: translateY(0); }}@-moz-keyframes s-pd { 0% { -moz-transform: translateY(-100%); } 100% { -moz-transform: translateY(0); }}@keyframes s-pd { 0% { -webkit-transform: translateY(-100%); -moz-transform: translateY(-100%); -ms-transform: translateY(-100%); -o-transform: translateY(-100%); transform: translateY(-100%); } 100% { -webkit-transform: translateY(0); -moz-transform: translateY(0); -ms-transform: translateY(0); -o-transform: translateY(0); transform: translateY(0); }}.search-active .control .icon-material-search { opacity: 0;}/* Close Icon */.s-wr .cls-btn { border: 3px solid rgb(195, 195, 195); border-radius: 30px; top: 6px; right: 12%; margin: 0; cursor: pointer; height: 40px; width: 40px; opacity: 0; transition: all 0.2s ease-in-out;}.icon-close:hover { transform: rotate(0);}.s-wr .cls-btn div:first-child { transform: translate3d(7px, 17px, 0px) rotate3d(0, 0, 1, -45deg);}.s-wr .cls-btn div:last-child { transform: translate3d(8px, 15px, 0px) rotate3d(0, 0, 1, 45deg);}/* Search Input */.search-input { height: 65px; position: absolute; top: 50%; left: 22%; margin-top: -33px; width: 56%; pointer-events: none; opacity: 0; transform: translate(0, -30px); transition: all 0.2s ease-in-out; transition-delay: 0s; z-index: 3; max-width: 770px; left: 0; right: 0; margin-left: auto; margin-right: auto;}.search-input input { color: #000; font-size: 1.2rem; width: 100%; border: 0 none; border-bottom: 2px solid rgba(0, 0, 0, 0.11); /* border-radius: 6px; */ background: #fff; -webkit-appearance: none; box-sizing: border-box; margin: 7px 0; padding: 0 153px 0 0; outline: 0; font-weight: 400; line-height: 48px;}.search-input ::-webkit-input-placeholder { color: #696f7d;}.search-input :-moz-placeholder { color: #696f7d; opacity: 1;}.search-input ::-moz-placeholder { color: #696f7d; opacity: 1;}.search-input :-ms-input-placeholder { color: #696f7d;}/* Control btn */.control { cursor: pointer;}.control .btn-material {position: absolute;z-index: 2;top: 0;left: 0;height: 100%;width: 100%;background: #ffffff;opacity: 0;visibility: hidden;-webkit-transition: opacity .6s,visibility .6s;-moz-transition: opacity .6s,visibility .6s;transition: opacity .36s,visibility .36s;}.control .btn-material:hover { box-shadow: 0 10px 20px rgba(0, 0, 0, 0.19), 0 6px 6px rgba(0, 0, 0, 0.23);}.control .icon-material-search { color: #fff; position: absolute; top: -10px; right: 78px; transition: opacity 0.3s ease-in-out;}/* Utilities */.p-y-md { padding-top: 2.8rem; padding-bottom: 2.8rem;}.s-wr { pointer-events: none; position: absolute; left: 0; right: 0; top: 0; bottom: 0; overflow: hidden;}.search-active .s-wr { pointer-events: auto;}.sc-q-lnk .dd-nav_ul { background-color: transparent; width: 100%;}.sc-q-lnk { display: inline-block; font-size: 0; margin: 30px 0; padding: 0 30px; position: relative; width: 50%; float: left;}.sc-sug .s-tx .s-ttl { background-color: #ffffff;}.sc-btn { background-color: #333; border-radius: 6px; color: #fff; font-size: 0.9rem; right: 3px; letter-spacing: 0.7px; line-height: 1.8; padding: 7px 25px; position: absolute; top: 13px; text-transform: uppercase;}.sc-btn:hover, .sc-btn:focus { background-color: #e93f33; color: #fff;}.sc-sug .s-tx { margin-bottom: 1.6rem;}.sc-brl { border-left: 1px solid rgba(0, 0, 0, 0.07);}.sc-brr { border-rigt: 1px solid rgba(0, 0, 0, 0.07);}.sc-sug { display: none; position: absolute; top: 74px; left: 0; width: 60%; margin: 0 20% 0; background-color: #f6f7ff; box-shadow: 0 4px 40px rgba(0, 0, 0, 0.39); } .sc-sug::after { clear: both; content: \"\"; display: table; } .search-active .sc-sug { background: #ffffff; border-radius: 6px; display: block; -webkit-transform-origin: center top; -moz-transform-origin: center top; -ms-transform-origin: center top; -o-transform-origin: center top; transform-origin: center top; /* Force Hardware Acceleration */ -webkit-transform: translateZ(0); -moz-transform: translateZ(0); -ms-transform: translateZ(0); -o-transform: translateZ(0); transform: translateZ(0); -webkit-backface-visibility: hidden; backface-visibility: hidden; -webkit-animation: sc-3d-rotation 0.3s 0.27s; -moz-animation: sc-3d-rotation 0.3s 0.27s; animation: sc-3d-rotation 0.3s 0.27s; -webkit-animation-fill-mode: backwards; -moz-animation-fill-mode: backwards; animation-fill-mode: backwards; } @-webkit-keyframes sc-3d-rotation { 0% { -webkit-transform: perspective(1000px) rotateX(-90deg); } 100% { -webkit-transform: perspective(1000px) translateY(0); }}@-moz-keyframes sc-3d-rotation { 0% { -moz-transform: perspective(1000px) rotateX(-90deg); } 100% { -moz-transform: perspective(1000px) translateY(0); }}@keyframes sc-3d-rotation { 0% { -webkit-transform: perspective(1000px) rotateX(-90deg); -moz-transform: perspective(1000px) rotateX(-90deg); -ms-transform: perspective(1000px) rotateX(-90deg); -o-transform: perspective(1000px) rotateX(-90deg); transform: perspective(1000px) rotateX(-90deg); } 100% { -webkit-transform: perspective(1000px) translateY(0); -moz-transform: perspective(1000px) translateY(0); -ms-transform: perspective(1000px) translateY(0); -o-transform: perspective(1000px) translateY(0); transform: perspective(1000px) translateY(0); }} /*.search-input:before { content: ' '; position: absolute; left: -1px; top: 22px; width: 4px; height: 36px; z-index: 9999999999; background: rgb(58, 58, 58); transition: all 0.5s cubic-bezier(.87, -.41, .19, 1.44); transform: scale(1); transition-delay: 0.3s; animation: 0.8s cubic-bezier(.87, -.41, .19, 1.44) 0.5s infinite forwards focus;}.focus:before { transform: scale(0); animation: none;}.watermark:before { transform: scale(1); animation: 0.8s cubic-bezier(.87, -.41, .19, 1.44) 0.5s infinite forwards focus;}@-webkit-keyframes focus { 0% { opacity: 0.5; -webkit-transform: scale(0.7); transform: scale(0.7); } 33.33333% { opacity: 1; -webkit-transform: scale(1); transform: scale(1); } 100% { opacity: 0.5; -webkit-transform: scale(0.7); transform: scale(0.7); }}@keyframes focus { 0% { opacity: 0.1; -webkit-transform: scale(0.7); transform: scale(0.7); } 33.33333% { opacity: 1; -webkit-transform: scale(1); transform: scale(1); } 100% { opacity: 0.1; -webkit-transform: scale(0.7); transform: scale(0.7); }}*//*social.css*/.ss { display: flex; align-items: center; justify-content: center; height: 56px; margin: 0; padding: 0; position: absolute; right: 0; top: 9px;}.ss_pg { display: inline-block; float: left; width: 100%; height: auto; margin: 0 0 20px; right: auto; top: auto; position: relative;}.ss-st { position: absolute; top: 10px;}.ss .ss-lk { width: 36px; height: 36px; border-radius: 50%; background-color:var(--light); color: var(--black); list-style: outside none none; display: inline-block; float: left; position: relative; font-size: 17px; line-height: 1.8; text-align: center; -webkit-transition: all 0.3s ease; /* Safari 3.2+, Chrome */ -moz-transition: all 0.3s ease; /* Firefox 4-15 */ -o-transition: all 0.3s ease; /* Opera 10.5-12.00 */ transition: all 0.3s ease; margin-left: 32px; display: flex; align-items: center; justify-content: center; /* Firefox 16+, Opera 12.50+ */}.ss .ss-lk:hover { color: var(--black); border-color: initial;}.ss-lk.comment { color: var(--clr-a); border: 0; outline: 0; width: auto;}.ss .ss-lk.comment:hover { color: var(--dark); border-color: initial;}.ss .ss-cu { background-color: #f7f7f7; border-radius: 4px; display: inline-block; font-size: 13px; font-weight: 500; padding: 1px 0; text-align: center; width: 100%;}.ss .ss-lk .ss-icn { border-radius: 4px; text-align: center; font-size: 17px; display: block; margin: 0 2px 2px 0; height: 34px; line-height: 37px;}.ss .ss-lk .ss_sr { background: rgba(255, 255, 255, 0.2) none repeat scroll 0 0; text-align: center; font-size: 0.7rem; display: block; margin: 0; line-height: 24px;}.ss .facebook:hover .vj_icn { color: #4373d2;}.ss .twitter:hover .vj_icn { color: #67c9e8;}.ss .reddit:hover .vj_icn { color: #ff4500;}.ss .googleplus:hover .vj_icn { color: #d34836;}.ss .linkedin:hover .vj_icn { color: #2674c3;}.email.ttp tip { background-color: #1f7ad7;}.ss .email:hover .vj_icn { color: #1f7ad7;}.whatsapp.ttp tip { background-color: #6ca933;}.whatsapp.ttp tip.on-bottom:after { border-bottom: 7px solid #6ca933;}.facebook.ttp tip { background-color: #4373d2;}.facebook.ttp tip.on-bottom:after { border-bottom: 7px solid #4373d2;}.twitter.ttp tip { background-color: #67c9e8;}.twitter.ttp tip.on-bottom:after { border-bottom: 7px solid #67c9e8;}.reddit.ttp tip { background-color: #ff4500;}.reddit.ttp tip.on-bottom:after { border-bottom: 7px solid #ff4500;}.googleplus.ttp tip { background-color: #d34836;}.googleplus.ttp tip.on-bottom:after { border-bottom: 7px solid #d34836;}.linkedin.ttp tip { background-color: #2674c3;}.linkedin.ttp tip.on-bottom:after { border-bottom: 7px solid #2674c3;}.email.ttp tip { background-color: #1f7ad7;}.email.ttp tip.on-bottom:after { border-bottom: 7px solid #1f7ad7;}.ss_cunt { background-color: var(--light); border: 1px solid rgba(0, 0, 0, 0.07); border-radius: 5px; color: var(--clr-d); display: inline-block; float: right; font-size: 13px; font-weight: 500; margin: 3px 10px 0; padding: 2px 9px;}.ss_cunt-t { color: var(--gray-dark);}.m-nv .ss .ss-lk { line-height: 36px; margin: 0; width: 36px; height: 36px; display: flex; align-items: center; justify-content: center; margin-left: 10px;}.m-nv .ss { top: 0;}.m-nv .ss .ss-lk.comment { width: auto; line-height: 51px;}.m-nv .cmt-cunt { margin-top: 15px;}.m-nv .ss .ss-lk.mailbox { line-height: 56px;}.pst_opt { align-items: center; justify-content: space-between; display: -ms-flexbox; display: flex; -ms-flex-wrap: wrap; flex-wrap: wrap; margin-left: auto; margin-right: auto; }.ath_cnt { margin-right: 5px; max-width: 40%; font-size: 0; margin-bottom: 11px; display: flex; align-items: center; flex-shrink: 0;}.ath_img { border-radius: 100%; display: inline-block; height: 60px; overflow: hidden; vertical-align: middle; width: 60px; flex-shrink: 0;}.ath_img-img { width: auto; height: 100%; max-width: none; margin-left: -10px;}.ath_nme { display: inline-block; font-size: 13px; vertical-align: middle; width:auto; word-break: break-word; padding-left: 6px; border-right: 1px solid #979797; padding-right: 5px; line-height: 1;}.pst_scl { flex: 1;}.pst_scl:before, .pst_scl:after { content: ''; clear: both; display: block;}.ndtv-icon { width: 20px; height: 20px; fill: #393939;}.st-social{ height: 30px; display: flex; align-items: center; justify-content: space-between;}.st-social .ss-lk{ width: 32px; height: 32px;}.st-social .ndtv-icon{ width: 18px; height: 18px;}.st-social .comment .ndtv-icon{ position: relative; top: 1px;}.vj_mix { display: inline-block; font-size: 0; margin: 0 auto; line-height: 1; position: relative; vertical-align: middle;}.j-stk-dn .searchBtn{margin:0px 0 0 20px;}.j-stk-dn .searchBtn:after { display: none;}.f16qnola{background-color: transparent!important;}.fvmxvuk {background-color: transparent!important; border: 1px solid transparent!important;}.pst_scl .ss-lk:first-child {margin-left: 0;}.spsrdCont {margin-bottom: 10px;font-size: 14px;}.spsrdCont span {display: inline-block;background: #ffd200;color: #000;padding: 3px 10px;border-radius: 6px;}.story__post-icn {margin: -4px 6px 0 0;}.vj_icn { display: inline-block; width: 1em;height: 1em;stroke-width: 0;stroke: currentColor; fill: currentColor; vertical-align: middle;}/*top-nav.css*/.t-br { position: relative;}.t-br_modify { width: 100%; padding: 5px 0; display: -webkit-box; display: -ms-flexbox; display: flex; -webkit-box-align: center; -ms-flex-align: center; align-items: center; -webkit-box-pack: justify; -ms-flex-pack: justify; justify-content: space-between;}nav.t-nv_lf{ width: 100%; display: flex; align-items: center; justify-content: center;}.t-nv_ul { display: inline-block; margin: 0; padding: 0; font-size: 0; float: left;}.t-nv_li { display: inline-block;}.t-nv_lnk { color: #6C6C6C; display: inline-block; font-family: var(--ff-one); font-size: 11px; font-weight: 400; letter-spacing: 0.7px; line-height: 18px; text-transform: uppercase; margin: 2px 7px; padding: 1px 7px;border-radius: 3px;}.t-nv_lnk.t-nv_act:hover { background-color: #F5F5F5; color: #6C6C6C;}.t-nv_act { background-color: #F5F5F5; color: #6C6C6C;}.tf-scl { float: right; margin: 4px 0 0 12px;}/*breadcrumb.css*/.brd-nv_lnk { color: #7b7b7b; display: inline-block; font-family: 'Roboto', sans-serif; font-size: 12px; font-weight: 100; letter-spacing: 0.7px; line-height: 18px; padding: 5px 15px; position: relative;}.brd-nv_lnk:before { content: \"\\e940\"; font-family: 'ndtv'; position: absolute; right: 0px;}.brd-nv_lnk.m-nv_act { padding-left: 0;}.t-brd { margin-bottom: 12px;}.t-brd .col-md-6 { width: 50%;}.brd-nv { display: inline-block; float: left;}.brd-nv .brd-nv_li.brd-nv_act>* { color: var(--gray);}.brd-nv_ol { display: inline-block; float: left; font-size: 0;}.brd-nv .brd-nv_li { display: inline-block; float: left; font-size: 11px; margin: 0;}.brd-nv .brd-nv_li>* { color: var(--clr-lnk); display: inline-block; font-size: 12px; font-weight: 400; letter-spacing: 0.7px; text-transform: none;}.txt-right { text-align: right;}.brd-nv .brd-nv_li::after { display: inline-block; content: \"\"; margin: 0 15px 0 4px; border: solid #2E2E2E; border-width: 0 1px 1px 0; padding: 3px; transform: rotate(-45deg); -webkit-transform: rotate(-45deg); position: relative; top: 0px; right: -4px;}.brd-nv .brd-nv_li:last-of-type::after { display: none;}.fontSz { border-radius: 30px; color: #6a6a6a; vertical-align: middle; border: 1px solid #dedede; padding: 0px 10px; line-height: normal; display: inline-block; margin-right: 20px; display: none;}.fontSz span { margin: 0px 3px; cursor: pointer;}.fontSz span:first-child { font-size: 12px;}.fontSz span:nth-child(2) { font-size: 14px;}.fontSz span:last-child { font-size: 18px;}.langBtns { position: relative; display: inline-block; color: #6a6a6a; margin-right: auto; margin-bottom: 10px;}.langBtns span { text-transform: uppercase; font-size: 12px;}.langBtns > a, #ins_storybody .langBtns > a { border-radius: 30px; margin-left: 5px; color: #6a6a6a; display: inline-block; line-height: 24px; background: #f7f7f7; padding: 0px 10px;}.langBtns > a:hover, #ins_storybody .langBtns > a:hover { text-decoration: none;}.langBtns > a span { position: relative; padding-right: 15px;}.langBtns > a span:after { top: 50%; right: 0%; border: solid transparent; content: \" \"; height: 0; width: 0; position: absolute; pointer-events: none; border-color: rgba(0, 0, 0, 0); border-top-color: #6a6a6a; border-width: 5px; margin-top: -2px;}.langBtns>a:hover~.langPopup { opacity: 1; visibility: visible; top: 100%;}.langBtns .langPopup:hover { opacity: 1; visibility: visible; top: 100%;}.langPopup { position: absolute; transition: all 0.2s linear; opacity: 0; visibility: hidden; top: 115%; width: 130px; padding: 5px; right:10px; font-size: 14px; background: #fff; border-radius: 4px; box-shadow: 0 3px 10px rgba(0, 0, 0, 0.08); z-index: 99;}.langPopup a, #ins_storybody .langPopup a { padding: 2px 10px; text-align: left; display: block; color: var(--gray-dark); border-bottom: 1px solid #ddd;}#ins_storybody .langPopup a:hover{ text-decoration: none;}.langPopup a:hover { background-color: #f9f9f9; text-decoration: none;}.langPopup li:last-child a, #ins_storybody .langPopup li:last-child a { border-bottom: 0;}.t-brd .row { align-items: center;}.subNav{margin-bottom:10px; text-transform: uppercase;}.subNav ul{display: flex; font-size:14px;}.subNav ul li:not(:first-child){margin:0px 0px;}.subNav ul li:not(:first-child):not(:last-child) a{border-right: 1px solid #d1d1d1;}.subNav .ttlLft{color:#ED3833; font-weight: 500;}.subNav a{color:var(--clr-lnk); padding: 0px 15px;}.subNav a:hover{text-decoration: underline;}.brd-nv .brd-nv_li span {display: inline-block;}/*helper-atf.css*/.clear-fix { clear: both; }.img__full, .full__view { margin-bottom: 15px; margin: 0 -15px 15px; width: calc(100% + 30px);}.img__full img, .full__view img { border-radius: 0;}.w-100 { width: 100%;}.fleft { float: left;}.fright { float: right;}.fnone { float: none;}.fcenter { float: none; margin-left: auto; margin-right: auto;}.clear { clear: both;}.ml-auto{ margin-left: auto;}.mr-60{ margin-right: 60px;}.pt-20{ padding-top: 20px;}/*post-by.css*/.pst-by { display: flex; align-items: center; margin-bottom: 20px; width: 100%;}.pst-by_ul { display: inline-block; float: left; font-size: 0;}.pst-by_li { display: inline-block; float: left; font-size: 12px; color: #2e2e2e; line-height: 1; border-left: 1px solid #979797; padding-left: 5px; margin-left: 5px; margin-bottom: 10px;}.pst-by_li:first-child { padding-left: 0; margin-left: 0; border-left: none;}.pst-by_li a { color: var(--clr-lnk); display: inline-block; font-size: 12px; line-height: 1;}.pst-by_lnk a { color: var(--clr-lnk); display: inline-block; font-size: 12px; line-height: normal;}.pst-by_li a:hover { text-decoration: underline;}.pst-by_lnk img { width: 12px; margin: -5px 2px 0 0;}.pst-by_txt { margin-right: 4px;}.ath_nme a { color: var(--clr-lnk);}.ath_nme a:hover { text-decoration: underline;}/*side-bar-add.css*/.sd-a_li {margin-bottom: 16px;border-bottom: 1px solid #ececec;padding-bottom: 16px;}.sd-a_lk {display: block;font-size: 0;}.sd-a_tl {color: var(--gray);font-size: 15px;font-weight: 400;margin-bottom: 4px;}.sd-a_wr {display: inline-block;position: relative;width: 100%;}.sd-pr_img {display: inline-block;max-width: 60px;max-height: 60px;vertical-align: middle;}.sd-a_ct {display: block;font-size: 0;left: 0;line-height: 1.2;padding-right: 80px;top: 0;width: 100%;}.sd-a_pr {color: var(--clr-b);display: inline-block;font-size: 15px;font-weight: 500;line-height: 1.4;margin-bottom: 4px;width: 100%;}.sd-a_ex {color: #78b952;display: block;font-size: 12px;font-weight: 400;}.sd-lg_im {max-height: 25px;width: auto;}.s-tx {position: relative;background: white;text-align: left;margin-bottom: 15px;}.sd-lg {border-top: 1px solid #eee;height: 22px;padding: 4px;width: 100%;}.sd-pr {height: 60px;width: 100%;}.sd-pr-lg {border: 1px solid #eee;border-radius: 4px;width: 72px;height: 84px;float: right;text-align: center;}.sd-pr:before {content: \"\";display: inline-block;vertical-align: middle;height: 100%;}.sd-cd_ar {background-color: #f7f7f7;border: 1px solid #eee;border-radius: 31px;width: 32px;height: 32px;font-family: \"NDTV\";font-size: 16px;line-height: 30px;float: right;text-align: center;}.sd-cd_ar:before {content: \"\\e940\";}.sd-a_li:last-child {border-bottom: 0 none;padding-bottom: 0;}.sd-cd_cn {padding-right: 45px;}.sd-cd {border: 1px solid #e0e0e0;border-radius: 6px;box-shadow: 1px 1px 6px rgba(0,0,0,0.07);display: block;font-size: 0;padding: 10px;}.sd-cd.dd-ls_tg {display: block;margin-bottom: 6px;font-family: var(--ff-two);font-size: 12px;}.sd-cd .dd-ls_tg {display: block;font-family: var(--ff-two);font-size: 12px;margin: 3px 0;}/*story-atf.css*/.sp-wrp {display: inline-block;padding: 0;}.ins_storybody {word-break: break-word;}#ins_storybody a {color: var(--clr-lnk);}#ins_storybody a:hover {text-decoration: underline;}#ins_storybody > p:nth-of-type(2) {margin-top: 1.5rem;}.s-lmr {position: relative;}.col-rt-1 {margin-left: 8.333333%;}.col-rt-7 {margin-left: 16.666667%;}.col-rt-9 {margin-left: 25%;}.col-lf-2 {height: 100%;left: 0;position: absolute;}.sp-ttl-wrp {width: 100%;display: block;font-family: var(--ff-one);font-size: 46px;font-weight: 900;line-height: 1.26;margin: 0px 0px 12px;}.sp-ttl {display: initial;font-family: var(--ff-one);font-size: 42px;font-weight: 900;line-height: 47px;margin: -12px 0px 16px;}.sp-descp {color: var(--ff-one);font-family: var(--ff-one);font-size: 20px;font-weight: 400;line-height: 28px;margin-bottom: 12px;}.ins_instory_dv img {width: 100%;}.stk-t {pointer-events: none;position: absolute;left: 0px;right: 0px;top: 0;bottom: 0;}.j-stk-dn .stk-t {pointer-events: auto;}.stk-t_wr {height: 60px;position: absolute;top: 50%;right: 0;left: 0;margin-left: auto;margin-right: auto;margin-top: -30px;width: 1260px;pointer-events: none;opacity: 0;transform: translate(0, -30px);transition: all 0.2s ease-in-out;transition-delay: 0s;z-index: 3;}.j-stk-dn .stk-t_wr {opacity: 1;transform: none;pointer-events: all;transition-delay: 0.2s;}.stk-ttl {font-family: var(--ff-one);font-size: 17px;font-weight: 600;line-height: 1.2;margin: 16px 0;top: 5px;max-width: 48%; margin-left: 250px;}.j-stk-dn.search-active .stk-t_wr {opacity: 0;}.j-stk-dn.search-active .control {visibility: hidden;}.m-nv .stk-t .ttp .tip.on-bottom {top: 67px;}.m-nv .stk-t .ttp .tip.on-bottom {margin-left: -52px;}.cmt-cunt {color: var(--black);display: inline-block;font-family: var(--ff-two);float: right;font-size: 17px;font-weight: 700;line-height: 1;margin: 3px 0 0 5px;text-align: left;}.cmt-t {display: block;font-size: 11px;font-weight: 400;}.sp_ad-t {display: inline-block;float: left;margin-bottom: 25px;min-height: 84px;width: 100%;border: solid 1px #eaeaea;}.ads_tb-c {display: inline-block;float: left;position: relative;width: 100%;}.otr_lng-wrp {display: inline-block;font-size: 0;height: 42px;vertical-align: middle;}.otr_lng-btn {background: #ffffff;color: #666666;cursor: pointer;display: inline-block;font-size: 15px;font-weight: normal;border: 2px solid #f1f1f1;border-radius: 20px;padding: 8px 14px;margin-right: 4px;vertical-align: middle;}.s-lf-stky a:hover {color: var(--clr-lnk);}/*---- Press Release ----*/.prs_rls-lft .ins_instory_dv {float: left;padding-right: 30px;width: 50%;}.prs_rls-rgt .ins_instory_dv {float: right;padding-left: 30px;width: 50%;}.highlghts_Wdgt {width:100%;background-color: var(--white);padding: 0px;margin-bottom: 25px;font-size: 13px;}.highlghts_Wdgt h3 {font-family: var(--ff-one);letter-spacing: 1px;font-size: 14px;line-height: 1.6;text-transform: uppercase;margin-bottom: 0;text-align:center;padding-left:14px;background-color:#f5f5f5;border-radius:3px;padding:3px;}.highlghts_Wdgt ul {padding-top: 10px;display: -webkit-box;display: -webkit-flex;display: -ms-flexbox;display: flex;flex-direction: column;padding-left: 15px;-webkit-justify-content: space-between;justify-content: space-between;line-height: normal;}.highlghts_Wdgt ul li {width: 100%;position: relative;font-size: 14px;font-weight: 400;line-height: 1.36;color: var(--ttl);margin-bottom: 15px;padding-bottom:10px;}.highlghts_Wdgt ul li:before {content: '';position: absolute;top: 7px;left: -15px;width: 5px;height: 5px;border-radius: 50%;background-color: var(--gray-bg1);}.highlghts_Wdgt ul li a {font-size: 12px;line-height: 16px;}.highlghts_Wdgt.reltd li:before {display: none;}.highlghts_Wdgt.reltd h3 {text-align: left;background:none;padding:0;}.highlghts_Wdgt.reltd ul {padding-left: 0;flex-direction: row; margin-left: 0}.highlghts_Wdgt.reltd li {width: 32%;margin-bottom: 0;}.highlghts_Wdgt.reltd li a {display: table;}#ins_storybody .highlghts_Wdgt.reltd li a {color: var(--txt);}.highlghts_Wdgt.reltd li .imgCntnr {width: 58px;height: 58px;display: table-cell;vertical-align: top;}.highlghts_Wdgt.reltd li .imgCntnr > span {width: 45px;height: 48px;display: block;vertical-align: top;margin-right: 10px;position: relative;overflow: hidden;}.highlghts_Wdgt.reltd li .txtCntnr {line-height: 1.36;vertical-align: top;display: table-cell;position: relative;top: -5px;font-size:14px;}.highlghts_Wdgt.reltd {width:100%;position: relative;background-color: var(--white);padding: 15px;margin-bottom: 32px;box-shadow: 0 3px 9px rgba(0, 0, 0, 0.08);font-size: 13px;border: solid 1px #ddd;}.highlghts_Wdgt.reltd .crclBtn {border-radius: 50%;cursor: pointer;background: #f2f2f2;right: 15px;width: 23px;height: 23px;position: absolute;top: 10px;}.highlghts_Wdgt.reltd .crclBtn:before, .highlghts_Wdgt.reltd .crclBtn:after {transition: all 0.3s ease-in;width: 13px;height: 2px;background: #000;content: '';top: 0;left: 0;right: 0;bottom: 0;position: absolute;margin: auto;}.highlghts_Wdgt.reltd .crclBtn.plus:after {transform: rotate(-90deg);}.s-lf-stky .__pcwgtlhs {padding: 10px;width: 100%;text-align: center;margin-bottom: 30px;border: solid 1px #eaeaea;}.s-lf-stky .__pcwgtlhs.__pcwgtndtv .__pdimg img {max-width: 100%;}.__pcwgtlhs.__pcwgtndtv .__pdimg img {border-radius: 0px !important;}.s-lf-stky .__pcwgtlhs.__pcwgtndtv .__pd_title > a {font-size: 12px;font-weight: bold;}.s-lf-stky .__pcwgtlhs.__pcwgtndtv .__prchdr {font-size: 12px;line-height: 15px;margin-bottom: 5px;color: #999999;letter-spacing: 0;font-weight: 400;}.s-lf-stky .__pcwgtlhs.__pcwgtndtv .__prchdr a {color: #222;}.s-lf-stky .__pcwgtlhs .__pd_prc_wrp {margin-left: auto;margin-right: auto;}.s-lf-stky .__pcwgtlhs .__pd_offtag {margin: 5px auto;display: inline-block;width: auto;}/*Taboola*/.trc_rbox_container .text-links-b {border: 0;}.trc_rbox_container .text-links-b .trc_rbox_div .videoCube.thumbnail_none a {list-style-type: none;}.text-links-b .trc_rbox_header .trc_header_ext {text-transform: none;margin-top: 5px;margin-right: 5px;}.text-links-b .logoDiv a span {text-transform: none;margin-top: 5px;}.text-links-b .trc_rbox_outer .syndicatedItem .video-title {font-weight: normal;color: var(--clr-lnk);}/*zoom pic*/.imgZmC {position: relative;display: block;}.imgZm {background: url(../images/image-zoom.svg) no-repeat;transform: scale(0.95);transition: all 0.2s ease-out;width: 52px;height: 52px;position: absolute;display: block;z-index: 1;right: 10px;bottom: 20px;}.imgZmC:hover .imgZm {transform: scale(1.1)}.numb {position: absolute;top: 0;left: 0;width: 32px;height: 30px;display: flex;align-items: center;justify-content: center;font-family: var(--ff-one);font-size: 10px;font-weight: 600;color: #fff;letter-spacing: -0.5px;}.j-stk-dn .m-nv .numb {width: 19px;height: 18px;font-size: 10px;}.mov_details {width: 100%;padding-bottom: 20px;}.mov_details li {width: 100%;display: table;border-bottom: solid 1px #e5e5e5;padding: 5px 0;}.mov_details li b {width: 120px;display: table-cell;}.s-lmr { position: relative; clear: left;}.ins_storybody { color: var(--txt); font-size: 18px; font-weight: 400; letter-spacing: 0; line-height: 29px; float: left; position: relative;}.placeholder { margin: 0; width: 100%; height: 300px; background-color: #eee; position: relative;overflow: hidden}.placeholder:before { content: \" \"; position: absolute; top: 0; right: 0; bottom: 0; left: 50%; z-index: 1; width: 500%; margin-left: -250%; -webkit-animation: pcload 0.5s linear infinite; animation: pcload 0.5s linear infinite; background: linear-gradient(to right, rgba(255, 255, 255, 0) 46%, rgba(255, 255, 255, 0.35) 50%, rgba(255, 255, 255, 0) 54%) 50% 50%;}@keyframes pcload{ 0%{ left:0; } 100%{ left:110%; }}/*back-to-top.css*/.back-to-top { background-color: rgba(255, 255, 255, 0.9); border: 1px solid rgba(0, 0, 0, 0.17); box-shadow: 0 2px 6px rgba(0, 0, 0, 0.17); bottom: -80px; border-radius: 30px; cursor: pointer; display: flex; align-items: center; justify-content: center; height: 50px; margin: 0 0 20px -21px; position: fixed; right: 30px; width: 50px; z-index: 9; -webkit-transform: translateY(0); -moz-transform: translateY(0); -ms-transform: translateY(0); transform: translateY(0); -webkit-transition: all .4s cubic-bezier(.37, .15, .32, .94); -moz-transition: all .4s cubic-bezier(.37, .15, .32, .94); -ms-transition: all .4s cubic-bezier(.37, .15, .32, .94); transition: all .4s ease-out;}.back-to-top svg { width: 15px; height: 15px; transform: rotate(-90deg); -webkit-transform: rotate(-90deg); -moz-transform: rotate(-90deg); -ms-transform: rotate(-90deg); -o-transform: rotate(-90deg);}.back-to-top.js-bkt-out { -webkit-transform: translateY(-170px); -moz-transform: translateY(-170px); -ms-transform: translateY(-170px); transform: translateY(-170px);}/* .back-to-top:before { content: \"\\e93d\"; font-size: 19px; font-family: 'ndtv'; line-height: 59px; position: absolute; top: 0; text-align: center; width: 100%;} *//*elements.css*/.btn_bm { display: inline-block; font-family: var(--ff-one); font-size: 18px; display: flex; justify-content: center; width: 100px; padding: 0 10px 2px; position: relative; background: #f7f7f7; color: #fff; height: 70px; box-sizing: border-box; flex-wrap: wrap; flex-direction: column; justify-content: space-evenly; line-height: 0; border-radius: 4px; -webkit-border-radius: 4px; -moz-border-radius: 4px; -ms-border-radius: 4px; -o-border-radius: 4px;}#ins_storybody .btn_bm { color: var(--ttl); text-transform: none; font-size: 14px; font-weight: bold;}#ins_storybody .btn_bm span { display: block; text-align: center; margin-bottom: 0; font-size: 22px; font-weight: 600;}#ins_storybody .btn_bm span + span { font-size: 15px; font-weight: 400; text-transform: none;}.btn_bm:after { position: absolute; top: 100%; right: 30%; content: ''; width: 0; height: 0; border-style: solid; border-width: 0 20px 20px 0; border-color: transparent #f7f7f7 transparent transparent; -webkit-transition: all 200ms linear 0ms; -ms-transition: all 200ms linear 0ms; -o-transition: all 200ms linear 0ms; transition: all 200ms linear 0ms;}.btn_bm:hover, #ins_storybody .btn_bm:hover { background-color: var(--dark); color: var(--white); text-decoration: none;}.btn_bm:hover .cmt_co { background-color: var(--dark); color: var(--white);}.btn_bm:hover:after { border-color: transparent var(--dark) transparent transparent}.cmt_btn { display: block; float: right; margin-bottom: 30px; margin-left: 20px; position: relative; text-align: center;}.cmt_co { background-color: var(--red); border-radius: 30px; color: #fff; display: inline-block; font-size: 13px; height: 34px; line-height: 34px; position: absolute; right: -11px; text-align: center; top: -13px; width: 34px;}.cmt-tp { background-color: var(--clr-b); border-radius: 13px; color: var(--white); display: inline-block; font-size: 10px; font-weight: 600; height: 22px; right: -10px; line-height: 22px; position: absolute; top: 0; width: 22px; -webkit-transition: all 0.4s ease; -moz-transition: all 0.4s ease; -o-transition: all 0.4s ease; transition: all 0.4s ease;}.comment:hover .cmt-tp { background-color: #333;}.m-nv .cmt-tp { top: 8px;}.vj_cmt-ic .vj_icn { font-size: 32px;}.vj_cmt-ic .vj_comments, .vj_cmt-ic .vj_comments-nv, .vj_cmt-ic:hover .vj_comments-bg { color: var(--clr-b);}.vj_cmt-ic .vj_comments-bg { color: var(--light-b);}.vj_cmt-ic:hover .vj_comments, .vj_cmt-ic:hover .vj_comments-nv { color: #ffffff;}.vj_cmt-ic .vj_mix { margin-right: 10px; /* vertical-align: middle; */}/*progress-bar.css*/.progress-container { height: 3px; width: 100%; position: fixed; top: 0; width: 100%; z-index: 999999999;}.progress-bar { background-color: #000; height: 3px; width: 0%;}/*tags.css*/.tg_wrp { display: inline-block; margin-bottom: 12px; width: 100%;}.tg_lk { border: 1px solid; border-color: var(--light-c); color: var(--gray); display: inline-block; font-size: 13px; font-weight: 400;letter-spacing: 0.5px; float: left; line-height: 1; margin: 0 10px 5px 0; padding: 5px 13px; text-transform: none;}.tg_lk:hover {box-shadow: 0 0 6px rgba(0,0,0,0.1); border-color:#cacaca;color:#444;}.tgs .tg_lk { padding: 8px 10px;}.tgs { display: inline-block; font-size: 0; margin-bottom: 15px; padding-left: 0px; position: relative; width: 100%;}.tgs_t { font-size: 18px; left: 0; margin: 0; padding: 6px 0; position: absolute; text-transform: uppercase;}.tgs .tg_wrp { margin-bottom: 0;}/*comment-popup.css*/body.js-op-cmt { overflow: hidden;}/*======= Button =======*/.cmt-btn { padding: 11px 15px; background: #3196f3; border-radius: 3px; color: #fff; font-size: 14px; float: right; display: inline-block; font-weight: 500; letter-spacing: 0.7px; text-transform: uppercase; transition: background 0.3s;}.cmt-btn:hover { background: #3779ea;}/*======= Close Icon button =======*/.cls-btn div { display: block; height: 2px; position: relative; transition: transform 0.6s cubic-bezier(0.19, 1, 0.22, 1) 0s, opacity 0.4s cubic-bezier(0.19, 1, 0.22, 1) 0s; width: 20px; z-index: 2;}.cls-btn div:first-child { transform: translate3d(13px, 17px, 0px) rotate3d(0, 0, 1, -45deg);}.cls-btn div:first-child::after, .cls-btn div:first-child::before { transition: transform 0.6s cubic-bezier(0.19, 1, 0.22, 1) 0s, opacity 0.2s cubic-bezier(0.19, 1, 0.22, 1) 0s;}.cls-btn div:last-child { transform: translate3d(13px, 15px, 0px) rotate3d(0, 0, 1, 45deg);}.cls-btn div:last-child::after, .cls-btn div:last-child::before { transition: transform 0.6s cubic-bezier(0.19, 1, 0.22, 1) 0.2s, opacity 0.2s cubic-bezier(0.19, 1, 0.22, 1) 0.18s;}.cls-btn div::after, .cls-btn div::before { content: \"\"; display: block; height: 100%; pointer-events: none; position: absolute; width: 100%;}.cls-btn div::before { background: none repeat scroll 0 0 #000; opacity: 1; transform: translate3d(0px, 0px, 0px);}.cls-btn div::after { background: none repeat scroll 0 0 #333; opacity: 0; transform: translate3d(100%, 0px, 0px);}.cls-btn:hover div::before { opacity: 0; transform: translate3d(-100%, 0px, 0px);}.cls-btn:hover div::after { opacity: 1; transform: translate3d(0px, 0px, 0px);}.cls-btn { cursor: pointer; margin: 5px 10px 0 0; display: inline-block; width: 35px; height: 35px; position: absolute; top: 0; right: 0; z-index: 9;}/*======= FEEDBACK POPUP =======*/body.js-fd-popup.js-op-cmt { overflow-y: hidden;}/*--- Feedbak Overlay ---*/.ovl { display: none; position: fixed; background: rgb(255, 255, 255); height: 100%; top: 0; bottom: 0; left: 0; opacity: 0; pointer-events: none; right: 0; -webkit-transition: 0.3s ease all; -moz-transition: 0.3s ease all; transition: 0.3s ease all; z-index: 98;}.js-op-cmt .ovl.js-ovl { background-color: rgb(0, 0, 0); opacity: 0.4; pointer-events: all; z-index: 99;}.search-active .js-ovl.ovl { background-color: #000; display: block; opacity: 0.6; pointer-events: auto;}.ovl-wrp { display: block; position: absolute; bottom: 0; left: 0; right: 0; top: 0;}/*--- Menu Button ---*/.cmt-icn { background-image: url(data:image/svg+xml;utf8;base64,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); position: absolute; background-color: #fff; background-position: 50%; background-repeat: no-repeat; background-size: 32px; border: 1px solid #bfbfbf; border-radius: 7px; bottom: 0; box-shadow: 0 3px 6px rgba(0, 0, 0, 0.14); cursor: pointer; right: 27%; margin: 0 0 29px; padding: 10px; position: fixed; height: 60px; outline: none; width: 80px; z-index: 1001; -webkit-transform: scale(0); -moz-transform: scale(0); transform: scale(0); -webkit-transition: 0.6s ease all; -moz-transition: 0.6s ease all; transition: 0.6s ease all;}.cmt-icn:hover { opacity: 0.6;}.js-op-cmt .cmt-icn.cmt-dn { opacity: 0; -webkit-transform: scale(0); -moz-transform: scale(0); transform: scale(0);}.cmt-icn.cmt-dn { -webkit-transform: scale(1); -moz-transform: scale(1); transform: scale(1);}/*--- Menu ---*/.cmt-wrp { position: fixed; z-index: 999999999; border-radius: 6px; -webkit-transition: width 0.3s, height 0.3s; transition: width 0.3s, height 0.3s; width: 0; height: 100%; font-size: 1.5em; bottom: 0; right: 0; transform-origin: 100% 100%;}.cmt-cnt { display: none; position: absolute; background: #fff; /* border-radius: 6px; */ border-left: 1px solid rgba(0, 0, 0, 0.3); box-shadow: 3px 3px 23px rgba(0, 0, 0, 0.17); top: 0px; bottom: 0; right: 0; left: 0; overflow: hidden;}.js-op-cmt .cmt-cnt { display: block;}.cmt-cn { background-color: #2196F3; border-radius: 30px; color: #fff; display: inline-block; height: 28px; line-height: 28px; position: absolute; right: -10px; top: -10px; width: 28px;}/*--- Shown menu ---*/.js-op-cmt .cmt-wrp { width: 33%; height: 100%; -webkit-animation: 0.3s linear forwards; animation: 0.3s linear forwards;}/*======= FEEDBACK Form =======*/.form-wrp { height: 100%; padding: 25px; opacity: 0;}.cmt-ttl { font-size: 19px; margin-bottom: 25px; position: relative; text-transform: uppercase;}.cmt-ttl:before { position: absolute; content: \"\"; left: -25px; top: 2px; height: 27px; width: 5px; background-color: #3196f3;}.form-sub-ttl { position: relative; display: inline-block; float: left; width: 100%; font-size: 14px; margin: 5px 0 0; font-weight: 600;}.js-op-cmt .form-wrp { opacity: 1; -webkit-transition: opacity 0.3s 0.3s; transition: opacity 0.3s 0.3s;}fieldset { margin: 0 0 3rem; padding: 0; border: none;}.form-group { position: relative; display: inline-block; margin-top: 15px; margin-bottom: 15px; width: 100%; font-size: 0;}.form-inline>.form-group, .form-inline>.btn { display: inline-block; margin-bottom: 0;}.form-help { margin-top: 0.125rem; margin-left: 0.125rem; color: #b3b3b3; font-size: 0.8rem;}.checkbox .form-help, .form-radio .form-help, .form-group .form-help { position: absolute; width: 100%;}.form-group input { height: 1.9rem;}.form-group textarea { resize: none;}.h-80 textarea { height: 80px;}.h-110 textarea { height: 110px;}.form-group select { width: 100%; font-size: 13px; height: 40px; padding: 0; background: none; border: none; line-height: 1.6; box-shadow: none;}.form-group .control-label { position: absolute; top: 0.25rem; pointer-events: none; padding-left: 0.125rem; z-index: 1; color: #777; font-size: 15px; -webkit-transition: all 0.28s ease; transition: all 0.28s ease;}.form-group .bar { position: relative; border-bottom: 0.0625rem solid #999; display: block;}.form-group .bar::before { content: \"\"; height: 0.125rem; width: 0; left: 50%; bottom: -0.0625rem; position: absolute; background: #337ab7; -webkit-transition: left 0.28s ease, width 0.28s ease; transition: left 0.28s ease, width 0.28s ease; z-index: 2;}.form-group input, .form-group textarea { display: block; background: none; padding: 6px 8px; font-size: 14px; border-width: 0; border-color: transparent; line-height: 1.6; width: 100%; color: transparent; -webkit-transition: all 0.28s ease; transition: all 0.28s ease; box-shadow: none;}.form-group input[type=\"file\"] { line-height: 1;}.form-group input[type=\"file\"]~.bar { display: none;}.form-group select, .form-group input:focus, .form-group input:valid, .form-group input.form-file, .form-group input.has-value, .form-group textarea:focus, .form-group textarea:valid, .form-group textarea.form-file, .form-group textarea.has-value { color: #000;}.form-group select~.control-label, .form-group input:focus~.control-label, .form-group input:valid~.control-label, .form-group input.form-file~.control-label, .form-group input.has-value~.control-label, .form-group textarea:focus~.control-label, .form-group textarea:valid~.control-label, .form-group textarea.form-file~.control-label, .form-group textarea.has-value~.control-label { font-size: 14px; color: #3196f3; top: -1.3rem; left: 0;}.form-group select:focus, .form-group input:focus, .form-group textarea:focus { outline: none;}.form-group select:focus~.control-label, .form-group input:focus~.control-label, .form-group textarea:focus~.control-label { color: #337ab7;}.form-group select:focus~.bar::before, .form-group input:focus~.bar::before, .form-group textarea:focus~.bar::before { width: 100%; left: 0;}.form-group.focus .bar::before { width: 100%; left: 0;}.form-group.invalid select~.control-label, .form-group.invalid input~.control-label, .form-group.invalid textarea~.control-label { color: #d41c1c;}.form-group.invalid .bar:before { background: #d41c1c;}/*footer.css*/.ft { background-color: #fbfbfb; /* border-top: 1px solid #e8e8e8; */ padding: 20px 0 110px 0;}.ft-nav_li { font-size: 0.9rem; display: inline-block; padding: 0 1rem 0 0; position: relative; margin-bottom: 1rem; line-height: 1;}.ft-nav_li:before { content: \"\"; width: 1px; height: 100%; background-color: #dadada; position: absolute; top: 0; right: 6px;}.ft-nav_li:last-child:before { content: \"\";}.ft-nav_li:last-child { padding-right: 0;}.ft-cpr { font-size: 14px; font-weight: 100; letter-spacing: 0.3px; text-transform: lowercase; line-height: 14px;}.ft-cpr a { border-right: solid 1px #c3c3c3; display: inline-block; padding-right: 10px; margin-right: 8px;} /* ------ footer social--------- */.story_footer { width: 100%; border-radius: 3px; margin-bottom: 30px; background-color: #ffffff; box-shadow: 0 0 10px rgba(0, 0, 0, 0.05); padding: 10px 15px;}.ft-social { width: 100%; margin: 0px auto; text-align: center; padding: 0px; border-bottom: solid 1px #eaeaea;}.ft-social--txt { margin: 0; font-size: 15px; line-height: 1.4; font-weight: 600; text-align: left; border-bottom: solid 1px #eaeaea; padding-bottom: 6px; letter-spacing: 0.3px;}.ft-social--txt span { display: inline-block; width: 90px;}.ft-social--wrap { display: flex; align-items: center; justify-content: space-between; font-size: 14px; font-weight: 500; margin-top: 0px;}.watch-news_inner { width: 100%; padding: 6px 0; display: flex; align-items: center;}.tv-logos { display: flex; align-items: center; justify-content: space-around;}.watch-news, .follow-social { padding: 0px; display: flex; align-items: center; justify-content: center;}.follow-social { border-right: none;}.watch-news p, .follow-social p { display: table; padding: 5px; margin: 0; text-transform: uppercase;}.watch-news span { width: 65px; margin: 0px 5px; display: inline-block; padding: 0px;}.watch-news { border-right: solid 1px #eaeaea; padding-right: 15px;}.watch-news span:last-child { border-right: none; padding-right: 0;}.watch-news span img { width: 100%; display: block;}.follow-social a { width: 30px; height: 30px; border-radius: 50%; margin-left: 20px; display: flex; align-items: center; justify-content: center;}.watch-news p.live_tv { position: relative; padding-left: 15px;}.live_tv::before { content: \"\"; position: absolute; width: 5px; height: 5px; border-radius: 50%; background-color: red; top: 50%; left: 5px; display: block; transform: translateY(-50%); animation: blinktxt 1s linear infinite}@keyframes blinktxt { 0% { background-color: #fff } 100% { background-color: red }}.watch-news_inner .ndtv-icon { width: 15px; height: 15px;}.lst_nws_colr { background-color: #fbfbfb;}.lst_nws_wrp { float: left; margin: 15px 0;}.lst_nws_wrp span { background: #f5f5f5; border-radius: 3px; color: #2e2e2e; font-size: 15px; float: left; font-weight: bold; letter-spacing: .5px; line-height: 18px; padding: 3px 10px; text-align: center; text-transform: uppercase;}.lst_nws_cnt { border-bottom: 1px solid #e8e8e8; padding: 24px 0;}.lst_nws_colr .foot-thumb span { margin-top: 2px;}/*newsletter.css*/.nsl { display: flex; position: relative; width: 100%; padding: 10px 0 0 0; align-items: center; justify-content: space-between;}.nsl_tt { font-size: 13px; line-height: 1; margin: 5px 0 4px; line-height: 15px; font-weight: bold; text-transform: uppercase; font-family: var(--ff-one);}.nsl_st { color: #9c9c9c; font-size: 13px; margin-right: 19px; float: left; position: relative; top: 5px; width: 60px;}.nsl_l { display: inline-block; float: left; font-size: 0; letter-spacing: 0.7px; width: 38%;}.nsl_fr { display: inline-block; width: 80%; position: relative;}.nsl_in { border: 1px solid; border-color: #ffffff; font-size: 15px; height: 38px; overflow: hidden; padding: 0 110px 0 10px; text-overflow: ellipsis; width: 100%; border-radius: 6px; background-color: #fafafa;}.nsl_in:focus { border-color: #325d77; outline: 0;}.nsl_btn { background-color: var(--black); color: #fff; font-size: 14px; height: 28px; overflow: hidden; position: absolute; right: 5px; top: calc(50% - 14px); width: 100px; font-weight: 500; -webkit-transition: all .3s; transition: all .3s; text-transform: uppercase; border: 0; border-radius: 3px;}.nsl_btn:hover { background-color: var(--clr-a); border-color: var(--clr-a);}/*story-page.css*/.ins_instory_dv { display: inline-block; margin-bottom: 1.6rem; overflow: hidden; width: 100%; background-color: #f5f5f5; border-radius: 0 0 4px 4px;}.sp_cap, .ins_instory_dv_caption,.ins_instory_dv_cont ~ p { color: var(--txt-b); font-size: 13px; font-weight: 400; line-height: 1.4; margin-bottom: 0; padding: 10px; margin-top: 0px;}.ins_storybody { color: var(--txt); font-size: 18px; font-weight: 400; letter-spacing: 0; line-height: 29px; float: left; position: relative;}.highlights_wrap { background: #ffffff; width: 36%; padding: 0 0 8px 31px; position: relative; display: inline-block; float: right; border-bottom: 1px solid #dedede;}.st-crd { color: var(--gray-dark); display: inline-block; margin: 14px 0 14px 0; padding: 0 0 0 22px; position: relative; height: 100%; overflow: hidden; z-index: 6;}.lhs_highlights ol { /* border: 1px solid #e6e6e6; */ border-radius: 6px; display: block; margin: 0 -1px 12px;}.newins_widhead h2 { font-size: 19px; text-transform: uppercase;}.lhs_highlights ol li { border-bottom: 1px solid #dcdcdc; font-size: 16px; font-weight: 400; counter-increment: articles; line-height: 1.5; position: relative; width: 100%;}.lhs_highlights ol li:first-child .st-crd { margin-top: 0;}.lhs_highlights ol li:last-child { border-bottom: 0 none;}.lhs_highlights ol li .st-crd::before { content: counter(articles); color: var(--gray); font-weight: 500; font-size: 15px; left: 0; position: absolute; top: 5px; line-height: 1; z-index: -1;}.ins_instory_dv_cont img[src^=\"data:image/gif;\"] { max-height: 400px;}.table{width:100%;border:solid 1px #ddd;border-collapse:collapse}.table tr{border-bottom:solid 1px #ddd}.table th, .table td{padding:5px 10px}.table thead th{background-color:#e9ecef;text-transform:uppercase;text-align:center}.table td a{font-weight:700;text-decoration:none;color:#245e8a}.table td{border-right:solid 1px #ddd}.table td span{font-size:14px;color:#666;display:block}@media screen and (max-width:500px){@media (prefers-color-scheme:dark){.table,.table td,.table tr{border-color:#4a4a4a}.table thead th{background-color:transparent}.table td a{color:#86b8f7}.table td span{color:#b9b9b9}}}/*txt-truncate.css*/.txt__truncate { display: -webkit-box; position: relative; -webkit-line-clamp: 3; -webkit-box-orient: vertical; overflow: hidden; text-overflow: ellipsis;}.txt_trc-one { display: -webkit-box; position: relative; -webkit-line-clamp: 1; -webkit-box-orient: vertical; overflow: hidden; text-overflow: ellipsis;}/*swiper.min.css*//** * Swiper 4.5.0 * Most modern mobile touch slider and framework with hardware accelerated transitions * http://www.idangero.us/swiper/ * * Copyright 2014-2019 Vladimir Kharlampidi * * Released under the MIT License * * Released on: February 22, 2019 */.swiper-container{margin:0 auto;position:relative;overflow:hidden;list-style:none;padding:0;z-index:1}.swiper-container-no-flexbox .swiper-slide{float:left}.swiper-container-vertical>.swiper-wrapper{-webkit-box-orient:vertical;-webkit-box-direction:normal;-webkit-flex-direction:column;-ms-flex-direction:column;flex-direction:column}.swiper-wrapper{position:relative;width:100%;height:100%;z-index:1;display:-webkit-box;display:-webkit-flex;display:-ms-flexbox;display:flex;-webkit-transition-property:-webkit-transform;transition-property:-webkit-transform;-o-transition-property:transform;transition-property:transform;transition-property:transform,-webkit-transform;-webkit-box-sizing:content-box;box-sizing:content-box}.swiper-container-android .swiper-slide,.swiper-wrapper{-webkit-transform:translate3d(0,0,0);transform:translate3d(0,0,0)}.swiper-container-multirow>.swiper-wrapper{-webkit-flex-wrap:wrap;-ms-flex-wrap:wrap;flex-wrap:wrap}.swiper-container-free-mode>.swiper-wrapper{-webkit-transition-timing-function:ease-out;-o-transition-timing-function:ease-out;transition-timing-function:ease-out;margin:0 auto}.swiper-slide{-webkit-flex-shrink:0;-ms-flex-negative:0;flex-shrink:0;width:100%;height:100%;position:relative;-webkit-transition-property:-webkit-transform;transition-property:-webkit-transform;-o-transition-property:transform;transition-property:transform;transition-property:transform,-webkit-transform}.swiper-slide-invisible-blank{visibility:hidden}.swiper-container-autoheight,.swiper-container-autoheight .swiper-slide{height:auto}.swiper-container-autoheight .swiper-wrapper{-webkit-box-align:start;-webkit-align-items:flex-start;-ms-flex-align:start;align-items:flex-start;-webkit-transition-property:height,-webkit-transform;transition-property:height,-webkit-transform;-o-transition-property:transform,height;transition-property:transform,height;transition-property:transform,height,-webkit-transform}.swiper-container-3d{-webkit-perspective:1200px;perspective:1200px}.swiper-container-3d .swiper-cube-shadow,.swiper-container-3d .swiper-slide,.swiper-container-3d .swiper-slide-shadow-bottom,.swiper-container-3d .swiper-slide-shadow-left,.swiper-container-3d .swiper-slide-shadow-right,.swiper-container-3d .swiper-slide-shadow-top,.swiper-container-3d .swiper-wrapper{-webkit-transform-style:preserve-3d;transform-style:preserve-3d}.swiper-container-3d .swiper-slide-shadow-bottom,.swiper-container-3d .swiper-slide-shadow-left,.swiper-container-3d .swiper-slide-shadow-right,.swiper-container-3d .swiper-slide-shadow-top{position:absolute;left:0;top:0;width:100%;height:100%;pointer-events:none;z-index:10}.swiper-container-3d .swiper-slide-shadow-left{background-image:-webkit-gradient(linear,right top,left top,from(rgba(0,0,0,.5)),to(rgba(0,0,0,0)));background-image:-webkit-linear-gradient(right,rgba(0,0,0,.5),rgba(0,0,0,0));background-image:-o-linear-gradient(right,rgba(0,0,0,.5),rgba(0,0,0,0));background-image:linear-gradient(to left,rgba(0,0,0,.5),rgba(0,0,0,0))}.swiper-container-3d .swiper-slide-shadow-right{background-image:-webkit-gradient(linear,left top,right top,from(rgba(0,0,0,.5)),to(rgba(0,0,0,0)));background-image:-webkit-linear-gradient(left,rgba(0,0,0,.5),rgba(0,0,0,0));background-image:-o-linear-gradient(left,rgba(0,0,0,.5),rgba(0,0,0,0));background-image:linear-gradient(to right,rgba(0,0,0,.5),rgba(0,0,0,0))}.swiper-container-3d .swiper-slide-shadow-top{background-image:-webkit-gradient(linear,left bottom,left top,from(rgba(0,0,0,.5)),to(rgba(0,0,0,0)));background-image:-webkit-linear-gradient(bottom,rgba(0,0,0,.5),rgba(0,0,0,0));background-image:-o-linear-gradient(bottom,rgba(0,0,0,.5),rgba(0,0,0,0));background-image:linear-gradient(to top,rgba(0,0,0,.5),rgba(0,0,0,0))}.swiper-container-3d .swiper-slide-shadow-bottom{background-image:-webkit-gradient(linear,left top,left bottom,from(rgba(0,0,0,.5)),to(rgba(0,0,0,0)));background-image:-webkit-linear-gradient(top,rgba(0,0,0,.5),rgba(0,0,0,0));background-image:-o-linear-gradient(top,rgba(0,0,0,.5),rgba(0,0,0,0));background-image:linear-gradient(to bottom,rgba(0,0,0,.5),rgba(0,0,0,0))}.swiper-container-wp8-horizontal,.swiper-container-wp8-horizontal>.swiper-wrapper{-ms-touch-action:pan-y;touch-action:pan-y}.swiper-container-wp8-vertical,.swiper-container-wp8-vertical>.swiper-wrapper{-ms-touch-action:pan-x;touch-action:pan-x}.swiper-button-next,.swiper-button-prev{position:absolute;top:50%;width:27px;height:44px;margin-top:-22px;z-index:10;cursor:pointer;background-size:27px 44px;background-position:center;background-repeat:no-repeat}.swiper-button-next.swiper-button-disabled,.swiper-button-prev.swiper-button-disabled{opacity:.35;cursor:auto;pointer-events:none}.swiper-button-prev,.swiper-container-rtl .swiper-button-next{background-image:url(\"data:image/svg+xml;charset=utf-8,%3Csvg%20xmlns%3D'http%3A%2F%2Fwww.w3.org%2F2000%2Fsvg'%20viewBox%3D'0%200%2027%2044'%3E%3Cpath%20d%3D'M0%2C22L22%2C0l2.1%2C2.1L4.2%2C22l19.9%2C19.9L22%2C44L0%2C22L0%2C22L0%2C22z'%20fill%3D'%23007aff'%2F%3E%3C%2Fsvg%3E\");left:10px;right:auto}.swiper-button-next,.swiper-container-rtl .swiper-button-prev{background-image:url(\"data:image/svg+xml;charset=utf-8,%3Csvg%20xmlns%3D'http%3A%2F%2Fwww.w3.org%2F2000%2Fsvg'%20viewBox%3D'0%200%2027%2044'%3E%3Cpath%20d%3D'M27%2C22L27%2C22L5%2C44l-2.1-2.1L22.8%2C22L2.9%2C2.1L5%2C0L27%2C22L27%2C22z'%20fill%3D'%23007aff'%2F%3E%3C%2Fsvg%3E\");right:10px;left:auto}.swiper-button-prev.swiper-button-white,.swiper-container-rtl .swiper-button-next.swiper-button-white{background-image:url(\"data:image/svg+xml;charset=utf-8,%3Csvg%20xmlns%3D'http%3A%2F%2Fwww.w3.org%2F2000%2Fsvg'%20viewBox%3D'0%200%2027%2044'%3E%3Cpath%20d%3D'M0%2C22L22%2C0l2.1%2C2.1L4.2%2C22l19.9%2C19.9L22%2C44L0%2C22L0%2C22L0%2C22z'%20fill%3D'%23ffffff'%2F%3E%3C%2Fsvg%3E\")}.swiper-button-next.swiper-button-white,.swiper-container-rtl .swiper-button-prev.swiper-button-white{background-image:url(\"data:image/svg+xml;charset=utf-8,%3Csvg%20xmlns%3D'http%3A%2F%2Fwww.w3.org%2F2000%2Fsvg'%20viewBox%3D'0%200%2027%2044'%3E%3Cpath%20d%3D'M27%2C22L27%2C22L5%2C44l-2.1-2.1L22.8%2C22L2.9%2C2.1L5%2C0L27%2C22L27%2C22z'%20fill%3D'%23ffffff'%2F%3E%3C%2Fsvg%3E\")}.swiper-button-prev.swiper-button-black,.swiper-container-rtl .swiper-button-next.swiper-button-black{background-image:url(\"data:image/svg+xml;charset=utf-8,%3Csvg%20xmlns%3D'http%3A%2F%2Fwww.w3.org%2F2000%2Fsvg'%20viewBox%3D'0%200%2027%2044'%3E%3Cpath%20d%3D'M0%2C22L22%2C0l2.1%2C2.1L4.2%2C22l19.9%2C19.9L22%2C44L0%2C22L0%2C22L0%2C22z'%20fill%3D'%23000000'%2F%3E%3C%2Fsvg%3E\")}.swiper-button-next.swiper-button-black,.swiper-container-rtl .swiper-button-prev.swiper-button-black{background-image:url(\"data:image/svg+xml;charset=utf-8,%3Csvg%20xmlns%3D'http%3A%2F%2Fwww.w3.org%2F2000%2Fsvg'%20viewBox%3D'0%200%2027%2044'%3E%3Cpath%20d%3D'M27%2C22L27%2C22L5%2C44l-2.1-2.1L22.8%2C22L2.9%2C2.1L5%2C0L27%2C22L27%2C22z'%20fill%3D'%23000000'%2F%3E%3C%2Fsvg%3E\")}.swiper-button-lock{display:none}.swiper-pagination{position:absolute;text-align:center;-webkit-transition:.3s opacity;-o-transition:.3s opacity;transition:.3s opacity;-webkit-transform:translate3d(0,0,0);transform:translate3d(0,0,0);z-index:10}.swiper-pagination.swiper-pagination-hidden{opacity:0}.swiper-container-horizontal>.swiper-pagination-bullets,.swiper-pagination-custom,.swiper-pagination-fraction{bottom:10px;left:0;width:100%}.swiper-pagination-bullets-dynamic{overflow:hidden;font-size:0}.swiper-pagination-bullets-dynamic .swiper-pagination-bullet{-webkit-transform:scale(.33);-ms-transform:scale(.33);transform:scale(.33);position:relative}.swiper-pagination-bullets-dynamic .swiper-pagination-bullet-active{-webkit-transform:scale(1);-ms-transform:scale(1);transform:scale(1)}.swiper-pagination-bullets-dynamic .swiper-pagination-bullet-active-main{-webkit-transform:scale(1);-ms-transform:scale(1);transform:scale(1)}.swiper-pagination-bullets-dynamic .swiper-pagination-bullet-active-prev{-webkit-transform:scale(.66);-ms-transform:scale(.66);transform:scale(.66)}.swiper-pagination-bullets-dynamic .swiper-pagination-bullet-active-prev-prev{-webkit-transform:scale(.33);-ms-transform:scale(.33);transform:scale(.33)}.swiper-pagination-bullets-dynamic .swiper-pagination-bullet-active-next{-webkit-transform:scale(.66);-ms-transform:scale(.66);transform:scale(.66)}.swiper-pagination-bullets-dynamic .swiper-pagination-bullet-active-next-next{-webkit-transform:scale(.33);-ms-transform:scale(.33);transform:scale(.33)}.swiper-pagination-bullet{width:8px;height:8px;display:inline-block;border-radius:100%;background:#000;opacity:.2}button.swiper-pagination-bullet{border:none;margin:0;padding:0;-webkit-box-shadow:none;box-shadow:none;-webkit-appearance:none;-moz-appearance:none;appearance:none}.swiper-pagination-clickable .swiper-pagination-bullet{cursor:pointer}.swiper-pagination-bullet-active{opacity:1;background:#007aff}.swiper-container-vertical>.swiper-pagination-bullets{right:10px;top:50%;-webkit-transform:translate3d(0,-50%,0);transform:translate3d(0,-50%,0)}.swiper-container-vertical>.swiper-pagination-bullets .swiper-pagination-bullet{margin:6px 0;display:block}.swiper-container-vertical>.swiper-pagination-bullets.swiper-pagination-bullets-dynamic{top:50%;-webkit-transform:translateY(-50%);-ms-transform:translateY(-50%);transform:translateY(-50%);width:8px}.swiper-container-vertical>.swiper-pagination-bullets.swiper-pagination-bullets-dynamic .swiper-pagination-bullet{display:inline-block;-webkit-transition:.2s top,.2s -webkit-transform;transition:.2s top,.2s -webkit-transform;-o-transition:.2s transform,.2s top;transition:.2s transform,.2s top;transition:.2s transform,.2s top,.2s -webkit-transform}.swiper-container-horizontal>.swiper-pagination-bullets .swiper-pagination-bullet{margin:0 4px}.swiper-container-horizontal>.swiper-pagination-bullets.swiper-pagination-bullets-dynamic{left:50%;-webkit-transform:translateX(-50%);-ms-transform:translateX(-50%);transform:translateX(-50%);white-space:nowrap}.swiper-container-horizontal>.swiper-pagination-bullets.swiper-pagination-bullets-dynamic .swiper-pagination-bullet{-webkit-transition:.2s left,.2s -webkit-transform;transition:.2s left,.2s -webkit-transform;-o-transition:.2s transform,.2s left;transition:.2s transform,.2s left;transition:.2s transform,.2s left,.2s -webkit-transform}.swiper-container-horizontal.swiper-container-rtl>.swiper-pagination-bullets-dynamic .swiper-pagination-bullet{-webkit-transition:.2s right,.2s -webkit-transform;transition:.2s right,.2s -webkit-transform;-o-transition:.2s transform,.2s right;transition:.2s transform,.2s right;transition:.2s transform,.2s right,.2s -webkit-transform}.swiper-pagination-progressbar{background:rgba(0,0,0,.25);position:absolute}.swiper-pagination-progressbar .swiper-pagination-progressbar-fill{background:#007aff;position:absolute;left:0;top:0;width:100%;height:100%;-webkit-transform:scale(0);-ms-transform:scale(0);transform:scale(0);-webkit-transform-origin:left top;-ms-transform-origin:left top;transform-origin:left top}.swiper-container-rtl .swiper-pagination-progressbar .swiper-pagination-progressbar-fill{-webkit-transform-origin:right top;-ms-transform-origin:right top;transform-origin:right top}.swiper-container-horizontal>.swiper-pagination-progressbar,.swiper-container-vertical>.swiper-pagination-progressbar.swiper-pagination-progressbar-opposite{width:100%;height:4px;left:0;top:0}.swiper-container-horizontal>.swiper-pagination-progressbar.swiper-pagination-progressbar-opposite,.swiper-container-vertical>.swiper-pagination-progressbar{width:4px;height:100%;left:0;top:0}.swiper-pagination-white .swiper-pagination-bullet-active{background:#fff}.swiper-pagination-progressbar.swiper-pagination-white{background:rgba(255,255,255,.25)}.swiper-pagination-progressbar.swiper-pagination-white .swiper-pagination-progressbar-fill{background:#fff}.swiper-pagination-black .swiper-pagination-bullet-active{background:#000}.swiper-pagination-progressbar.swiper-pagination-black{background:rgba(0,0,0,.25)}.swiper-pagination-progressbar.swiper-pagination-black .swiper-pagination-progressbar-fill{background:#000}.swiper-pagination-lock{display:none}.swiper-scrollbar{border-radius:10px;position:relative;-ms-touch-action:none;background:rgba(0,0,0,.1)}.swiper-container-horizontal>.swiper-scrollbar{position:absolute;left:1%;bottom:3px;z-index:50;height:5px;width:98%}.swiper-container-vertical>.swiper-scrollbar{position:absolute;right:3px;top:1%;z-index:50;width:5px;height:98%}.swiper-scrollbar-drag{height:100%;width:100%;position:relative;background:rgba(0,0,0,.5);border-radius:10px;left:0;top:0}.swiper-scrollbar-cursor-drag{cursor:move}.swiper-scrollbar-lock{display:none}.swiper-zoom-container{width:100%;height:100%;display:-webkit-box;display:-webkit-flex;display:-ms-flexbox;display:flex;-webkit-box-pack:center;-webkit-justify-content:center;-ms-flex-pack:center;justify-content:center;-webkit-box-align:center;-webkit-align-items:center;-ms-flex-align:center;align-items:center;text-align:center}.swiper-zoom-container>canvas,.swiper-zoom-container>img,.swiper-zoom-container>svg{max-width:100%;max-height:100%;-o-object-fit:contain;object-fit:contain}.swiper-slide-zoomed{cursor:move}.swiper-lazy-preloader{width:42px;height:42px;position:absolute;left:50%;top:50%;margin-left:-21px;margin-top:-21px;z-index:10;-webkit-transform-origin:50%;-ms-transform-origin:50%;transform-origin:50%;-webkit-animation:swiper-preloader-spin 1s steps(12,end) infinite;animation:swiper-preloader-spin 1s steps(12,end) infinite}.swiper-lazy-preloader:after{display:block;content:'';width:100%;height:100%;background-image:url(\"data:image/svg+xml;charset=utf-8,%3Csvg%20viewBox%3D'0%200%20120%20120'%20xmlns%3D'http%3A%2F%2Fwww.w3.org%2F2000%2Fsvg'%20xmlns%3Axlink%3D'http%3A%2F%2Fwww.w3.org%2F1999%2Fxlink'%3E%3Cdefs%3E%3Cline%20id%3D'l'%20x1%3D'60'%20x2%3D'60'%20y1%3D'7'%20y2%3D'27'%20stroke%3D'%236c6c6c'%20stroke-width%3D'11'%20stroke-linecap%3D'round'%2F%3E%3C%2Fdefs%3E%3Cg%3E%3Cuse%20xlink%3Ahref%3D'%23l'%20opacity%3D'.27'%2F%3E%3Cuse%20xlink%3Ahref%3D'%23l'%20opacity%3D'.27'%20transform%3D'rotate(30%2060%2C60)'%2F%3E%3Cuse%20xlink%3Ahref%3D'%23l'%20opacity%3D'.27'%20transform%3D'rotate(60%2060%2C60)'%2F%3E%3Cuse%20xlink%3Ahref%3D'%23l'%20opacity%3D'.27'%20transform%3D'rotate(90%2060%2C60)'%2F%3E%3Cuse%20xlink%3Ahref%3D'%23l'%20opacity%3D'.27'%20transform%3D'rotate(120%2060%2C60)'%2F%3E%3Cuse%20xlink%3Ahref%3D'%23l'%20opacity%3D'.27'%20transform%3D'rotate(150%2060%2C60)'%2F%3E%3Cuse%20xlink%3Ahref%3D'%23l'%20opacity%3D'.37'%20transform%3D'rotate(180%2060%2C60)'%2F%3E%3Cuse%20xlink%3Ahref%3D'%23l'%20opacity%3D'.46'%20transform%3D'rotate(210%2060%2C60)'%2F%3E%3Cuse%20xlink%3Ahref%3D'%23l'%20opacity%3D'.56'%20transform%3D'rotate(240%2060%2C60)'%2F%3E%3Cuse%20xlink%3Ahref%3D'%23l'%20opacity%3D'.66'%20transform%3D'rotate(270%2060%2C60)'%2F%3E%3Cuse%20xlink%3Ahref%3D'%23l'%20opacity%3D'.75'%20transform%3D'rotate(300%2060%2C60)'%2F%3E%3Cuse%20xlink%3Ahref%3D'%23l'%20opacity%3D'.85'%20transform%3D'rotate(330%2060%2C60)'%2F%3E%3C%2Fg%3E%3C%2Fsvg%3E\");background-position:50%;background-size:100%;background-repeat:no-repeat}.swiper-lazy-preloader-white:after{background-image:url(\"data:image/svg+xml;charset=utf-8,%3Csvg%20viewBox%3D'0%200%20120%20120'%20xmlns%3D'http%3A%2F%2Fwww.w3.org%2F2000%2Fsvg'%20xmlns%3Axlink%3D'http%3A%2F%2Fwww.w3.org%2F1999%2Fxlink'%3E%3Cdefs%3E%3Cline%20id%3D'l'%20x1%3D'60'%20x2%3D'60'%20y1%3D'7'%20y2%3D'27'%20stroke%3D'%23fff'%20stroke-width%3D'11'%20stroke-linecap%3D'round'%2F%3E%3C%2Fdefs%3E%3Cg%3E%3Cuse%20xlink%3Ahref%3D'%23l'%20opacity%3D'.27'%2F%3E%3Cuse%20xlink%3Ahref%3D'%23l'%20opacity%3D'.27'%20transform%3D'rotate(30%2060%2C60)'%2F%3E%3Cuse%20xlink%3Ahref%3D'%23l'%20opacity%3D'.27'%20transform%3D'rotate(60%2060%2C60)'%2F%3E%3Cuse%20xlink%3Ahref%3D'%23l'%20opacity%3D'.27'%20transform%3D'rotate(90%2060%2C60)'%2F%3E%3Cuse%20xlink%3Ahref%3D'%23l'%20opacity%3D'.27'%20transform%3D'rotate(120%2060%2C60)'%2F%3E%3Cuse%20xlink%3Ahref%3D'%23l'%20opacity%3D'.27'%20transform%3D'rotate(150%2060%2C60)'%2F%3E%3Cuse%20xlink%3Ahref%3D'%23l'%20opacity%3D'.37'%20transform%3D'rotate(180%2060%2C60)'%2F%3E%3Cuse%20xlink%3Ahref%3D'%23l'%20opacity%3D'.46'%20transform%3D'rotate(210%2060%2C60)'%2F%3E%3Cuse%20xlink%3Ahref%3D'%23l'%20opacity%3D'.56'%20transform%3D'rotate(240%2060%2C60)'%2F%3E%3Cuse%20xlink%3Ahref%3D'%23l'%20opacity%3D'.66'%20transform%3D'rotate(270%2060%2C60)'%2F%3E%3Cuse%20xlink%3Ahref%3D'%23l'%20opacity%3D'.75'%20transform%3D'rotate(300%2060%2C60)'%2F%3E%3Cuse%20xlink%3Ahref%3D'%23l'%20opacity%3D'.85'%20transform%3D'rotate(330%2060%2C60)'%2F%3E%3C%2Fg%3E%3C%2Fsvg%3E\")}@-webkit-keyframes swiper-preloader-spin{100%{-webkit-transform:rotate(360deg);transform:rotate(360deg)}}@keyframes swiper-preloader-spin{100%{-webkit-transform:rotate(360deg);transform:rotate(360deg)}}.swiper-container .swiper-notification{position:absolute;left:0;top:0;pointer-events:none;opacity:0;z-index:-1000}.swiper-container-fade.swiper-container-free-mode .swiper-slide{-webkit-transition-timing-function:ease-out;-o-transition-timing-function:ease-out;transition-timing-function:ease-out}.swiper-container-fade .swiper-slide{pointer-events:none;-webkit-transition-property:opacity;-o-transition-property:opacity;transition-property:opacity}.swiper-container-fade .swiper-slide .swiper-slide{pointer-events:none}.swiper-container-fade .swiper-slide-active,.swiper-container-fade .swiper-slide-active .swiper-slide-active{pointer-events:auto}.swiper-container-cube{overflow:visible}.swiper-container-cube .swiper-slide{pointer-events:none;-webkit-backface-visibility:hidden;backface-visibility:hidden;z-index:1;visibility:hidden;-webkit-transform-origin:0 0;-ms-transform-origin:0 0;transform-origin:0 0;width:100%;height:100%}.swiper-container-cube .swiper-slide .swiper-slide{pointer-events:none}.swiper-container-cube.swiper-container-rtl .swiper-slide{-webkit-transform-origin:100% 0;-ms-transform-origin:100% 0;transform-origin:100% 0}.swiper-container-cube .swiper-slide-active,.swiper-container-cube .swiper-slide-active .swiper-slide-active{pointer-events:auto}.swiper-container-cube .swiper-slide-active,.swiper-container-cube .swiper-slide-next,.swiper-container-cube .swiper-slide-next+.swiper-slide,.swiper-container-cube .swiper-slide-prev{pointer-events:auto;visibility:visible}.swiper-container-cube .swiper-slide-shadow-bottom,.swiper-container-cube .swiper-slide-shadow-left,.swiper-container-cube .swiper-slide-shadow-right,.swiper-container-cube .swiper-slide-shadow-top{z-index:0;-webkit-backface-visibility:hidden;backface-visibility:hidden}.swiper-container-cube .swiper-cube-shadow{position:absolute;left:0;bottom:0;width:100%;height:100%;background:#000;opacity:.6;-webkit-filter:blur(50px);filter:blur(50px);z-index:0}.swiper-container-flip{overflow:visible}.swiper-container-flip .swiper-slide{pointer-events:none;-webkit-backface-visibility:hidden;backface-visibility:hidden;z-index:1}.swiper-container-flip .swiper-slide .swiper-slide{pointer-events:none}.swiper-container-flip .swiper-slide-active,.swiper-container-flip .swiper-slide-active .swiper-slide-active{pointer-events:auto}.swiper-container-flip .swiper-slide-shadow-bottom,.swiper-container-flip .swiper-slide-shadow-left,.swiper-container-flip .swiper-slide-shadow-right,.swiper-container-flip .swiper-slide-shadow-top{z-index:0;-webkit-backface-visibility:hidden;backface-visibility:hidden}.swiper-container-coverflow .swiper-wrapper{-ms-perspective:1200px}/*helper.css*/.font-10 { font-size: 10px;}.font-11 { font-size: 11px;}.font-12 { font-size: 12px;}.font-13 { font-size: 13px;}.font-14 { font-size: 14px;}.font-15 { font-size: 15px;}.font-22 { font-size: 22px;}.font-w500 { font-weight: 500;}.font-w900 { font-weight: 900;}.font-n { font-weight: normal;}.font-b { font-weight: bold;}.p-0 { padding: 0;}.p-10 { padding: 10px;}.p-15 { padding: 15px;}.pt-0 { padding-top: 0;}.pb-0 { padding-bottom: 0;}.pb-5 { padding-bottom: 5px;}.pb-10 { padding-bottom: 10px;}.pb-15 { padding-bottom: 15px;}.pl-0 { padding-left: 0;}.pl-5 { padding-left: 5px;}.pl-8 { padding-left: 8px;}.pl-10 { padding-left: 10px;}.pl-15 { padding-left: 15px;}.pr-0 { padding-right: 0;}.pr-5 { padding-right: 5px;}.pr-8 { padding-right: 8px;}.pr-10 { padding-right: 10px;}.pr-15 { padding-right: 15px;}.ptb-0 { padding-top: 0; padding-bottom: 0;}.ptb-5 { padding-top: 5px; padding-bottom: 5px;}.ptb-10 { padding-top: 10px; padding-bottom: 10px;}.ptb-15 { padding-top: 15px; padding-bottom: 15px;}.prl-0 { padding-right: 0; padding-left: 0;}.prl-5 { padding-right: 8px; padding-left: 8px;}.prl-8 { padding-right: 5px; padding-left: 5px;}.prl-10 { padding-right: 10px; padding-left: 10px;}.prl-15 { padding-right: 15px; padding-left: 15px;}.m-0 { margin: 0;}.m-5 { margin: 5px;}.m-10 { margin: 10px;}.m-15 { margin: 15px;}.mb-30 { margin-bottom: 2rem;}.mb-50 { margin-bottom: 3rem;}.mt-0 { margin-top: 0;}.mt-5 { margin-top: 5px;}.mt-8 { margin-top: 8px;}.mt-10 { margin-top: 10px;}.mt-15 { margin-top: 15px;}.mt-50 { margin-top: 50px;}.mb-0 { margin-bottom: 0;}.mb-5 { margin-bottom: 5px;}.mb-8 { margin-bottom: 8px;}.mb-10 { margin-bottom: 0.63rem;}.mb-16 { margin-bottom: 1rem;}.ml-0 { margin-left: 0;}.ml-5 { margin-left: 5px;}.ml-10 { margin-left: 10px;}.ml-15 { margin-left: 15px;}.mr-0 { margin-right: 0;}.mr-5 { margin-right: 5px;}.mr-10 { margin-right: 10px;}.mr-15 { margin-right: 15px;}.mtb-0 { margin-top: 0; margin-bottom: 0;}.mtb-5 { margin-top: 5px; margin-bottom: 5px;}.mtb-10 { margin-top: 10px; margin-bottom: 10px;}.mtb-15 { margin-top: 15px; margin-bottom: 15px;}.mrl-0 { margin-right: 0; margin-left: 0;}.mrl-5 { margin-right: 5px; margin-left: 5px;}.mrl-10 { margin-right: 10px; margin-left: 10px;}.mrl-15 { margin-right: 15px; margin-left: 15px;}.mrl-auto { margin-right: auto; margin-left: auto;}.t-italic { font-style: italic;}.t-uppercase { text-transform: uppercase;}.t-lowercase { text-transform: lowercase;}.t-underline { text-decoration: underline;}.t-line-through { text-decoration: line-through;}.t-h-no-decor:hover { text-decoration: none;}.t-h-underline:hover { text-decoration: underline;}.t-h-line-through:hover { text-decoration: line-through;}.t-truncate { overflow: hidden; white-space: nowrap; text-overflow: ellipsis;}.t-left, .t-xs-left { text-align: left;}.t-right, .t-xs-right { text-align: right;}.t-center, .t-xs-center { text-align: center;}.overflow-hidden, .no-scroll { overflow: hidden;}.overflow-visible { overflow: visible;}.is-block { display: block;}.is-inline-block { display: inline-block;}.is-hidden { display: none;}.no-js .is-hidden--no-js { display: none;}.js .is-hidden--js { display: none;}.j-stk-dn .top-header { justify-content: inherit;}.highlghts_Wdgt.reltd ul {padding-left: 0; flex-direction: row; margin-left: 0;}.highlghts_Wdgt.reltd ul li{list-style: none;}.ins_storybody ul{margin-left: 20px;}.ins_storybody ul li{list-style: disc;margin-bottom: 10px;}.ins_storybody ol{margin-left: 20px;}.ins_storybody ol li{list-style: decimal;margin-bottom: 10px;}._world-wrapper input[type=checkbox]{display:none}._india-wrapper *,._world-wrapper *{-webkit-box-sizing:border-box;-moz-box-sizing:border-box;box-sizing:border-box;margin:0;padding:0}._india-wrapper a,._world-wrapper a{margin:0;padding:0;font-size:100%;outline:0;text-decoration:none;background:0 0;vertical-align:baseline;color:#333}._india-wrapper table,._world-wrapper table{border-collapse:collapse;border-spacing:0;word-break:normal}._india-wrapper,._world-wrapper{width:100%;padding:15px 10px;background:#eee;border-radius:4px;position:relative;margin:15px 0 20px;font-family:Roboto,sans-serif;font-size:14px;font-weight:400;color:#333;line-height:1;box-sizing:border-box}._world-head{width:auto;display:table;margin:0 auto;background:#fff;color:#4c4c4c;border-radius:6px 6px 0 0;padding:7px 25px;font-size:16px;font-weight:600;text-transform:uppercase;position:relative;z-index:1;line-height:1.1}div.chdr{width:100%;display:flex;justify-content:space-between;background-color:#fff;padding:10px;border-radius:6px;box-sizing:border-box}div.chdr .total-data-list{width:20%;text-align:center;display:flex;align-items:center;justify-content:center;flex-direction:column}.ind-mp_num{font-size:24px;font-weight:600}.ind-mp_txt{display:block;font-size:12px;color:#888;font-weight:500;text-transform:uppercase;margin-top:5px}.confirmed .ind-mp_num{color:#4c4c4c}.confirmed .ind-mp_txt{color:#a2a2a2}.activecase .ind-mp_num{color:#3a81d8}.activecase .ind-mp_txt{color:#81a6d3}.recovered .ind-mp_num{color:#4f9a0b}.recovered .ind-mp_txt{color:#80b74f}.deaths .ind-mp_num{color:#cc362c}.deaths .ind-mp_txt{color:#c9706b}._world-wrapper>div.p{font-size:12px;line-height:1.5;font-weight:400;padding-top:8px;margin:0;box-sizing:border-box}._india-wrapper._world-wrapper > .p span{display:inline-block;margin-right:5px;}._india-wrapper div.p>a{display:inline-block;background-color:#fff;border-radius:20px;padding:2px 12px;margin:5px 5px 0 0;font-size:13px}._world-wrapper._india-wrapper h3{font-size:16px;padding-top:10px}._india-wrapper span.ind-mp_num{position:relative;display:flex;flex-direction:column;align-items:center;justify-content:center;padding-bottom:15px}._india-wrapper .data-up{color:#c9706b;font-weight:400;background:url(https://c.ndtvimg.com/2020-04/20hape3_red-arrow_120x90_01_April_20.svg) left center no-repeat;position:absolute;padding-left:12px;font-size:12px;margin-left:5px;top:50%;transform:translateY(-50%);font-weight:700}._india-wrapper .data-down-up{color:#4f9a0b;font-weight:400;background:url(https://c.ndtvimg.com/2020-04/qbegkfog_green-arrow_120x90_01_April_20.svg) left center no-repeat;position:absolute;padding-left:12px;font-size:12px;margin-left:5px;top:50%;transform:translateY(-50%);font-weight:700}._india-wrapper .total-data-list span.ind-mp_num .data-down-up,._india-wrapper .total-data-list span.ind-mp_num .data-up{position:absolute;left:50%;top:auto;bottom:2px;transform:translate(-50%,0);width:auto;margin:0;font-weight:700;word-break:keep-all}._india-wrapper ._india-table{width:100%;background-color:#fff;border-radius:6px;padding:10px;margin-top:10px}.table-body tr.table-row:last-child{border-bottom:none}table.rr-tbl tbody tr:nth-last-child(-n+20){display:none}#showRetired~.ldhide{display:none}#showRetired:checked+table.rr-tbl tbody tr:nth-last-child(-n+20){display:table-row}#showRetired:checked~.ldmore{display:none}#showRetired:checked~.ldhide{display:block}.ldhide,.ldmore{margin:0 auto;text-align:center;position:absolute;left:50%;transform:translateX(-50%)}.ldhide label,.ldmore label{background-color:#fff;padding:10px 30px;border-radius:20px;cursor:pointer;box-shadow:0 0 10px rgba(0,0,0,.12);position:relative}.ldhide label:after,.ldhide label:before,.ldmore label:after,.ldmore label:before{content:'';width:9px;height:9px;display:block;position:absolute;left:12px;top:50%;margin-top:-4px;background:url(https://c.ndtvimg.com/2020-04/20hape3_red-arrow_120x90_01_April_20.svg) center center no-repeat;background-size:100%;filter:grayscale(1) opacity(.65);transform:rotate(180deg)}.ldhide label:after,.ldmore label:after{left:auto;right:12px}.ldhide label:after,.ldhide label:before{transform:none}table.rr-tbl tr label{overflow:hidden;display:-webkit-box;-webkit-line-clamp:1;-webkit-box-orient:vertical;line-height:normal}table.rr-tbl tr label::before{content:'';position:absolute;left:0;width:16px;height:16px;border-radius:50%;top:50%;transform:translateY(-50%);background:#ccc url(https://c.ndtvimg.com/2020-04/he1so7ag_plus_120x90_01_April_20.svg) center center no-repeat;background-size:50%;opacity:.7}table.rr-tbl tr input:checked+label:before{content:'';position:absolute;left:0;width:16px;height:16px;border-radius:50%;top:50%;transform:translateY(-50%);background:#ccc url(https://c.ndtvimg.com/2020-04/836ofs2g_minus_120x90_01_April_20.svg) center center no-repeat;background-size:50%;opacity:.7}table.rr-tbl .ddiv{padding:10px;background-color:#fafafa;border-radius:6px;margin:10px}.dist-list{display:flex;align-items:center;justify-content:space-between;padding:6px;border-bottom:solid 1px #eaeaea;font-size:14px;font-weight:400}div.dist-list:first-child span{font-weight:700}.dist-list:last-child{border-bottom:none}table.rr-tbl input+label+div.ddiv{display:none}table.rr-tbl input:checked+label+div.ddiv{display:flex;flex-wrap:wrap;flex-direction:column}:root{--c:#CC362C;--c_b:rgba(162, 162, 162, .38);--a:#3A81D8;--a_b:rgba(129, 166, 211, .38);--r:#4F9A0B;--r_b:rgba(128, 183, 79, .38);--d:#CC362C;--d_b:rgba(201, 112, 107, .38);--con:#4C4C4C;--con_b:rgba(162, 162, 162, .38)}table.rr-tbl{max-width:100%;margin:0 auto;width:100%}table.rr-tbl .table-body tr{border-bottom:solid 1px #ddd}table.rr-tbl td,table.rr-tbl th{border-width:0;padding:10px;text-align:center;vertical-align:middle;font-size:16px;vertical-align:top;position:relative}table.rr-tbl td:first-of-type,table.rr-tbl th:first-of-type{text-align:left}.table.rr-tbl th:nth-of-type(1),table.rr-tbl td:nth-of-type(1){width:40%}.table.rr-tbl th:nth-of-type(2),table.rr-tbl td:nth-of-type(2){width:20%}.table.rr-tbl th:nth-of-type(3),table.rr-tbl td:nth-of-type(3){width:20%}.table.rr-tbl th:nth-of-type(4),table.rr-tbl td:nth-of-type(3){width:20%}table.rr-tbl td:nth-of-type(1) label{cursor:pointer;position:relative;padding-left:25px;display:flex}table.rr-tbl tr{margin:10px}table.rr-tbl .gr,table.rr-tbl .rd{color:var(--c);font-size:12px;padding:2px;margin:0;text-align:left;padding-top:10px}table.rr-tbl .gr{color:var(--r)}table.rr-tbl .c{background-color:var(--con_b);color:var(--con);min-width:82px;}table.rr-tbl .a{background-color:var(--a_b);color:var(--a);min-width:82px;}table.rr-tbl .r{background-color:var(--r_b);color:var(--r);min-width:82px;}table.rr-tbl .d{background-color:var(--d_b);color:var(--d);min-width:82px;}table.rr-tbl thead th{font-size:14px;padding:10px;background-color:rgba(234,234,234,.38);color:#4c4c4c;border-bottom:none;text-align:center;font-size:14px;font-weight:600;text-transform:uppercase;border-left:solid 1px rgba(255,255,255,.25)}table.rr-tbl thead th:first-child{border:none}p.mid-wrap{text-align:right;position:relative;transform:translateX(-50%);display:inline-block;margin:0;line-height:normal}@media only screen and (max-width:760px),(min-device-width:768px) and (max-device-width:1024px){table.rr-tbl .gr{font-size:10px}table.rr-tbl td,table.rr-tbl th{font-size:14px}table.rr-tbl .gr,table.rr-tbl .rd{font-size:10px}}@media only screen and (max-width:500px){._india-wrapper._world-wrapper > .p span{display:block;}._india-wrapper._world-wrapper{padding:15px 10px 0}.ind-mp_num{font-size:18px;letter-spacing:-.3px}._india-wrapper ._india-table{width:calc(100% + 20px);margin-left:-10px;padding:0 0 35px 0;border-radius:0;position:relative;overflow:hidden;overflow-x:auto;-webkit-overflow-scrolling:touch}._world-wrapper>div.p{padding:10px 0 5px 0}table.rr-tbl thead th{text-transform:none;padding:10px 5px}table.rr-tbl td,table.rr-tbl th{padding:10px 0}table.rr-tbl .ddiv{margin:10px 0;padding:0;position:relative}.dist-list{font-size:14px}table.rr-tbl input:checked+label+div.ddiv{width:50vw}._world-wrapper._india-wrapper h3{font-size:14px;padding-top:10px;font-weight:700}} #fwn_videos {width: 650px;}.firework-cont{width:100%;background-color:#fff;padding:10px;box-sizing:border-box;box-shadow:0 0 10px rgba(0,0,0,.075);border-radius:6px}.firework-head{width:65px;margin-bottom:10px}.firework-head a{display:block;font-size:0;line-height:0}.firework-head img{width:100%;display:block}                \n",
              "\t\t \n",
              "\t\t   \t\t \n",
              "        </style><link href=\"https://cdn.ndtv.com/static/web/css/amp-widget-stories.css?ver-20201024.1\" rel=\"stylesheet\"/><!-- Google Analytics Starts --><!-- Google Analytics Ends --><noscript><img src=\"https://sb.scorecardresearch.com/p?c1=2&amp;c2=9548033&amp;cv=2.0&amp;cj=1\"/></noscript>\n",
              "</link></link></link></link></link></link></meta></head><body><!-- Google Tag Manager (noscript) --><noscript><iframe height=\"0\" src=\"https://www.googletagmanager.com/ns.html?id=GTM-N2R2KQQ\" style=\"display:none;visibility:hidden\" width=\"0\"></iframe></noscript><!-- End Google Tag Manager (noscript) --><!--====== Top Menu, Advertisement & Social share ======--><header class=\"header clearfix\"><div class=\"t-br\"><div class=\"container\"><div class=\"row\"><div class=\"t-br_modify\"><nav class=\"t-nv_lf\"><ul class=\"t-nv_ul\"><li class=\"t-nv_li\"></li><li class=\"t-nv_li\"></li><li class=\"t-nv_li\"></li><li class=\"t-nv_li\"></li><li class=\"t-nv_li\"></li><li class=\"t-nv_li\"></li><li class=\"t-nv_li\"></li><li class=\"t-nv_li\"></li><li class=\"t-nv_li\"></li><li class=\"t-nv_li\"></li><li class=\"t-nv_li\"></li><li class=\"t-nv_li\"></li><li class=\"t-nv_li\"></li><li class=\"t-nv_li\"></li><!--<li class=\"t-nv_li\"><a class=\"t-nv_lnk\" title=\"Trains\" href=\"https://www.railbeeps.com\">Trains</a></li> --><li class=\"t-nv_li\"></li></ul></nav></div></div></div></div></header><nav class=\"m-nv\"><div class=\"container \"><div class=\"row\"><div class=\"top-header\"><!-- Logo - Dropdown --><div class=\"ndtv-logo-wrp dd-ven dd-nav_two dd-nav_hvr fleft logo-\"><div itemprop=\"publisher\" itemscope=\"\" itemtype=\"https://schema.org/Organization\"><div content=\"https://cdn.ndtv.com/static/ndtv_2014/images/ndtvlogo_blk.png\" itemprop=\"logo\" itemscope=\"\" itemtype=\"https://schema.org/ImageObject\"><meta content=\"https://cdn.ndtv.com/static/ndtv_2014/images/ndtvlogo_blk.png\" itemprop=\"url\"/><meta content=\"100\" itemprop=\"width\"/><meta content=\"30\" itemprop=\"height\"/></div><meta content=\"NDTV\" itemprop=\"name\"/></div></div><nav class=\"m-nv_lf\"><ul class=\"m-nv_ul\" id=\"inkmob-nav\"><li class=\"m-nv_li dd-nav_hvr\"></li><li class=\"m-nv_li dd-nav_hvr\"></li><li class=\"m-nv_li dd-nav_hvr\"></li><li class=\"m-nv_li dd-nav_hvr\"></li><li class=\"m-nv_li dd-nav_hvr\"></li><li class=\"m-nv_li dd-nav_hvr\"></li><li class=\"m-nv_li dd-nav_hvr\"></li><li class=\"m-nv_li dd-nav_hvr\"></li><li class=\"m-nv_li dd-nav_hvr\"></li><li class=\"m-nv_li dd-nav_hvr\"></li><li class=\"m-nv_li dd-nav_three-r dd-nav_hvr\"><div class=\"dd-nav\"><ul class=\"dd-nav_ul col-md-4\"><li class=\"dd-nav_li\"></li></ul><ul class=\"dd-nav_ul col-md-4\"><li class=\"dd-nav_li\"></li><li class=\"dd-nav_li\"></li></ul><ul class=\"dd-nav_ul col-md-4\"><li class=\"dd-nav_li\"></li><li class=\"dd-nav_li\"></li></ul><ul class=\"dd-nav_ul col-md-4\"><li class=\"dd-nav_li\"></li><li class=\"dd-nav_li\"></li></ul><ul class=\"dd-nav_ul col-md-4\"><li class=\"dd-nav_li\"></li><li class=\"dd-nav_li\"></li></ul><ul class=\"dd-nav_ul col-md-4\"></ul></div></li></ul></nav><!-- Story Tittle & Social Share Sticky Drop --><div class=\"stk-t\"><div class=\"stk-t_wr\"><div class=\"stk-ttl txt_trc-one\">\"No More A Nurturing Leadership\": 'Dissent' Letter To Sonia Gandhi</div><div class=\"ss\"><!--<a class=\"ss-lk printer ttp\" href=\"javascript:void(0);\" onclick=\"JavaScript:window.print();\"><div class=\"vj_mix\"><svg class=\"ndtv-icon\"><use xlink:href=\"#print\"></use></svg></div></a> --><button class=\"ss-lk comment vj_mix-comment cmt-ac cmt-dn\" href=\"#\"><div class=\"vj_mix\"><svg class=\"ndtv-icon\"><use xlink:href=\"#chat\"></use></svg><span class=\"numb ndtv-cmnt-cnt\" style=\"display:none;\"></span></div></button><a class=\"snapchat-creative-kit-share ss-lk ttp\" data-share-url=\"https://www.ndtv.com/india-news/details-of-dissent-letter-to-sonia-gandhi-steady-decline-no-honest-inspection-2286399?snapchat=1\" data-size=\"large\" data-text=\"false\"><svg class=\"ndtv-icon\"><use xlink:href=\"#snapchat\"></use></svg></a></div></div></div><!-- Right Icons Live Tv, Notification and Search --><div class=\"fright\"><!-- Search Icon --><!-- Notification Icon --><span class=\"t-icn-nv t-icn-nt ttp\" id=\"___ndtvspldiv\"></span><!-- Live TV Icon & Dropdown --><div class=\"t-icn-nv t-icn-ltv m-nv_li dd-nav_ltv-r dd-nav_hvr\"><svg class=\"ndtv-icon\"><use xlink:href=\"#livetv\"></use></svg><div class=\"dd-nav live-tv live-tvgrp pt-0\"><div class=\"dd-nav_ul\"><div class=\"dd-nav_li\"></div><div class=\"dd-nav_li\"></div><div class=\"dd-nav_li\"></div></div><div class=\"clear\"></div></div></div></div></div></div></div><!-- Search Bar --><div class=\"s-wr\"><!-- Search Close Icon --><div class=\"icon-close cls-btn\"><div></div><div></div></div><!-- Search input & button --><div class=\"search-input\"><form action=\"https://www.ndtv.com/topic/video\" id=\"topic_search_form\" method=\"get\" name=\"searchform\" onsubmit=\"return submit_topic_form('');\"><input class=\"input-search\" id=\"s\" name=\"q\" placeholder=\" Search for News, Photos and Videos\" type=\"text\"/></form></div></div><!-- Search Dropdown --><div class=\"sc-sug cd-search-suggestions\"><!-- Search Latest News --><div class=\"dd-news\" id=\"search_latest\"></div><!-- Search Trending Tags and SPONSORED LINKS --><div class=\"sc-q-lnk\" id=\"trending\"></div></div><!-- Nav Sticky Bg --><div class=\"stk-t_bg\"></div></nav><div class=\"t-md\"><div class=\"container\"><div class=\"row\"><div class=\"add-wrp\"><div class=\"add-img lazyload\"><div id=\"header_leaderboard_adbox\" style=\"float: left; position: relative;\"><div id=\"adslot728x90ATF\"></div></div></div></div></div></div></div><!--====== Content ( LHS, Main Content and RHS ) ======--><div class=\"content\"><div class=\"container\"><div class=\"row js-pro_in stk_wrp\"><!--=== Main Content ===--><section class=\"col-900 mr-60\"><!--====== breadcrumbs ======--><div class=\"t-brd\" itemscope=\"\" itemtype=\"http://schema.org/BreadcrumbList\"><div class=\"container\"><div class=\"row\"><div class=\"col-md-12\"><nav class=\"brd-nv\"><div class=\"brd-nv_ol\"><span class=\"brd-nv_li visited\" itemprop=\"itemListElement\" itemscope=\"\" itemtype=\"http://schema.org/ListItem\"><meta content=\"1\" itemprop=\"position\"/></span><span class=\"brd-nv_li current \" itemprop=\"itemListElement\" itemscope=\"\" itemtype=\"http://schema.org/ListItem\"><meta content=\"2\" itemprop=\"position\"/></span><span class=\"brd-nv_li currentbrd-nv_act\" itemprop=\"itemListElement\" itemscope=\"\" itemtype=\"http://schema.org/ListItem\"><span itemprop=\"name\"><span class=\"hde\">\"No More A Nurturing Leadership\": 'Dissent' Letter To Sonia Gandhi</span></span><meta content=\"3\" itemprop=\"position\"/></span></div></nav></div></div></div></div><div class=\"sp-hd\"><!-- Story Headline --><div class=\"sp-ttl-wrp\"><h1 class=\"sp-ttl\" itemprop=\"headline\"> \"No More A Nurturing Leadership\": 'Dissent' Letter To Sonia Gandhi </h1></div><!-- Story description --><h2 class=\"sp-descp\"> The dissenters write that in the last two national elections, India added 18.7 crore first time voters but the youth voted overwhelmingly for Modi and the BJP. </h2><!-- Post By --><nav class=\"pst-by\"><div class=\"pst-by_ul\"><span class=\"pst-by_li\"></span><span class=\"pst-by_li\">Reported by , Edited by </span></div></nav></div></section></div></div></div></body></html><span class=\"pst-by_li\"><span class=\"pst-by_lnk\"><meta content=\"2020-08-27T20:57:50+05:30\" itemprop=\"datePublished\" name=\"publish-date\"/><span content=\"2020-08-27T22:08:14+05:30\" itemprop=\"dateModified\">Updated: August 27, 2020 10:08 pm IST</span></span></span><!-- Social Share --><!-- Story Taboola Ad --><div class=\"sp_ad-t\"><div class=\"googlead\" id=\"googlead\"><div id=\"taboola-above-article-text-links\"></div></div></div><div class=\"row s-lmr\"><article class=\"col-650 ml-auto\"><div class=\"sp-wrp\"><div class=\"sp-hd\"><div class=\"sp-ttl-wrp\"><!-- Story Content --><div class=\"sp-cn ins_storybody\" id=\"ins_storybody\" itemprop=\"articleBody\"><!-- <div itemprop=\"articleBody\" class=\"sp-cn ins_storybody\" id=\"ins_storybody\">--><div class=\"ins_instory_dv\"><div class=\"ins_instory_dv_cont lazyload\"><img alt=\"'No More A Nurturing Leadership': 'Dissent' Letter To Sonia Gandhi\" data-src=\"https://c.ndtvimg.com/2020-08/f45hcqj8_sonia-gandhi-rahul-gandhi-pti-650_650x400_24_August_20.jpg\" id=\"story_image_main\" src=\"data:image/svg+xml;base64,PD94bWwgdmVyc2lvbj0iMS4wIiBlbmNvZGluZz0idXRmLTgiPz4KPCEtLSBHZW5lcmF0b3I6IEFkb2JlIElsbHVzdHJhdG9yIDI0LjMuMCwgU1ZHIEV4cG9ydCBQbHVnLUluIC4gU1ZHIFZlcnNpb246IDYuMDAgQnVpbGQgMCkgIC0tPgo8c3ZnIHZlcnNpb249IjEuMSIgaWQ9IkxheWVyXzEiIHhtbG5zPSJodHRwOi8vd3d3LnczLm9yZy8yMDAwL3N2ZyIgeG1sbnM6eGxpbms9Imh0dHA6Ly93d3cudzMub3JnLzE5OTkveGxpbmsiIHg9IjBweCIgeT0iMHB4IgoJIHZpZXdCb3g9IjAgMCAxNDAgMTA2IiBzdHlsZT0iZW5hYmxlLWJhY2tncm91bmQ6bmV3IDAgMCAxNDAgMTA2OyIgeG1sOnNwYWNlPSJwcmVzZXJ2ZSI+CjxzdHlsZSB0eXBlPSJ0ZXh0L2NzcyI+Cgkuc3Qwe29wYWNpdHk6Ny4wMDAwMDBlLTAyO2ZpbGw6I0YxRjNGNzt9Cgkuc3Qxe29wYWNpdHk6MC4zNDtmaWxsOiNBRkFGQUY7ZW5hYmxlLWJhY2tncm91bmQ6bmV3ICAgIDt9Cjwvc3R5bGU+CjxyZWN0IGNsYXNzPSJzdDAiIHdpZHRoPSIxNDAiIGhlaWdodD0iMTA2Ii8+CjxkZXNjPkNyZWF0ZWQgd2l0aCBTa2V0Y2guPC9kZXNjPgo8cGF0aCBjbGFzcz0ic3QxIiBkPSJNMTAzLjcsNDYuMkw5OC4zLDU3bC01LjktMTAuN0g2My41aC0wLjRoLTguOXY0LjZjMS4yLDAuMywyLDEuNCwyLDIuNmMwLDEuMi0wLjksMi4yLTIsMi42djQuNmg4LjlsMCwwaDMKCWM0LjMsMCw2LjMtMi41LDYuMy02LjZ2LTEuNWMwLTAuNCwwLTEuNi0wLjMtMi44aDYuOHYxMWg0LjN2LTExaDYuMWw2LjEsMTFoNS41bDcuNy0xNC40SDEwMy43eiBNNjgsNTVjMCwxLjQtMC44LDIuMi0yLjYsMi4yaC0yCgloLTAuNGgtNC41di03LjZoNC45bDAsMGgyYzEuNywwLDIuNiwwLjksMi42LDIuMlY1NXoiLz4KPHBhdGggY2xhc3M9InN0MSIgZD0iTTUwLjgsNTMuNGMwLTEuMiwwLjktMi4zLDItMi42di00LjVoLTQuNXYxMC4yaC0wLjJjLTAuOSwwLTEuNS0xLTEuOC0xLjRsLTIuNS01Yy0xLjItMi40LTMuMi0zLjgtNS42LTMuOAoJaC00Ljd2MTQuNGg0LjZWNTAuNGgwLjJjMSwwLDEuNiwxLjEsMS44LDEuNGwyLjYsNWMxLjEsMi40LDMuMiwzLjgsNS41LDMuOGg0LjdWNTZDNTEuNiw1NS43LDUwLjgsNTQuNyw1MC44LDUzLjR6Ii8+Cjwvc3ZnPgo=\" title=\"'No More A Nurturing Leadership': 'Dissent' Letter To Sonia Gandhi\"/></div><p class=\"ins_instory_dv_caption sp_b\">The letter said it would \"always remain an integral part of the collective leadership (File)</p><div itemprop=\"image\" itemscope=\"\" itemtype=\"https://schema.org/ImageObject\"><meta content=\"https://c.ndtvimg.com/2020-08/f45hcqj8_sonia-gandhi-rahul-gandhi-pti-650_650x400_24_August_20.jpg\" itemprop=\"url\"/><meta content=\"1200\" itemprop=\"width\"/><meta content=\"886\" itemprop=\"height\"/></div></div><div class=\"social_link\"></div><b class=\"place_cont\">New Delhi: </b><p>The letter by 23 Congress dissidents to party chief Sonia Gandhi says there has been a \"steady decline of the party\", witnessed in the 2014 and 2019 elections, but there has been no honest introspection to analyse the reasons. It also says the Congress is \"no more a nurturing leadership\" and calls for \"free, fair and democratic\" elections.</p><p>\"We have witnessed a steady decline of the Congress Party reflected in successive electoral verdicts in States and General Elections in 2014 and 2019. Reasons are manifold and need to be immediately identified. Otherwise, the Congress Party will find itself marginalized, both in the States, which is already apparent, as well as at the national level,\" says the letter accessed by NDTV.</p><p>\"The erosion of support base and, in particular, losing the confidence of the youth, is a matter of serious concern,\" it says.</p><p>Veteran leaders Ghulam Nabi Azad, Kapil Sibal, Anand Sharma, Mukul Wasnik and Shashi Tharoor are among the signatories to the letter, which has deeply rattled the party and split it down the middle.</p><p>The dissenters write that in the last two national elections, India added 18.7 crore first time voters but the youth voted overwhelmingly for Modi and the BJP. While the BJP's vote share sharply increased from 7.84 crores in 2009 to 17.6 crores in 2014 and to 22.9 crores in 2019, the Congress lost its share of 1.23 crore of the votes polled in 2009.</p><p>\"Even after 14 months of the 2019 electoral verdict, the Congress Party has not undertaken any honest introspection to analyse the reasons for its continued decline. In order to stem the decline, we have taken upon ourselves to be open and frank so that the Congress Party's future, which presently is at stake, is not jeopardized any further,\" said the letter.</p><p>\"The uncertainty over the leadership and the drift, has demoralised the Congress workers and further weakened the party. There has been an erosion of the support base with leaders and functionaries leaving the party in a number of States.\"</p><div id=\"checked\" style=\"display: none\"><div id=\"adslotNativeVideo\" style=\"text-align:center; padding-bottom:20px;\"></div></div><div class=\"firework-cont\"><div class=\"firework-head\"></div><div id=\"fwn_videos\"></div></div></div></div></div></div></article></div><p>The letter also said the Congress Working Committee was not effectively guiding the party and its meetings were \"merely episodic and reactive to contemporary developments\" instead of being a deliberative body for setting the national agenda and for policy initiatives.</p><p>It also criticized Congress Parliamentary Party meetings, saying it has \"been reduced to the customary address of the CPP leader and obituary references\" without discussions.</p><p>The Congress, said the dissenters, was \"no more a nurturing leadership at the state and national level\". They said merit based and consensus-backed selection has been disrupted and \"resource-rich individuals or those backed by powerful patrons\" had captured organisations like the youth Congress.</p><div style=\"clear: both;\"></div><p></p><p>The ginger group listed their suggestions to \"revitalise the party and to give millions of workers a sense of purpose\"</p><ul><li>Full time and effective leadership active in the field and visible, and available at AICC and PCC Headquarters.</li><li>The Central Parliamentary Board (CPB) be urgently constituted for collective thinking and decision-making</li><li>Elections of CWC members and block, state Congress chiefs and AICC Members in a transparent manner.</li><li>Important panels to be reconstituted to include \"leaders with organisational background and active field knowledge and experience\".</li><li>An \"Institutional leadership mechanism\" to collectively guide the party's revival.</li></ul><p>Praising the Nehru-Gandhi family, the letter said it would \"always remain an integral part of the collective leadership of the Congress Party\".</p><p>It also said to create a national coalition of democratic and secular forces to confront and defeat the BJP agenda, \"a sincere effort should be made to bring on one platform leaders of political parties, who were once part of the Congress\".</p><div class=\"cmt_btn\"></div><div class=\"tgs\"><div class=\"tg_wrp\"></div></div><div class=\"ss ss_pg st-social\"><div class=\"pst_opt\"><div class=\"pst_scl\"></div><div class=\"pst_icn-btn\"><!--<a class=\"ss-lk printer ttp\" href=\"javascript:void(0);\" onclick=\"JavaScript:window.print();\"><div class=\"vj_mix\"><svg class=\"ndtv-icon\"><use xlink:href=\"#print\"></use></svg></div></a> --><button class=\"ss-lk comment vj_mix-comment cmt-ac\" href=\"#\"><div class=\"vj_mix\"><svg class=\"ndtv-icon\"><use xlink:href=\"#chat\"></use></svg></div><span class=\"numb ndtv-cmnt-cnt\" style=\"display:none;\"></span></button><a class=\"snapchat-creative-kit-share ss-lk ttp\" data-share-url=\"https://www.ndtv.com/india-news/details-of-dissent-letter-to-sonia-gandhi-steady-decline-no-honest-inspection-2286399?snapchat=1\" data-size=\"large\" data-text=\"false\"><svg class=\"ndtv-icon\"><use xlink:href=\"#snapchat\"></use></svg></a></div></div></div><!-- Comments button ( after story ) --><div class=\"clear\"></div><div class=\"story_footer\"><div class=\"ft-social\"><!-- <p class=\"ft-social--txt\">static text here </p>--><div class=\"ft-social--wrap\"><div class=\"watch-news\"></div><div class=\"follow-social\"></div></div></div></div><!-- Newsletter --><!-- Tags ( after story ) --><aside class=\"col-200 col-lf-2\" id=\"stk_cnt\"><div class=\"s-lf-wid s-lf-stky\"><div class=\"st-highlihts\"></div><div class=\"__pcwgtlhs __pcwgtndtv lazyload\" data-wdgt=\"wgtlist=1&amp;wgtheader=on&amp;wgtprice=on&amp;wgtsplrlogo=on&amp;wgtoffertext=on&amp;wgtthumbimg=on\" id=\"_pcwgtlhs\"><div class=\"placeholder\"></div></div><div class=\"trndngWdgt rltdwdgt wthWs\"><div class=\"s-ls\"><div class=\"s-tx\"><h3 class=\"s-ttl\">Trending </h3></div><ul class=\"s-ls_ul s-ls_br\"><li class=\"s-ls_li\"><div class=\"trndImg\"></div><div class=\"trndTxt\"><div class=\"s-ls_txt\"></div></div></li><li class=\"s-ls_li\"><div class=\"trndImg\"></div><div class=\"trndTxt\"><div class=\"s-ls_txt\"></div></div></li><li class=\"s-ls_li\"><div class=\"trndImg\"></div><div class=\"trndTxt\"><div class=\"s-ls_txt\"></div></div></li><li class=\"s-ls_li\"><div class=\"trndImg\"></div><div class=\"trndTxt\"><div class=\"s-ls_txt\"></div></div></li><li class=\"s-ls_li\"><div class=\"trndImg\"></div><div class=\"trndTxt\"><div class=\"s-ls_txt\"></div></div></li><li class=\"s-ls_li\"><div class=\"trndImg\"></div><div class=\"trndTxt\"><div class=\"s-ls_txt\"></div></div></li></ul></div></div></div></aside><!-- taboola Ads ( after Story ) --><div class=\"ads_tb-c lazyload\"><div id=\"taboola-below-main-column-sc-new-taboola1\"></div><div id=\"taboola-below-main-column-organic-mix\"></div><div id=\"taboola-below-article-thumbnails\"></div><div id=\"taboola-below-article-thumbnails-2nd\"></div></div><div class=\"new_nextarrow\" onmouseout=\"$('#categnxtstry').hide();\" onmouseover=\"$('#categnxtstry').show();\"><div class=\"arrow\"></div><div class=\"arrowstory\" id=\"categnxtstry\" style=\"display:none;\"></div></div><div class=\"new_prevarrow\" onmouseout=\"$('#categprvstry').hide();\" onmouseover=\"$('#categprvstry').show();\"><div class=\"arrow\"></div><div class=\"arrowstory\" id=\"categprvstry\" style=\"display:none;\"></div></div><!--=== LHS sidebar ===--><!--=== RHS sidebar ===--><aside class=\"col-300\"><div class=\"add-rhs\"><section class=\"add-section\"><div class=\"add__wrp\"><div class=\"add__placeholder ins_adcont lazyload\"><span class=\"add__txt\">Advertisement</span><div class=\"medium_rec_adbox\" id=\"medium_rec_adbox\" style=\"height:auto;\"><div id=\"adslot300x250ATF\"></div></div></div></div></section><section class=\"add-section\"><div class=\"add__wrp\"><div class=\"add__placeholder ins_adcont lazyload\"><span class=\"add__txt\">Advertisement</span><div class=\"small_rec_adbox\" id=\"small_rec_adbox\"><div id=\"adslot300x100ATF\" style=\"height:100px; width:300px;margin:0 auto;\"></div></div></div></div></section><div class=\"ins_adwrap marginb20 lazyload\"><div class=\"ins_adcont\"><div id=\"taboola-right-rail-ad-spot\"></div></div></div><div class=\"lazyload\" style=\"float: left;margin: 20px 0;width: 100%;\"><div id=\"taboola-right-rail\"></div><div id=\"taboola-rr-mix\"></div><div id=\"taboola-right-rail-thumbnails\"></div><div id=\"taboola-right-rail-thumbnails-2nd\"></div></div><div class=\"newins_widget\"><!-- TABOOLA DON't MISS WIDGET START --><div id=\"taboola-right-rail-thumbnails-3rd\"></div><!-- TABOOLA DON't MISS WIDGET END --><div class=\"__pcwgtrhs fl lazyload\" data-wdgt=\"wgtwidth=300px&amp;wgtlist=4&amp;wgtheader=on&amp;wgtprice=on&amp;wgtsplrlogo=on&amp;wgtoffertext=on&amp;wgtthumbimg=on&amp;wgtsearchbox=off\" id=\"_pcwgtrhs\"></div><section class=\"add-section\"><div class=\"add__wrp\"><div class=\"add__placeholder ins_adcont lazyload\"><span class=\"add__txt\">Advertisement</span><div id=\"adslot300x250BTF\" style=\"height:250px;\"></div></div></div></section><div class=\"ins_keyword_rhs\"><div class=\"newins_widhead\"><span>Quick Links</span></div></div><section class=\"add-section\"><div id=\"sticky-btf2\"></div><div class=\"add__wrp\" id=\"rhswgt_fix\"><div class=\"add__placeholder ins_adcont lazyload\"><span class=\"add__txt\">Advertisement</span></div></div></section></div></div></aside><!--====== Footer ======--><footer><div class=\"lst_nws_colr\"><div class=\"container\"><span class=\"lst_nws_wrp\"></span><div class=\"lst_nws_cnt\"><ul class=\"foot-news\"><li class=\"foot-news--list\"><div class=\"title\"></div></li><li class=\"foot-news--list\"><div class=\"title\"></div></li><li class=\"foot-news--list\"><div class=\"title\"></div></li><li class=\"foot-news--list\"><div class=\"title\"></div></li><li class=\"foot-news--list\"><div class=\"title\"></div></li></ul></div></div></div><div class=\"ft t-center\"><div class=\"container\"><nav class=\"ft-nv\"><ul class=\"ft-nv_ul\"><li class=\"ft-nav_li\"></li><li class=\"ft-nav_li\"></li><li class=\"ft-nav_li\"></li><li class=\"ft-nav_li\"></li><li class=\"ft-nav_li\"></li><li class=\"ft-nav_li\"></li><li class=\"ft-nav_li\"></li><li class=\"ft-nav_li\"></li><li class=\"ft-nav_li\"></li><li class=\"ft-nav_li\"></li><li class=\"ft-nav_li\"></li><li class=\"ft-nav_li\"></li><li class=\"ft-nav_li\"></li></ul></nav><div class=\"ft-cpr\">© COPYRIGHT NDTV CONVERGENCE LIMITED 2020. ALL RIGHTS RESERVED.</div></div></div></footer><div class=\"ovl\"></div><!--====== Comment RHS Slidein ======--><div class=\"cmt-wrp\"><div class=\"cmt-cnt\"><div class=\"form-wrp\"><!-- Close button --><div class=\"cls-btn\"><div></div><div></div></div><!-- Comment Iframe --><iframe allowtransparency=\"true\" frameborder=\"0\" height=\"98%\" id=\"ndtvSocialCommentFormRhs\" name=\"ndtvSocialCommentForm\" scrolling=\"no\" src=\"\" width=\"425px\"></iframe></div></div></div><!--====== Back to top ======--><div class=\"back-to-top js-back-to-top js-bkt-out\"><svg class=\"ndtv-icon\"><use xlink:href=\"#arrow\"></use></svg></div><!--====== Progress bar ======--><!--<div class=\"progress-container\"><div class=\"progress-bar\" id=\"progressBar\" style=\"width: 100%;\"></div></div>--><svg class=\"hidden\" height=\"0\" width=\"0\"><symbol id=\"livetv\" viewbox=\"0 0 20 18\" xmlns=\"http://www.w3.org/2000/svg\"><title>livetv</title><path d=\"M1.817 0h16.366c1 0 1.817.81 1.817 1.8v10.8c0 .99-.818 1.8-1.818 1.8h-6.364v1.8h1.322a.495.495 0 0 1 .497.492v.816a.497.497 0 0 1-.5.492H6.863a.497.497 0 0 1-.5-.492v-.816a.495.495 0 0 1 .497-.492h1.322v-1.8H1.817c-1 0-1.817-.81-1.817-1.8V1.8C0 .81.819 0 1.817 0zm0 12.6h16.158V1.8H1.817v10.8zm9.603-5.028L8.702 9.865c-.164.139-.307.079-.307-.145V4.905c0-.218.137-.289.307-.145l2.718 2.293a.33.33 0 0 1 0 .519z\" fill-rule=\"evenodd\"></path></symbol><symbol id=\"arrow\" viewbox=\"0 0 9 16\" xmlns=\"http://www.w3.org/2000/svg\"><title>arrow</title><path d=\"M8.676 8.792l-6.789 6.88a1.095 1.095 0 0 1-1.563 0 1.131 1.131 0 0 1 0-1.585L6.33 8 .324 1.913a1.131 1.131 0 0 1 0-1.585 1.095 1.095 0 0 1 1.564 0l6.788 6.88C8.892 7.427 9 7.713 9 8c0 .287-.108.573-.324.792z\" fill-rule=\"evenodd\"></path></symbol><symbol id=\"print\" viewbox=\"0 0 16 16\" xmlns=\"http://www.w3.org/2000/svg\"><title>print</title><path d=\"M4 12.5v-2h8v5H4v-3zm1-1v1h6v-1H5zm0 2v1h6v-1H5zm7-10v2H4v-5h8v3zm2 0c1 0 2 1 2 2v5c0 1-1 2-2 2h-1v-3H3v3H2c-1 0-2-1-2-2v-5c0-1 1-2 2-2h1v3h10v-3h1z\"></path></symbol><symbol id=\"email\" viewbox=\"0 0 18 14\" xmlns=\"http://www.w3.org/2000/svg\"><title>email</title><path d=\"M17.999 11.667c-.002.393-.102.78-.288 1.123l-5.686-6.596 5.624-5.1c.228.37.35.8.351 1.239l-.001 9.334m-9-4.275L16.82.294A2.148 2.148 0 0 0 15.75 0H2.25a2.152 2.152 0 0 0-1.07.294L9 7.392m2.18-.424L9.37 8.612a.55.55 0 0 1-.74 0L6.82 6.968 1.064 13.64A2.17 2.17 0 0 0 2.25 14h13.5c.418 0 .83-.125 1.185-.359L11.18 6.968M.35 1.094c-.227.371-.349.8-.35 1.24v9.335c.002.394.102.78.288 1.123L5.97 6.196.351 1.094\"></path></symbol><symbol id=\"chat\" viewbox=\"0 0 19 18\" xmlns=\"http://www.w3.org/2000/svg\"><title>chat</title><path d=\"M1.9 0h15.2c1.043.014 1.886.869 1.9 1.929v10.606c-.014 1.06-.857 1.915-1.9 1.929H8.056l-3.072 3.431a.314.314 0 0 1-.348.083.322.322 0 0 1-.203-.3v-3.214H1.9C.857 14.45.014 13.594 0 12.535V1.93C.014.869.857.014 1.9 0\" fill-rule=\"evenodd\"></path></symbol><symbol id=\"linkedin\" viewbox=\"0 0 17 16\" xmlns=\"http://www.w3.org/2000/svg\"><title>linkedin</title><path d=\"M17 9.813V16h-3.645v-5.775c0-1.452-.525-2.438-1.844-2.438a1.994 1.994 0 0 0-1.869 1.311 2.437 2.437 0 0 0-.125.876V16H5.875s.049-9.779 0-10.79h3.641v1.529c0 .012-.016.023-.02.036h.02V6.74a3.632 3.632 0 0 1 3.285-1.788C15.205 4.956 17 6.496 17 9.813M2.064.007A1.91 1.91 0 0 0 .29.876a1.846 1.846 0 0 0-.025 1.95c.364.603 1.04.955 1.75.912h.023a1.91 1.91 0 0 0 1.78-.875A1.847 1.847 0 0 0 3.834.904a1.91 1.91 0 0 0-1.77-.897M.216 16h3.647V5.209H.215V16\"></path></symbol><symbol id=\"reddit\" viewbox=\"0 0 20 16\" xmlns=\"http://www.w3.org/2000/svg\"><title>reddit</title><path d=\"M20 7.386c-.002-1.359-1.116-2.46-2.49-2.461a2.476 2.476 0 0 0-1.496.498 10.545 10.545 0 0 0-5.144-1.666l1.042-2.421 3.038.701c.097.889.828 1.58 1.73 1.635a1.855 1.855 0 0 0 1.924-1.407A1.832 1.832 0 0 0 17.528.15a1.87 1.87 0 0 0-2.29.689l-3.55-.824a.627.627 0 0 0-.715.358l-1.44 3.35A10.749 10.749 0 0 0 3.948 5.39a2.515 2.515 0 0 0-2.59-.195A2.46 2.46 0 0 0 0 7.386a2.43 2.43 0 0 0 1.258 2.13c-.01.108-.014.22-.014.331C1.244 13.245 5.152 16 9.956 16c4.805 0 8.712-2.76 8.712-6.153 0-.095 0-.19-.01-.285A2.434 2.434 0 0 0 20 7.386m-3.199-6.153c.345 0 .625.277.625.618 0 .34-.28.617-.625.617a.621.621 0 0 1-.624-.617c0-.341.28-.618.624-.618m-11.2 7.999c0-.683.56-1.236 1.25-1.236S8.1 8.55 8.1 9.232c0 .682-.56 1.235-1.25 1.235S5.6 9.914 5.6 9.232m7.23 4.082a4.939 4.939 0 0 1-5.748 0 .616.616 0 0 1 .08-1.104.63.63 0 0 1 .65.107 3.684 3.684 0 0 0 4.288 0 .63.63 0 0 1 .65-.107.616.616 0 0 1 .08 1.104m.237-2.851a1.253 1.253 0 0 1-1.124-.602 1.224 1.224 0 0 1 0-1.265c.235-.39.666-.62 1.124-.602a1.242 1.242 0 0 1 1.187 1.234c0 .658-.522 1.201-1.187 1.234v.001\"></path></symbol><symbol id=\"whatsapp\" viewbox=\"0 0 16 16\" xmlns=\"http://www.w3.org/2000/svg\"><title>WhatsApp</title><path d=\"M8.002 0a7.995 7.995 0 0 0-6.479 12.69l-1 2.973 3.075-.983A7.999 7.999 0 0 0 15.57 5.414 8 8 0 0 0 8.002 0m4.657 11.3a2.258 2.258 0 0 1-1.57 1.129c-.418.089-.963.16-2.8-.602a10.023 10.023 0 0 1-3.987-3.52 4.57 4.57 0 0 1-.954-2.413 2.554 2.554 0 0 1 .818-1.947c.227-.198.522-.3.822-.285.1 0 .189 0 .268.01.236.01.353.024.509.395.192.465.663 1.613.718 1.732.08.13.093.291.034.433a1.39 1.39 0 0 1-.26.367c-.118.136-.23.24-.348.386-.105.127-.23.263-.094.498a7.11 7.11 0 0 0 1.3 1.61 5.872 5.872 0 0 0 1.876 1.16.506.506 0 0 0 .564-.088c.224-.265.433-.541.628-.828a.447.447 0 0 1 .574-.174c.216.076 1.36.64 1.595.758.234.117.39.174.446.273.06.374.012.758-.139 1.106\"></path></symbol><symbol id=\"facebook\" viewbox=\"0 0 9 16\" xmlns=\"http://www.w3.org/2000/svg\"><title>facebook</title><path d=\"M8.656.006H6.498A3.872 3.872 0 0 0 3.57 1.1a3.561 3.561 0 0 0-1.062 2.842v1.815H.339A.333.333 0 0 0 0 6.084v2.629c0 .18.152.326.34.326h2.168v6.635c0 .18.152.326.34.326h2.827c.188 0 .34-.146.34-.326V9.039H8.55c.187 0 .34-.146.34-.326v-2.63a.333.333 0 0 0-.34-.326H6.02V4.218c0-.74.184-1.114 1.186-1.114H8.66a.334.334 0 0 0 .339-.327V.332a.32.32 0 0 0-.1-.232.347.347 0 0 0-.243-.094\" fill-rule=\"evenodd\"></path></symbol><symbol id=\"twitter\" viewbox=\"0 0 20 16\" xmlns=\"http://www.w3.org/2000/svg\"><title>twitter</title><path d=\"M20 1.892a8.292 8.292 0 0 1-2.355.636A4.068 4.068 0 0 0 19.448.293a8.324 8.324 0 0 1-2.607.981 4.152 4.152 0 0 0-4.929-.796 4.022 4.022 0 0 0-2.062 4.48A11.71 11.71 0 0 1 1.394.737a4.008 4.008 0 0 0 1.27 5.392 4.15 4.15 0 0 1-1.859-.507v.051c0 1.924 1.377 3.58 3.292 3.963a4.194 4.194 0 0 1-1.081.14 4 4 0 0 1-.773-.075c.536 1.646 2.076 2.774 3.831 2.807A8.313 8.313 0 0 1 .98 14.234c-.327 0-.654-.016-.979-.051A11.727 11.727 0 0 0 6.288 16a11.685 11.685 0 0 0 8.28-3.344 11.327 11.327 0 0 0 3.394-8.153l-.014-.524A8.123 8.123 0 0 0 20 1.892\" fill-rule=\"evenodd\"></path></symbol><symbol id=\"instagram\" viewbox=\"0 0 512 512\" xmlns=\"http://www.w3.org/2000/svg\"><path d=\"M352 0H160C71.648 0 0 71.648 0 160v192c0 88.352 71.648 160 160 160h192c88.352 0 160-71.648 160-160V160C512 71.648 440.352 0 352 0zm112 352c0 61.76-50.24 112-112 112H160c-61.76 0-112-50.24-112-112V160C48 98.24 98.24 48 160 48h192c61.76 0 112 50.24 112 112v192z\"></path><path d=\"M256 128c-70.688 0-128 57.312-128 128s57.312 128 128 128 128-57.312 128-128-57.312-128-128-128zm0 208c-44.096 0-80-35.904-80-80 0-44.128 35.904-80 80-80s80 35.872 80 80c0 44.096-35.904 80-80 80z\"></path><circle cx=\"393.6\" cy=\"118.4\" r=\"17.056\"></circle></symbol><symbol id=\"more\" viewbox=\"0 0 23 5\" xmlns=\"http://www.w3.org/2000/svg\"><title>more</title><path d=\"M5 2.5a2.5 2.5 0 1 1-5 0 2.5 2.5 0 0 1 5 0m9 0a2.5 2.5 0 1 1-5 0 2.5 2.5 0 0 1 5 0m9 0a2.5 2.5 0 1 1-5 0 2.5 2.5 0 0 1 5 0\" fill-rule=\"evenodd\"></path></symbol><symbol id=\"notification\" viewbox=\"0 0 16 18\" xmlns=\"http://www.w3.org/2000/svg\"><title>notification</title><path d=\"M14.931 13.906l1.033 1.86a.277.277 0 0 1 .036.136c-.001.166-.151.3-.335.298h-5.359c-.147.922-.952 1.646-1.976 1.778-1.274.165-2.454-.63-2.637-1.778H.333a.362.362 0 0 1-.15-.032c-.164-.074-.23-.255-.148-.403l1.034-1.86c.39-.699.595-1.483.598-2.28V7.5c-.01-2.687 2.078-5.01 5-5.564V1.2c0-.663.596-1.2 1.332-1.2.736 0 1.334.537 1.334 1.2v.733c2.917.559 5.003 2.881 4.999 5.567v4.126c.003.798.21 1.581.6 2.28zM1.89 14.72h12.22l-.679-1.222a4.513 4.513 0 0 1-.572-2.187V7.773c.002-2.133-1.71-3.956-4.048-4.31a5.25 5.25 0 0 0-1.619 0c-2.343.348-4.059 2.173-4.05 4.31v3.537a4.518 4.518 0 0 1-.571 2.187l-.682 1.222z\"></path></symbol><symbol id=\"search\" viewbox=\"0 0 18 18\" xmlns=\"http://www.w3.org/2000/svg\"><title>search</title><path d=\"M11.84 10.723l6.164 5.882-1.39 1.438-6.338-5.945a6.718 6.718 0 0 1-3.604 1.04C2.987 13.137 0 10.195 0 6.567 0 2.942 2.987 0 6.672 0c3.685 0 6.673 2.94 6.673 6.569a6.48 6.48 0 0 1-1.504 4.154zm-5.147.363c2.551 0 4.62-2.036 4.62-4.548 0-2.511-2.069-4.547-4.62-4.547s-4.62 2.036-4.62 4.547c0 2.512 2.069 4.548 4.62 4.548z\" fill-rule=\"evenodd\"></path></symbol><symbol id=\"snapchat\" viewbox=\"0 0 1024 1010\" xmlns=\"http://www.w3.org/2000/svg\"><title>snapchat</title><g fill=\"none\"><path d=\"M992.5 749.3c-4.2-13.9-24.3-23.7-24.3-23.7-1.9-1-3.6-1.9-5-2.6-33.5-16.2-63.2-35.7-88.2-57.8-20.1-17.8-37.3-37.4-51.1-58.2-16.9-25.4-24.8-46.6-28.2-58.1-1.9-7.5-1.6-10.5 0-14.4 1.3-3.3 5.2-6.4 7-7.9 11.3-8 29.5-19.8 40.7-27 9.7-6.3 18-11.7 22.9-15.1 15.7-11 26.5-22.2 32.8-34.3 8.2-15.6 9.2-32.8 2.8-49.7-8.6-22.8-29.9-36.4-57-36.4-6 0-12.2.7-18.4 2-15.5 3.4-30.2 8.9-42.5 13.7-.9.4-1.9-.3-1.8-1.3 1.3-30.5 2.8-71.5-.6-110.4-3-35.2-10.3-64.9-22.1-90.8-11.9-26-27.4-45.2-39.5-59.1-11.5-13.2-31.8-32.7-62.4-50.2-43-24.6-92-37.1-145.6-37.1-53.5 0-102.4 12.5-145.5 37.1-32.4 18.5-53.1 39.4-62.5 50.2-12.1 13.9-27.6 33.1-39.5 59.1-11.9 25.9-19.1 55.5-22.1 90.8-3.4 39.1-2 76.8-.6 110.4 0 1-.9 1.7-1.9 1.3-12.3-4.8-27-10.3-42.5-13.7-6.1-1.3-12.3-2-18.4-2-27 0-48.3 13.6-57 36.4-6.4 16.9-5.4 34.1 2.8 49.7 6.4 12.1 17.1 23.3 32.8 34.3 4.8 3.4 13.2 8.8 22.9 15.1 10.9 7.1 28.6 18.6 40 26.5 1.4 1 6.2 4.6 7.7 8.4 1.6 4 1.9 7-.2 15-3.5 11.6-11.4 32.6-28 57.5-13.8 20.9-31 40.4-51.1 58.2-25 22.1-54.7 41.6-88.2 57.8-1.6.8-3.5 1.7-5.5 2.9 0 0-20 10.2-23.8 23.4-5.6 19.5 9.3 37.8 24.4 47.6 24.8 16 55 24.6 72.5 29.3 4.9 1.3 9.3 2.5 13.3 3.7 2.5.8 8.8 3.2 11.5 6.7 3.4 4.4 3.8 9.8 5 15.9 1.9 10.3 6.2 23 18.9 31.8 14 9.6 31.7 10.3 54.2 11.2 23.5.9 52.7 2 86.2 13.1 15.5 5.1 29.6 13.8 45.8 23.8 34 20.9 76.3 46.9 148.5 46.9 72.3 0 114.9-26.1 149.1-47.1 16.2-9.9 30.1-18.5 45.3-23.5 33.5-11.1 62.7-12.2 86.2-13.1 22.5-.9 40.2-1.5 54.2-11.2 13.6-9.4 17.5-23.4 19.3-33.9 1-5.2 1.6-9.9 4.6-13.7 2.6-3.3 8.4-5.6 11.1-6.5 4.1-1.3 8.7-2.5 13.8-3.9 17.5-4.7 39.5-10.2 66.2-25.3 32.2-18.3 34.4-40.7 31-51.8z\" fill=\"#FFF\"></path><path d=\"M1020.3 738.5c-7.1-19.4-20.7-29.7-36.1-38.3-2.9-1.7-5.6-3.1-7.8-4.1-4.6-2.4-9.3-4.7-14-7.1-48.1-25.5-85.7-57.7-111.7-95.8-8.8-12.9-14.9-24.5-19.2-34-2.2-6.4-2.1-10-.5-13.3 1.2-2.5 4.4-5.1 6.2-6.4 8.3-5.5 16.8-11 22.6-14.7 10.3-6.7 18.5-12 23.7-15.6 19.8-13.8 33.6-28.5 42.2-44.9 12.2-23.1 13.7-49.5 4.3-74.3-13-34.4-45.6-55.8-85-55.8-8.2 0-16.5.9-24.7 2.7-2.2.5-4.3 1-6.4 1.5.4-23.4-.2-48.4-2.3-72.8-7.4-86-37.5-131.1-68.9-167-13.1-15-35.9-36.9-70.1-56.5C624.9 14.7 570.9.9 512 .9 453.3.9 399.3 14.7 351.6 42c-34.4 19.6-57.2 41.6-70.2 56.5-31.4 35.9-61.5 81-68.9 167-2.1 24.4-2.6 49.4-2.3 72.8-2.1-.5-4.3-1-6.4-1.5-8.2-1.8-16.6-2.7-24.7-2.7-39.4 0-72 21.4-85 55.8-9.4 24.8-7.9 51.2 4.3 74.3 8.6 16.4 22.5 31.1 42.2 44.9 5.3 3.7 13.4 9 23.7 15.6 5.6 3.6 13.7 8.9 21.7 14.2 1.2.8 5.5 4 7 7 1.7 3.4 1.7 7.1-.8 13.9-4.2 9.3-10.3 20.7-18.9 33.3-25.5 37.3-62 68.9-108.5 94.1-24.7 13.1-50.3 21.8-61.1 51.2-8.2 22.2-2.8 47.5 17.9 68.8C28.4 814.5 37 821 47.8 827c25.4 14 47 20.9 64 25.6 3 .9 9.9 3.1 12.9 5.8 7.6 6.6 6.5 16.6 16.6 31.2 6.1 9.1 13.1 15.3 18.9 19.3 21.1 14.6 44.9 15.5 70.1 16.5 22.7.9 48.5 1.9 77.9 11.6 12.2 4 24.9 11.8 39.5 20.8 35.2 21.7 83.5 51.3 164.2 51.3 80.8 0 129.3-29.8 164.8-51.5 14.6-8.9 27.2-16.7 39-20.6 29.4-9.7 55.2-10.7 77.9-11.6 25.2-1 48.9-1.9 70.1-16.5 6.6-4.6 15-12.1 21.6-23.5 7.2-12.3 7.1-21 13.9-26.9 2.8-2.4 8.9-4.5 12.2-5.5 17.1-4.7 39-11.6 64.9-25.9 11.5-6.3 20.4-13.2 27.5-21.1l.3-.3c19.3-21 24.2-45.5 16.2-67.2zM948.6 777c-43.8 24.2-72.9 21.6-95.5 36.1-19.2 12.4-7.9 39.1-21.8 48.7-17.2 11.9-67.9-.8-133.4 20.8-54 17.9-88.5 69.2-185.8 69.2-97.5 0-131-51.1-185.8-69.2-65.5-21.6-116.3-8.9-133.4-20.8-13.9-9.6-2.6-36.3-21.8-48.7-22.6-14.6-51.7-12-95.5-36.1-27.9-15.4-12.1-24.9-2.8-29.4 158.6-76.7 183.8-195.3 185-204.2 1.4-10.6 2.9-19-8.8-29.9-11.3-10.5-61.6-41.6-75.5-51.3-23.1-16.1-33.2-32.2-25.7-52 5.2-13.7 18-18.8 31.5-18.8 4.2 0 8.5.5 12.6 1.4 25.3 5.5 49.9 18.2 64.1 21.6 2 .5 3.7.7 5.2.7 7.6 0 10.2-3.8 9.7-12.5-1.6-27.7-5.6-81.7-1.2-132.2 6-69.4 28.4-103.8 55-134.3 12.8-14.6 72.8-78 187.5-78 115 0 174.7 63.4 187.5 78 26.6 30.4 49 64.8 55 134.3 4.4 50.5.6 104.5-1.2 132.2-.6 9.1 2.2 12.5 9.7 12.5 1.5 0 3.3-.2 5.2-.7 14.2-3.4 38.8-16.1 64.1-21.6 4.1-.9 8.4-1.4 12.6-1.4 13.5 0 26.3 5.2 31.5 18.8 7.5 19.8-2.7 35.9-25.7 52-13.9 9.7-64.2 40.8-75.5 51.3-11.7 10.8-10.2 19.2-8.8 29.9 1.1 8.9 26.4 127.5 185 204.2 9 4.5 24.9 14-3 29.4z\" fill=\"#000\"></path></g></symbol><symbol id=\"calendar\" viewbox=\"0 0 512 512\" xmlns=\"http://www.w3.org/2000/svg\"><path d=\"M452 40h-24V0h-40v40H124V0H84v40H60C26.916 40 0 66.916 0 100v352c0 33.084 26.916 60 60 60h392c33.084 0 60-26.916 60-60V100c0-33.084-26.916-60-60-60zm20 412c0 11.028-8.972 20-20 20H60c-11.028 0-20-8.972-20-20V188h432v264zm0-304H40v-48c0-11.028 8.972-20 20-20h24v40h40V80h264v40h40V80h24c11.028 0 20 8.972 20 20v48z\"></path><path d=\"M76 230h40v40H76zm80 0h40v40h-40zm80 0h40v40h-40zm80 0h40v40h-40zm80 0h40v40h-40zM76 310h40v40H76zm80 0h40v40h-40zm80 0h40v40h-40zm80 0h40v40h-40zM76 390h40v40H76zm80 0h40v40h-40zm80 0h40v40h-40zm80 0h40v40h-40zm80-80h40v40h-40z\"></path></symbol><symbol id=\"vj_time\" viewbox=\"0 0 32 32\"><path d=\"M27.315 4.689c-3.021-3.021-7.038-4.685-11.311-4.685s-8.29 1.664-11.311 4.685c-2.988 2.988-4.648 6.951-4.683 11.172-0.006 0.043-0.010 0.086-0.010 0.131s0.004 0.087 0.010 0.129c0.031 4.227 1.691 8.197 4.684 11.189 3.021 3.021 7.038 4.685 11.311 4.685s8.29-1.664 11.311-4.685c3.021-3.021 4.685-7.038 4.685-11.311s-1.664-8.29-4.685-11.311zM26.622 25.309l-1.080-1.040c-0.373-0.359-0.967-0.348-1.326 0.025s-0.348 0.967 0.025 1.326l1.054 1.015c-2.339 2.049-5.249 3.253-8.352 3.455v-3.38c0-0.518-0.42-0.938-0.938-0.938s-0.938 0.42-0.938 0.938v3.38c-2.754-0.179-5.356-1.147-7.541-2.796l0.987-1.025c0.359-0.373 0.348-0.967-0.025-1.326s-0.967-0.348-1.326 0.025l-1.058 1.099c-0.028-0.027-0.056-0.054-0.084-0.082-2.447-2.447-3.884-5.633-4.105-9.055h3.372c0.518 0 0.938-0.42 0.938-0.938s-0.42-0.938-0.938-0.938h-3.371c0.192-2.924 1.273-5.676 3.113-7.94l1.085 1.045c0.182 0.175 0.416 0.262 0.65 0.262 0.246 0 0.492-0.096 0.675-0.287 0.359-0.373 0.348-0.967-0.025-1.326l-1.111-1.070c2.405-2.277 5.475-3.614 8.762-3.828v3.38c0 0.518 0.42 0.938 0.938 0.938s0.938-0.42 0.938-0.938v-3.38c3.282 0.214 6.348 1.547 8.751 3.817l-1.072 1.112c-0.359 0.373-0.348 0.967 0.025 1.326 0.182 0.175 0.416 0.262 0.65 0.262 0.246 0 0.491-0.096 0.675-0.287l0.999-1.038c1.845 2.266 2.929 5.021 3.122 7.95h-3.388c-0.518 0-0.938 0.42-0.938 0.938s0.42 0.938 0.938 0.938h3.389c-0.201 3.115-1.411 6.035-3.472 8.379zM21.967 19.617l-5.025-4.072v-6.854c0-0.518-0.42-0.938-0.938-0.938s-0.938 0.42-0.938 0.938v7.309c0 0.331 0.172 0.621 0.431 0.788l5.289 4.286c0.174 0.141 0.382 0.209 0.59 0.209 0.273 0 0.544-0.119 0.729-0.347 0.326-0.402 0.264-0.993-0.138-1.319z\"></path></symbol></svg><noscript><div style=\"display:inline;\"><img alt=\"\" height=\"1\" src=\"//googleads.g.doubleclick.net/pagead/viewthroughconversion/968076326/?guid=ON&amp;script=0\" style=\"border-style:none;\" width=\"1\"/></div></noscript><div data-site=\"ndtv\" data-size=\"120\" id=\"__cube\"></div><div id=\"_halfwaysticky\"></div><div id=\"ndtvnotify\" style=\"display:none;\"><div style=\"width: 100%;height: 100%;position: fixed;left: 0;top: 0;z-index: 189787356;background: rgba(0,0,0,.8);opacity: 2;filter: alpha(opacity=2);\"></div><img alt=\"Please Click on allow\" height=\"60\" src=\"https://alerts.ndtv.com/images/web.png\" style=\"position: fixed;left: 318px;z-index: 189787357;top: 126px;\" width=\"211\"/></div><div id=\"___ndtvpushdiv\"></div><!-- \n",
              "\t\t<link rel=\"stylesheet\" href=\"https://cdn.jsdelivr.net/gh/fancyapps/fancybox@3.5.7/dist/jquery.fancybox.min.css\" /><script src=\"https://cdn.jsdelivr.net/gh/fancyapps/fancybox@3.5.7/dist/jquery.fancybox.min.js\"></script>\n",
              "        --><div class=\"breaking_alert\" data-alert=\"ndtv\" data-type=\"desktop\" data-widpos=\"top\"></div><!--corona stcky logo-->"
            ]
          },
          "metadata": {
            "tags": []
          },
          "execution_count": 94
        }
      ]
    },
    {
      "cell_type": "code",
      "metadata": {
        "id": "FzeBIzwpA_l5",
        "outputId": "b55f22c0-f45b-4707-d8d0-9821445f4976",
        "colab": {
          "base_uri": "https://localhost:8080/"
        }
      },
      "source": [
        "p_tags = soup.find_all(['p','ul'])\n",
        "s=[]\n",
        "for each in p_tags:\n",
        "    print (each.text)\n",
        "    s.append(each.text)"
      ],
      "execution_count": null,
      "outputs": [
        {
          "output_type": "stream",
          "text": [
            "\n",
            "\n",
            "\n",
            "\n",
            "\n",
            "\n",
            "\n",
            "\n",
            "The letter said it would \"always remain an integral part of the collective leadership (File)\n",
            "The letter by 23 Congress dissidents to party chief Sonia Gandhi says there has been a \"steady decline of the party\", witnessed in the 2014 and 2019 elections, but there has been no honest introspection to analyse the reasons. It also says the Congress is \"no more a nurturing leadership\" and calls for \"free, fair and democratic\" elections.\n",
            "\"We have witnessed a steady decline of the Congress Party reflected in successive electoral verdicts in States and General Elections in 2014 and 2019. Reasons are manifold and need to be immediately identified. Otherwise, the Congress Party will find itself marginalized, both in the States, which is already apparent, as well as at the national level,\" says the letter accessed by NDTV.\n",
            "\"The erosion of support base and, in particular, losing the confidence of the youth, is a matter of serious concern,\" it says.\n",
            "Veteran leaders Ghulam Nabi Azad, Kapil Sibal, Anand Sharma, Mukul Wasnik and Shashi Tharoor are among the signatories to the letter, which has deeply rattled the party and split it down the middle.\n",
            "The dissenters write that in the last two national elections, India added 18.7 crore first time voters but the youth voted overwhelmingly for Modi and the BJP. While the BJP's vote share sharply increased from 7.84 crores in 2009 to 17.6 crores in 2014 and to 22.9 crores in 2019, the Congress lost its share of 1.23 crore of the votes polled in 2009.\n",
            "\"Even after 14 months of the 2019 electoral verdict, the Congress Party has not undertaken any honest introspection to analyse the reasons for its continued decline. In order to stem the decline, we have taken upon ourselves to be open and frank so that the Congress Party's future, which presently is at stake, is not jeopardized any further,\" said the letter.\n",
            "\"The uncertainty over the leadership and the drift, has demoralised the Congress workers and further weakened the party. There has been an erosion of the support base with leaders and functionaries leaving the party in a number of States.\"\n",
            "The letter also said the Congress Working Committee was not effectively guiding the party and its meetings were \"merely episodic and reactive to contemporary developments\" instead of being a deliberative body for setting the national agenda and for policy initiatives.\n",
            "It also criticized Congress Parliamentary Party meetings, saying it has \"been reduced to the customary address of the CPP leader and obituary references\" without discussions.\n",
            "The Congress, said the dissenters, was \"no more a nurturing leadership at the state and national level\". They said merit based and consensus-backed selection has been disrupted and \"resource-rich individuals or those backed by powerful patrons\" had captured organisations like the youth Congress.\n",
            "\n",
            "The ginger group listed their suggestions to \"revitalise the party and to give millions of workers a sense of purpose\"\n",
            "Full time and effective leadership active in the field and visible, and available at AICC and PCC Headquarters.The Central Parliamentary Board (CPB) be urgently constituted for collective thinking and decision-makingElections of CWC members and block, state Congress chiefs and AICC Members in a transparent manner.Important panels to be reconstituted to include \"leaders with organisational background and active field knowledge and experience\".An \"Institutional leadership mechanism\" to collectively guide the party's revival.\n",
            "Praising the Nehru-Gandhi family, the letter said it would \"always remain an integral part of the collective leadership of the Congress Party\".\n",
            "It also said to create a national coalition of democratic and secular forces to confront and defeat the BJP agenda, \"a sincere effort should be made to bring on one platform leaders of political parties, who were once part of the Congress\".\n",
            "\n",
            "\n",
            "\n"
          ],
          "name": "stdout"
        }
      ]
    },
    {
      "cell_type": "code",
      "metadata": {
        "id": "7n58NBPR_csN",
        "outputId": "48bb2c08-054d-4096-a4a4-eab090f5595f",
        "colab": {
          "base_uri": "https://localhost:8080/",
          "height": 35
        }
      },
      "source": [
        "soup.title.text"
      ],
      "execution_count": null,
      "outputs": [
        {
          "output_type": "execute_result",
          "data": {
            "application/vnd.google.colaboratory.intrinsic+json": {
              "type": "string"
            },
            "text/plain": [
              "'Dissent Letter To Sonia Gandhi: No More A Nurturing Leadership'"
            ]
          },
          "metadata": {
            "tags": []
          },
          "execution_count": 96
        }
      ]
    },
    {
      "cell_type": "code",
      "metadata": {
        "id": "92j6ToJESmJs",
        "outputId": "d3c80b38-3898-4ab4-c46f-ff7511d4a090",
        "colab": {
          "base_uri": "https://localhost:8080/",
          "height": 171
        }
      },
      "source": [
        "listToStr = ' '.join([str(elem) for elem in s]) \n",
        "listToStr=listToStr.replace(\"       \", \"\") \n",
        "listToStr"
      ],
      "execution_count": null,
      "outputs": [
        {
          "output_type": "execute_result",
          "data": {
            "application/vnd.google.colaboratory.intrinsic+json": {
              "type": "string"
            },
            "text/plain": [
              "' The letter said it would \"always remain an integral part of the collective leadership (File) The letter by 23 Congress dissidents to party chief Sonia Gandhi says there has been a \"steady decline of the party\", witnessed in the 2014 and 2019 elections, but there has been no honest introspection to analyse the reasons. It also says the Congress is \"no more a nurturing leadership\" and calls for \"free, fair and democratic\" elections. \"We have witnessed a steady decline of the Congress Party reflected in successive electoral verdicts in States and General Elections in 2014 and 2019. Reasons are manifold and need to be immediately identified. Otherwise, the Congress Party will find itself marginalized, both in the States, which is already apparent, as well as at the national level,\" says the letter accessed by NDTV. \"The erosion of support base and, in particular, losing the confidence of the youth, is a matter of serious concern,\" it says. Veteran leaders Ghulam Nabi Azad, Kapil Sibal, Anand Sharma, Mukul Wasnik and Shashi Tharoor are among the signatories to the letter, which has deeply rattled the party and split it down the middle. The dissenters write that in the last two national elections, India added 18.7 crore first time voters but the youth voted overwhelmingly for Modi and the BJP. While the BJP\\'s vote share sharply increased from 7.84 crores in 2009 to 17.6 crores in 2014 and to 22.9 crores in 2019, the Congress lost its share of 1.23 crore of the votes polled in 2009. \"Even after 14 months of the 2019 electoral verdict, the Congress Party has not undertaken any honest introspection to analyse the reasons for its continued decline. In order to stem the decline, we have taken upon ourselves to be open and frank so that the Congress Party\\'s future, which presently is at stake, is not jeopardized any further,\" said the letter. \"The uncertainty over the leadership and the drift, has demoralised the Congress workers and further weakened the party. There has been an erosion of the support base with leaders and functionaries leaving the party in a number of States.\" The letter also said the Congress Working Committee was not effectively guiding the party and its meetings were \"merely episodic and reactive to contemporary developments\" instead of being a deliberative body for setting the national agenda and for policy initiatives. It also criticized Congress Parliamentary Party meetings, saying it has \"been reduced to the customary address of the CPP leader and obituary references\" without discussions. The Congress, said the dissenters, was \"no more a nurturing leadership at the state and national level\". They said merit based and consensus-backed selection has been disrupted and \"resource-rich individuals or those backed by powerful patrons\" had captured organisations like the youth Congress.  The ginger group listed their suggestions to \"revitalise the party and to give millions of workers a sense of purpose\" Full time and effective leadership active in the field and visible, and available at AICC and PCC Headquarters.The Central Parliamentary Board (CPB) be urgently constituted for collective thinking and decision-makingElections of CWC members and block, state Congress chiefs and AICC Members in a transparent manner.Important panels to be reconstituted to include \"leaders with organisational background and active field knowledge and experience\".An \"Institutional leadership mechanism\" to collectively guide the party\\'s revival. Praising the Nehru-Gandhi family, the letter said it would \"always remain an integral part of the collective leadership of the Congress Party\". It also said to create a national coalition of democratic and secular forces to confront and defeat the BJP agenda, \"a sincere effort should be made to bring on one platform leaders of political parties, who were once part of the Congress\".   '"
            ]
          },
          "metadata": {
            "tags": []
          },
          "execution_count": 97
        }
      ]
    },
    {
      "cell_type": "code",
      "metadata": {
        "id": "tRSNTo5QZnep",
        "outputId": "a1d31877-03c5-4391-f864-8feab51fdbab",
        "colab": {
          "base_uri": "https://localhost:8080/"
        }
      },
      "source": [
        "from google.colab import drive\n",
        "\n",
        "drive.mount('/content/gdrive')"
      ],
      "execution_count": null,
      "outputs": [
        {
          "output_type": "stream",
          "text": [
            "Mounted at /content/gdrive\n"
          ],
          "name": "stdout"
        }
      ]
    },
    {
      "cell_type": "code",
      "metadata": {
        "id": "geRdibz3PZmY",
        "outputId": "91ab0db9-e5be-4c14-9a4c-ccd979fbab9e",
        "colab": {
          "base_uri": "https://localhost:8080/"
        }
      },
      "source": [
        "!pip install transformers"
      ],
      "execution_count": null,
      "outputs": [
        {
          "output_type": "stream",
          "text": [
            "Requirement already satisfied: transformers in /usr/local/lib/python3.6/dist-packages (3.3.1)\n",
            "Requirement already satisfied: tqdm>=4.27 in /usr/local/lib/python3.6/dist-packages (from transformers) (4.41.1)\n",
            "Requirement already satisfied: packaging in /usr/local/lib/python3.6/dist-packages (from transformers) (20.4)\n",
            "Requirement already satisfied: regex!=2019.12.17 in /usr/local/lib/python3.6/dist-packages (from transformers) (2019.12.20)\n",
            "Requirement already satisfied: sentencepiece!=0.1.92 in /usr/local/lib/python3.6/dist-packages (from transformers) (0.1.94)\n",
            "Requirement already satisfied: filelock in /usr/local/lib/python3.6/dist-packages (from transformers) (3.0.12)\n",
            "Requirement already satisfied: sacremoses in /usr/local/lib/python3.6/dist-packages (from transformers) (0.0.43)\n",
            "Requirement already satisfied: requests in /usr/local/lib/python3.6/dist-packages (from transformers) (2.23.0)\n",
            "Requirement already satisfied: dataclasses; python_version < \"3.7\" in /usr/local/lib/python3.6/dist-packages (from transformers) (0.7)\n",
            "Requirement already satisfied: tokenizers==0.8.1.rc2 in /usr/local/lib/python3.6/dist-packages (from transformers) (0.8.1rc2)\n",
            "Requirement already satisfied: numpy in /usr/local/lib/python3.6/dist-packages (from transformers) (1.18.5)\n",
            "Requirement already satisfied: pyparsing>=2.0.2 in /usr/local/lib/python3.6/dist-packages (from packaging->transformers) (2.4.7)\n",
            "Requirement already satisfied: six in /usr/local/lib/python3.6/dist-packages (from packaging->transformers) (1.15.0)\n",
            "Requirement already satisfied: click in /usr/local/lib/python3.6/dist-packages (from sacremoses->transformers) (7.1.2)\n",
            "Requirement already satisfied: joblib in /usr/local/lib/python3.6/dist-packages (from sacremoses->transformers) (0.17.0)\n",
            "Requirement already satisfied: certifi>=2017.4.17 in /usr/local/lib/python3.6/dist-packages (from requests->transformers) (2020.6.20)\n",
            "Requirement already satisfied: idna<3,>=2.5 in /usr/local/lib/python3.6/dist-packages (from requests->transformers) (2.10)\n",
            "Requirement already satisfied: chardet<4,>=3.0.2 in /usr/local/lib/python3.6/dist-packages (from requests->transformers) (3.0.4)\n",
            "Requirement already satisfied: urllib3!=1.25.0,!=1.25.1,<1.26,>=1.21.1 in /usr/local/lib/python3.6/dist-packages (from requests->transformers) (1.24.3)\n"
          ],
          "name": "stdout"
        }
      ]
    },
    {
      "cell_type": "code",
      "metadata": {
        "id": "louc6yAq2yBc"
      },
      "source": [
        "\n",
        "from transformers import T5Tokenizer, T5ForConditionalGeneration\n",
        "\n",
        "#tokenizer = AutoTokenizer.from_pretrained(\"mrm8488/t5-base-finetuned-summarize-news\")\n",
        "#model = AutoModelWithLMHead.from_pretrained(\"mrm8488/t5-base-finetuned-summarize-news\")\n",
        "model = T5ForConditionalGeneration.from_pretrained(\"/content/gdrive/My Drive/my_t5_model/\")\n",
        "tokenizer = T5Tokenizer.from_pretrained(\"/content/gdrive/My Drive/my_t5_tokenizer/\")\n",
        "\n",
        "def summarize(text, max_length=150):\n",
        "  input_ids = tokenizer.encode(text, return_tensors=\"pt\", add_special_tokens=True)\n",
        "\n",
        "  generated_ids = model.generate(input_ids=input_ids, num_beams=2, max_length=max_length,  repetition_penalty=2.5, length_penalty=1.0, early_stopping=True)\n",
        "\n",
        "  preds = [tokenizer.decode(g, skip_special_tokens=True, clean_up_tokenization_spaces=True) for g in generated_ids]\n",
        "\n",
        "  return preds[0]"
      ],
      "execution_count": null,
      "outputs": []
    },
    {
      "cell_type": "code",
      "metadata": {
        "id": "JhjD8kR_r9Oe",
        "outputId": "66c86424-3632-423a-ba21-99b72f06d82c",
        "colab": {
          "base_uri": "https://localhost:8080/"
        }
      },
      "source": [
        "l1=summarize(listToStr,150)\n",
        "len(l1.split())\n"
      ],
      "execution_count": null,
      "outputs": [
        {
          "output_type": "stream",
          "text": [
            "Token indices sequence length is longer than the specified maximum sequence length for this model (852 > 512). Running this sequence through the model will result in indexing errors\n"
          ],
          "name": "stderr"
        },
        {
          "output_type": "execute_result",
          "data": {
            "text/plain": [
              "52"
            ]
          },
          "metadata": {
            "tags": []
          },
          "execution_count": 101
        }
      ]
    },
    {
      "cell_type": "code",
      "metadata": {
        "id": "Hb8btsk0PiRl",
        "outputId": "895f3fb1-687f-4abb-8230-4f3ef2b1e31d",
        "colab": {
          "base_uri": "https://localhost:8080/",
          "height": 69
        }
      },
      "source": [
        "l1"
      ],
      "execution_count": null,
      "outputs": [
        {
          "output_type": "execute_result",
          "data": {
            "application/vnd.google.colaboratory.intrinsic+json": {
              "type": "string"
            },
            "text/plain": [
              "'\"the uncertainty over the leadership and the drift, has demoralised the Congress workers and further weakened the party,\" it added. The letter also called for an \"institutional leadership mechanism\" to collectively guide the party\\'s revival. It further said there has been no honest introspection to analyse the reasons for its continued decline.'"
            ]
          },
          "metadata": {
            "tags": []
          },
          "execution_count": 102
        }
      ]
    },
    {
      "cell_type": "code",
      "metadata": {
        "id": "RXgr1U9F_6Eq"
      },
      "source": [
        "\n",
        "page = requests.get('https://scroll.in/latest/971665/letter-to-sonia-gandhi-kerala-congress-chief-steps-in-after-state-legislator-attacks-shashi-tharoor') \n",
        "soup = BeautifulSoup(page.content, 'html.parser')\n",
        "\n"
      ],
      "execution_count": null,
      "outputs": []
    },
    {
      "cell_type": "code",
      "metadata": {
        "id": "AmAiXNSMGjxZ"
      },
      "source": [
        "for s in soup.select('script'):\n",
        "    s.extract()\n",
        "for a in soup.findAll('a', href=True):\n",
        "    a.extract()"
      ],
      "execution_count": null,
      "outputs": []
    },
    {
      "cell_type": "code",
      "metadata": {
        "id": "iifGKekXGpCi",
        "outputId": "1ee03fcc-156c-42ca-f79b-4a36754c7c1d",
        "colab": {
          "base_uri": "https://localhost:8080/"
        }
      },
      "source": [
        "p_tags = soup.find_all(['p','ul'])\n",
        "s=[]\n",
        "for each in p_tags:\n",
        "    print (each.text)\n",
        "    s.append(each.text)"
      ],
      "execution_count": null,
      "outputs": [
        {
          "output_type": "stream",
          "text": [
            "\n",
            "\n",
            "\n",
            "\n",
            "\n",
            "\n",
            "\n",
            "\n",
            "\n",
            "\n",
            "\n",
            "\n",
            "\n",
            "\n",
            "\n",
            "\n",
            "\n",
            "\n",
            "\n",
            "\n",
            "\n",
            "\n",
            "\n",
            "\n",
            "\n",
            "\n",
            "\n",
            "\n",
            "\n",
            "\n",
            "\n",
            "\n",
            "\n",
            "\n",
            "\n",
            "\n",
            "\n",
            "\n",
            "\n",
            "\n",
            "\n",
            "\n",
            "\n",
            "\n",
            "\n",
            "\n",
            "\n",
            "\n",
            "\n",
            "\n",
            "\n",
            "\n",
            "\n",
            "\n",
            "\n",
            "\n",
            "\n",
            "\n",
            "\n",
            "\n",
            "\n",
            "\n",
            "\n",
            "\n",
            "\n",
            "\n",
            "\n",
            "\n",
            "\n",
            "\n",
            "\n",
            "\n",
            "\n",
            "\n",
            "\n",
            "\n",
            "\n",
            "\n",
            "\n",
            "\n",
            "\n",
            "\n",
            "\n",
            "\n",
            "\n",
            "\n",
            "\n",
            "\n",
            "\n",
            "\n",
            "\n",
            "\n",
            "\n",
            "\n",
            "\n",
            "\n",
            "\n",
            "\n",
            "\n",
            "\n",
            "\n",
            "\n",
            "\n",
            "\n",
            "\n",
            "\n",
            "\n",
            "\n",
            "\n",
            "\n",
            "\n",
            "\n",
            "\n",
            "\n",
            "\n",
            "\n",
            "\n",
            "\n",
            "\n",
            "\n",
            "\n",
            "\n",
            "\n",
            "\n",
            "\n",
            "\n",
            "\n",
            "\n",
            "\n",
            "\n",
            "\n",
            "\n",
            "\n",
            "\n",
            "\n",
            "\n",
            "\n",
            "\n",
            "\n",
            "\n",
            "\n",
            "\n",
            "\n",
            "\n",
            "\n",
            "\n",
            "\n",
            "\n",
            "\n",
            "\n",
            "\n",
            "\n",
            "\n",
            "\n",
            "\n",
            "\n",
            "\n",
            "\n",
            "\n",
            "\n",
            "\n",
            "\n",
            "\n",
            "\n",
            "\n",
            "\n",
            "\n",
            "\n",
            "\n",
            "\n",
            "\n",
            "\n",
            "\n",
            "\n",
            "\n",
            "\n",
            "\n",
            "\n",
            "\n",
            "\n",
            "\n",
            "\n",
            "\n",
            "\n",
            "\n",
            "\n",
            "\n",
            "\n",
            "\n",
            "\n",
            "\n",
            "\n",
            "\n",
            "\n",
            "\n",
            "\n",
            "\n",
            "\n",
            "\n",
            "\n",
            "\n",
            "\n",
            "\n",
            "\n",
            "\n",
            "\n",
            "\n",
            "\n",
            "\n",
            "\n",
            "\n",
            "\n",
            "\n",
            "\n",
            "\n",
            "\n",
            "\n",
            "\n",
            "\n",
            "\n",
            "\n",
            "\n",
            "\n",
            "\n",
            "\n",
            "\n",
            "\n",
            "\n",
            "\n",
            "\n",
            "\n",
            "\n",
            "\n",
            "\n",
            "\n",
            "\n",
            "\n",
            "\n",
            "\n",
            "\n",
            "\n",
            "\n",
            "\n",
            "\n",
            "\n",
            "\n",
            "\n",
            "\n",
            "\n",
            "\n",
            "\n",
            "\n",
            "\n",
            "\n",
            "\n",
            "\n",
            "Kerala Congress chief  on Friday stepped in to stop an attack on party colleague Shashi Tharoor over the “dissent letter” written to Congress President Sonia Gandhi, the Hindustan Times reported. Tharoor was one of the 23 signatories to the letter. The letter had called for radical changes within the party, pointing to its dismal electoral performances and shrinking voter base.\n",
            "The controversy began when Kerala Congress leader Kodikunnil Suresh called Tharoor a “guest artist and immature politician”. Radhakrishnan, who had himself criticised Tharoor over the letter, then stepped in to stop the infighting. He asked all leaders to treat the matter as closed and not air opinions freely.\n",
            "“Tharoor is not a politician,” Suresh said. “For the party, he’s only a guest artist. He is immature and yet to learn to work well within the party framework. It is not right for him to take different positions thinking that he is a global citizen.” Senior leader K Muralidharan also lashed out at Tharoor, saying that the letter created much confusion and led to opponents targeting the Congress. \n",
            "Many other Kerala Congress leaders also backed Tharoor. \n",
            "“Tharoor’s contributions are immense and he is an inspiration for youngsters,” legislator KS Sabrinathan said. “No doubt, he is a global citizen. His contacts really helped the state during the trying time of the pandemic. He might have different opinions on issues like airport privatisation but these things will have to be sorted out through discussion.”\n",
            "Meanwhile,  of the letter to Sonia Gandhi told NDTV that Rahul Gandhi may not be able to take the Congress to victory in the 2024 Lok Sabha elections. “We are no more in a position to say that Rahul Gandhi will be able to lead the party and help us get 400 seats in 2024,” the politician said. “We must realise that in two Lok Sabha elections in 2014 and 2019, the party hasn’t been able to get the required seats.” The leader said that from “Nagpur to Shimla” the party has 16 Lok Sabha seats, of which eight are in Punjab.\n",
            "Earlier this week,  appointed several leaders to new positions in the party, in an apparent attempt to keep dissenters in the party in check. On August 24, the Congress Working Committee had unanimously decided to give Sonia Gandhi six more months in office. \n",
            "The letter written by  to Sonia Gandhi says that there has been a ”, as witnessed in the 2014 and 2019 Lok Sabha elections, but no “honest introspection” to analyse the reasons for these massive defeats.\n",
            "The letter added that Congress workers on the ground are demoralised because of the uncertainty over the leadership. The Congress is yet to appoint a full-time president since Rahul Gandhi resigned following the 2019 Lok Sabha election debacle.\n",
            "The letter also said the Congress Working Committee was an ineffective institution and its meetings were purely episodic and reacting to contemporary events, rather than being a deliberative body for setting the agenda and for taking policy decisions.\n",
            "\n",
            "\n",
            "\n",
            "\n",
            "\n",
            "\n",
            "\n",
            "\n",
            "\n",
            "\n",
            "\n",
            "\n",
            "\n",
            "\n",
            "\n",
            "\n",
            "\n",
            "\n",
            "\n",
            "\n",
            "\n",
            "\n",
            "\n",
            "\n",
            "\n",
            "\n",
            "\n",
            "\n",
            "\n",
            "\n",
            "\n",
            "\n",
            "\n"
          ],
          "name": "stdout"
        }
      ]
    },
    {
      "cell_type": "code",
      "metadata": {
        "id": "cD2gmA1jGp9P"
      },
      "source": [
        "listToStr2= ' '.join([str(elem) for elem in s]) \n",
        "#listToStr=listToStr.replace(\"       \", \"\") \n"
      ],
      "execution_count": null,
      "outputs": []
    },
    {
      "cell_type": "code",
      "metadata": {
        "id": "edtrTarTI8sS",
        "outputId": "9eecd017-4cdc-4f71-923b-e6cb197c3917",
        "colab": {
          "base_uri": "https://localhost:8080/",
          "height": 171
        }
      },
      "source": [
        "listToStr2.strip()"
      ],
      "execution_count": null,
      "outputs": [
        {
          "output_type": "execute_result",
          "data": {
            "application/vnd.google.colaboratory.intrinsic+json": {
              "type": "string"
            },
            "text/plain": [
              "'Kerala Congress chief  on Friday stepped in to stop an attack on party colleague Shashi Tharoor over the “dissent letter” written to Congress President Sonia Gandhi, the Hindustan Times reported. Tharoor was one of the 23 signatories to the letter. The letter had called for radical changes within the party, pointing to its dismal electoral performances and shrinking voter base. The controversy began when Kerala Congress leader Kodikunnil Suresh called Tharoor a “guest artist and immature politician”. Radhakrishnan, who had himself criticised Tharoor over the letter, then stepped in to stop the infighting. He asked all leaders to treat the matter as closed and not air opinions freely. “Tharoor is not a politician,” Suresh said. “For the party, he’s only a guest artist. He is immature and yet to learn to work well within the party framework. It is not right for him to take different positions thinking that he is a global citizen.” Senior leader K Muralidharan also lashed out at Tharoor, saying that the letter created much confusion and led to opponents targeting the Congress.  Many other Kerala Congress leaders also backed Tharoor.  “Tharoor’s contributions are immense and he is an inspiration for youngsters,” legislator KS Sabrinathan said. “No doubt, he is a global citizen. His contacts really helped the state during the trying time of the pandemic. He might have different opinions on issues like airport privatisation but these things will have to be sorted out through discussion.” Meanwhile,  of the letter to Sonia Gandhi told NDTV that Rahul Gandhi may not be able to take the Congress to victory in the 2024 Lok Sabha elections. “We are no more in a position to say that Rahul Gandhi will be able to lead the party and help us get 400 seats in 2024,” the politician said. “We must realise that in two Lok Sabha elections in 2014 and 2019, the party hasn’t been able to get the required seats.” The leader said that from “Nagpur to Shimla” the party has 16 Lok Sabha seats, of which eight are in Punjab. Earlier this week,  appointed several leaders to new positions in the party, in an apparent attempt to keep dissenters in the party in check. On August 24, the Congress Working Committee had unanimously decided to give Sonia Gandhi six more months in office.  The letter written by  to Sonia Gandhi says that there has been a ”, as witnessed in the 2014 and 2019 Lok Sabha elections, but no “honest introspection” to analyse the reasons for these massive defeats. The letter added that Congress workers on the ground are demoralised because of the uncertainty over the leadership. The Congress is yet to appoint a full-time president since Rahul Gandhi resigned following the 2019 Lok Sabha election debacle. The letter also said the Congress Working Committee was an ineffective institution and its meetings were purely episodic and reacting to contemporary events, rather than being a deliberative body for setting the agenda and for taking policy decisions.'"
            ]
          },
          "metadata": {
            "tags": []
          },
          "execution_count": 107
        }
      ]
    },
    {
      "cell_type": "code",
      "metadata": {
        "id": "2dMF6Yp8VNow",
        "outputId": "85f92a9b-cad1-4942-9779-b605cfb1e056",
        "colab": {
          "base_uri": "https://localhost:8080/",
          "height": 123
        }
      },
      "source": [
        "l2=summarize(listToStr2,150)\n",
        "l2"
      ],
      "execution_count": null,
      "outputs": [
        {
          "output_type": "stream",
          "text": [
            "Token indices sequence length is longer than the specified maximum sequence length for this model (696 > 512). Running this sequence through the model will result in indexing errors\n"
          ],
          "name": "stderr"
        },
        {
          "output_type": "execute_result",
          "data": {
            "application/vnd.google.colaboratory.intrinsic+json": {
              "type": "string"
            },
            "text/plain": [
              "'chief Kodikunnil Suresh on Friday stepped in to stop an attack on party colleague Shashi Tharoor over the “dissent letter” written to Congress President Sonia Gandhi. Tharoor was one of the 23 signatories to the letter, which called for radical changes within the party. Notably, Tharoor is not a politician, but a guest artist and yet to learn to work well within the party framework.'"
            ]
          },
          "metadata": {
            "tags": []
          },
          "execution_count": 108
        }
      ]
    },
    {
      "cell_type": "code",
      "metadata": {
        "id": "3oetWuh0UZqc",
        "outputId": "7d4f99ff-3bb1-46f3-d0da-8902d2bf592c",
        "colab": {
          "base_uri": "https://localhost:8080/"
        }
      },
      "source": [
        "pip install -U sentence-transformers\n"
      ],
      "execution_count": null,
      "outputs": [
        {
          "output_type": "stream",
          "text": [
            "Collecting sentence-transformers\n",
            "\u001b[?25l  Downloading https://files.pythonhosted.org/packages/f4/fd/0190080aa0af78d7cd5874e4e8e85f0bed9967dd387cf05d760832b95da9/sentence-transformers-0.3.8.tar.gz (66kB)\n",
            "\u001b[K     |████████████████████████████████| 71kB 5.9MB/s \n",
            "\u001b[?25hCollecting transformers<3.4.0,>=3.1.0\n",
            "\u001b[?25l  Downloading https://files.pythonhosted.org/packages/19/22/aff234f4a841f8999e68a7a94bdd4b60b4cebcfeca5d67d61cd08c9179de/transformers-3.3.1-py3-none-any.whl (1.1MB)\n",
            "\u001b[K     |████████████████████████████████| 1.1MB 8.9MB/s \n",
            "\u001b[?25hRequirement already satisfied, skipping upgrade: tqdm in /usr/local/lib/python3.6/dist-packages (from sentence-transformers) (4.41.1)\n",
            "Requirement already satisfied, skipping upgrade: torch>=1.2.0 in /usr/local/lib/python3.6/dist-packages (from sentence-transformers) (1.7.0+cu101)\n",
            "Requirement already satisfied, skipping upgrade: numpy in /usr/local/lib/python3.6/dist-packages (from sentence-transformers) (1.18.5)\n",
            "Requirement already satisfied, skipping upgrade: scikit-learn in /usr/local/lib/python3.6/dist-packages (from sentence-transformers) (0.22.2.post1)\n",
            "Requirement already satisfied, skipping upgrade: scipy in /usr/local/lib/python3.6/dist-packages (from sentence-transformers) (1.4.1)\n",
            "Requirement already satisfied, skipping upgrade: nltk in /usr/local/lib/python3.6/dist-packages (from sentence-transformers) (3.2.5)\n",
            "Requirement already satisfied, skipping upgrade: requests in /usr/local/lib/python3.6/dist-packages (from transformers<3.4.0,>=3.1.0->sentence-transformers) (2.23.0)\n",
            "Requirement already satisfied, skipping upgrade: dataclasses; python_version < \"3.7\" in /usr/local/lib/python3.6/dist-packages (from transformers<3.4.0,>=3.1.0->sentence-transformers) (0.7)\n",
            "Collecting sacremoses\n",
            "\u001b[?25l  Downloading https://files.pythonhosted.org/packages/7d/34/09d19aff26edcc8eb2a01bed8e98f13a1537005d31e95233fd48216eed10/sacremoses-0.0.43.tar.gz (883kB)\n",
            "\u001b[K     |████████████████████████████████| 890kB 52.2MB/s \n",
            "\u001b[?25hCollecting sentencepiece!=0.1.92\n",
            "\u001b[?25l  Downloading https://files.pythonhosted.org/packages/e5/2d/6d4ca4bef9a67070fa1cac508606328329152b1df10bdf31fb6e4e727894/sentencepiece-0.1.94-cp36-cp36m-manylinux2014_x86_64.whl (1.1MB)\n",
            "\u001b[K     |████████████████████████████████| 1.1MB 46.7MB/s \n",
            "\u001b[?25hCollecting tokenizers==0.8.1.rc2\n",
            "\u001b[?25l  Downloading https://files.pythonhosted.org/packages/80/83/8b9fccb9e48eeb575ee19179e2bdde0ee9a1904f97de5f02d19016b8804f/tokenizers-0.8.1rc2-cp36-cp36m-manylinux1_x86_64.whl (3.0MB)\n",
            "\u001b[K     |████████████████████████████████| 3.0MB 55.4MB/s \n",
            "\u001b[?25hRequirement already satisfied, skipping upgrade: filelock in /usr/local/lib/python3.6/dist-packages (from transformers<3.4.0,>=3.1.0->sentence-transformers) (3.0.12)\n",
            "Requirement already satisfied, skipping upgrade: regex!=2019.12.17 in /usr/local/lib/python3.6/dist-packages (from transformers<3.4.0,>=3.1.0->sentence-transformers) (2019.12.20)\n",
            "Requirement already satisfied, skipping upgrade: packaging in /usr/local/lib/python3.6/dist-packages (from transformers<3.4.0,>=3.1.0->sentence-transformers) (20.4)\n",
            "Requirement already satisfied, skipping upgrade: typing-extensions in /usr/local/lib/python3.6/dist-packages (from torch>=1.2.0->sentence-transformers) (3.7.4.3)\n",
            "Requirement already satisfied, skipping upgrade: future in /usr/local/lib/python3.6/dist-packages (from torch>=1.2.0->sentence-transformers) (0.16.0)\n",
            "Requirement already satisfied, skipping upgrade: joblib>=0.11 in /usr/local/lib/python3.6/dist-packages (from scikit-learn->sentence-transformers) (0.17.0)\n",
            "Requirement already satisfied, skipping upgrade: six in /usr/local/lib/python3.6/dist-packages (from nltk->sentence-transformers) (1.15.0)\n",
            "Requirement already satisfied, skipping upgrade: idna<3,>=2.5 in /usr/local/lib/python3.6/dist-packages (from requests->transformers<3.4.0,>=3.1.0->sentence-transformers) (2.10)\n",
            "Requirement already satisfied, skipping upgrade: certifi>=2017.4.17 in /usr/local/lib/python3.6/dist-packages (from requests->transformers<3.4.0,>=3.1.0->sentence-transformers) (2020.6.20)\n",
            "Requirement already satisfied, skipping upgrade: urllib3!=1.25.0,!=1.25.1,<1.26,>=1.21.1 in /usr/local/lib/python3.6/dist-packages (from requests->transformers<3.4.0,>=3.1.0->sentence-transformers) (1.24.3)\n",
            "Requirement already satisfied, skipping upgrade: chardet<4,>=3.0.2 in /usr/local/lib/python3.6/dist-packages (from requests->transformers<3.4.0,>=3.1.0->sentence-transformers) (3.0.4)\n",
            "Requirement already satisfied, skipping upgrade: click in /usr/local/lib/python3.6/dist-packages (from sacremoses->transformers<3.4.0,>=3.1.0->sentence-transformers) (7.1.2)\n",
            "Requirement already satisfied, skipping upgrade: pyparsing>=2.0.2 in /usr/local/lib/python3.6/dist-packages (from packaging->transformers<3.4.0,>=3.1.0->sentence-transformers) (2.4.7)\n",
            "Building wheels for collected packages: sentence-transformers, sacremoses\n",
            "  Building wheel for sentence-transformers (setup.py) ... \u001b[?25l\u001b[?25hdone\n",
            "  Created wheel for sentence-transformers: filename=sentence_transformers-0.3.8-cp36-none-any.whl size=101996 sha256=26039fcc151eb551813fdee12440650547a61a7150ebaa0d4b31ce7ae146031e\n",
            "  Stored in directory: /root/.cache/pip/wheels/27/ec/b3/d12cc8e4daf77846db6543033d3a5642f204c0320b15945647\n",
            "  Building wheel for sacremoses (setup.py) ... \u001b[?25l\u001b[?25hdone\n",
            "  Created wheel for sacremoses: filename=sacremoses-0.0.43-cp36-none-any.whl size=893257 sha256=c09bbb6c10e3cccac900b260a0b85d86b76b3b0cef25a2f44e9026995ee953d9\n",
            "  Stored in directory: /root/.cache/pip/wheels/29/3c/fd/7ce5c3f0666dab31a50123635e6fb5e19ceb42ce38d4e58f45\n",
            "Successfully built sentence-transformers sacremoses\n",
            "Installing collected packages: sacremoses, sentencepiece, tokenizers, transformers, sentence-transformers\n",
            "Successfully installed sacremoses-0.0.43 sentence-transformers-0.3.8 sentencepiece-0.1.94 tokenizers-0.8.1rc2 transformers-3.3.1\n"
          ],
          "name": "stdout"
        }
      ]
    },
    {
      "cell_type": "code",
      "metadata": {
        "id": "LvGbZt1qUdqR"
      },
      "source": [
        "from sentence_transformers import SentenceTransformer\n",
        "model = SentenceTransformer('/content/gdrive/My Drive/output_albert/training_nli_albert-base-v2-2020-11-05_02-56-09/')"
      ],
      "execution_count": null,
      "outputs": []
    },
    {
      "cell_type": "code",
      "metadata": {
        "id": "kApvq4ylbmlK",
        "outputId": "13cb2403-cf2e-4daf-f74b-0910b359d077",
        "colab": {
          "base_uri": "https://localhost:8080/"
        }
      },
      "source": [
        "import gensim.downloader as api\n",
        "model = api.load('word2vec-google-news-300')\n",
        "import gensim\n",
        "#model = gensim.models.KeyedVectors.load_word2vec_format('GoogleNews-vectors-negative300.bin', binary = True) "
      ],
      "execution_count": null,
      "outputs": [
        {
          "output_type": "stream",
          "text": [
            "[=-------------------------------------------------] 2.3% 38.8/1662.8MB downloaded"
          ],
          "name": "stdout"
        }
      ]
    },
    {
      "cell_type": "code",
      "metadata": {
        "id": "vfFw1rRbbNVK",
        "outputId": "f185af76-9eb0-41bf-a0b7-5bb941feebef",
        "colab": {
          "base_uri": "https://localhost:8080/",
          "height": 316
        }
      },
      "source": [
        "sentence_obama = 'Obama speaks to the media in Illinois'\n",
        "sentence_president = 'The president greets the press in Chicago'\n",
        "model.wmdistance(sentence_obama, sentence_president)"
      ],
      "execution_count": null,
      "outputs": [
        {
          "output_type": "error",
          "ename": "ModuleAttributeError",
          "evalue": "ignored",
          "traceback": [
            "\u001b[0;31m---------------------------------------------------------------------------\u001b[0m",
            "\u001b[0;31mModuleAttributeError\u001b[0m                      Traceback (most recent call last)",
            "\u001b[0;32m<ipython-input-5-b581e21f151e>\u001b[0m in \u001b[0;36m<module>\u001b[0;34m()\u001b[0m\n\u001b[1;32m      1\u001b[0m \u001b[0msentence_obama\u001b[0m \u001b[0;34m=\u001b[0m \u001b[0;34m'Obama speaks to the media in Illinois'\u001b[0m\u001b[0;34m\u001b[0m\u001b[0;34m\u001b[0m\u001b[0m\n\u001b[1;32m      2\u001b[0m \u001b[0msentence_president\u001b[0m \u001b[0;34m=\u001b[0m \u001b[0;34m'The president greets the press in Chicago'\u001b[0m\u001b[0;34m\u001b[0m\u001b[0;34m\u001b[0m\u001b[0m\n\u001b[0;32m----> 3\u001b[0;31m \u001b[0mmodel\u001b[0m\u001b[0;34m.\u001b[0m\u001b[0mwmdistance\u001b[0m\u001b[0;34m(\u001b[0m\u001b[0msentence_obama\u001b[0m\u001b[0;34m,\u001b[0m \u001b[0msentence_president\u001b[0m\u001b[0;34m)\u001b[0m\u001b[0;34m\u001b[0m\u001b[0;34m\u001b[0m\u001b[0m\n\u001b[0m",
            "\u001b[0;32m/usr/local/lib/python3.6/dist-packages/torch/nn/modules/module.py\u001b[0m in \u001b[0;36m__getattr__\u001b[0;34m(self, name)\u001b[0m\n\u001b[1;32m    777\u001b[0m                 \u001b[0;32mreturn\u001b[0m \u001b[0mmodules\u001b[0m\u001b[0;34m[\u001b[0m\u001b[0mname\u001b[0m\u001b[0;34m]\u001b[0m\u001b[0;34m\u001b[0m\u001b[0;34m\u001b[0m\u001b[0m\n\u001b[1;32m    778\u001b[0m         raise ModuleAttributeError(\"'{}' object has no attribute '{}'\".format(\n\u001b[0;32m--> 779\u001b[0;31m             type(self).__name__, name))\n\u001b[0m\u001b[1;32m    780\u001b[0m \u001b[0;34m\u001b[0m\u001b[0m\n\u001b[1;32m    781\u001b[0m     \u001b[0;32mdef\u001b[0m \u001b[0m__setattr__\u001b[0m\u001b[0;34m(\u001b[0m\u001b[0mself\u001b[0m\u001b[0;34m,\u001b[0m \u001b[0mname\u001b[0m\u001b[0;34m:\u001b[0m \u001b[0mstr\u001b[0m\u001b[0;34m,\u001b[0m \u001b[0mvalue\u001b[0m\u001b[0;34m:\u001b[0m \u001b[0mUnion\u001b[0m\u001b[0;34m[\u001b[0m\u001b[0mTensor\u001b[0m\u001b[0;34m,\u001b[0m \u001b[0;34m'Module'\u001b[0m\u001b[0;34m]\u001b[0m\u001b[0;34m)\u001b[0m \u001b[0;34m->\u001b[0m \u001b[0;32mNone\u001b[0m\u001b[0;34m:\u001b[0m\u001b[0;34m\u001b[0m\u001b[0;34m\u001b[0m\u001b[0m\n",
            "\u001b[0;31mModuleAttributeError\u001b[0m: 'SentenceTransformer' object has no attribute 'wmdistance'"
          ]
        }
      ]
    },
    {
      "cell_type": "code",
      "metadata": {
        "id": "mQswUPyRU7Sx"
      },
      "source": [
        "e1=model.encode([l1])\n",
        "e2=model.encode([l3])"
      ],
      "execution_count": null,
      "outputs": []
    },
    {
      "cell_type": "code",
      "metadata": {
        "id": "1UKlsS4jVE21",
        "outputId": "41977c3d-e69e-43d7-a766-dc2b59db49ed",
        "colab": {
          "base_uri": "https://localhost:8080/"
        }
      },
      "source": [
        "e2.shape"
      ],
      "execution_count": null,
      "outputs": [
        {
          "output_type": "execute_result",
          "data": {
            "text/plain": [
              "(1, 768)"
            ]
          },
          "metadata": {
            "tags": []
          },
          "execution_count": 193
        }
      ]
    },
    {
      "cell_type": "code",
      "metadata": {
        "id": "2k39PsCd70KL"
      },
      "source": [
        "\n",
        "def run_sts_benchmark(session):\n",
        "  \"\"\"Returns the similarity scores\"\"\"\n",
        "  emba, embb, scores = session.run(\n",
        "      [sts_encode1, sts_encode2, sim_scores],\n",
        "      feed_dict={})\n",
        "  return scores\n",
        "\n",
        "def pearson_and_spearman(preds, labels):\n",
        "        pearson_corr = pearsonr(preds, labels)[0]\n",
        "        spearman_corr = spearmanr(preds, labels)[0]\n",
        "        return {\n",
        "            \"pearson\": pearson_corr,\n",
        "            \"spearmanr\": spearman_corr,\n",
        "            \"corr\": (pearson_corr + spearman_corr) / 2,\n",
        "        }\n"
      ],
      "execution_count": null,
      "outputs": []
    },
    {
      "cell_type": "code",
      "metadata": {
        "id": "pIL-aEJXdvcv"
      },
      "source": [
        "\n",
        "# For evaluation we use exactly normalized rather than\n",
        "# approximately normalized.\n",
        "import tensorflow.compat.v1 as tf\n",
        "tf.disable_v2_behavior()\n",
        "import scipy.stats\n",
        "import pandas as pd\n",
        "from scipy.stats import pearsonr, spearmanr\n",
        "sts_encode1 = tf.nn.l2_normalize(e1, axis=1)\n",
        "sts_encode2 = tf.nn.l2_normalize(e2, axis=1)\n",
        "cosine_similarities = tf.reduce_sum(tf.multiply(sts_encode1, sts_encode2), axis=1)\n",
        "clip_cosine_similarities = tf.clip_by_value(cosine_similarities, -1.0, 1.0)\n",
        "sim_scores = 1.0 - tf.acos(clip_cosine_similarities)\n",
        "\n",
        "\n",
        "\n",
        "\n",
        "with tf.Session() as session:\n",
        " session.run(tf.global_variables_initializer())\n",
        " session.run(tf.tables_initializer())\n",
        " scores = run_sts_benchmark(session)\n"
      ],
      "execution_count": null,
      "outputs": []
    },
    {
      "cell_type": "code",
      "metadata": {
        "id": "klNZkju879qv",
        "outputId": "2f7cab54-497e-4319-8d88-12eddcaeea80",
        "colab": {
          "base_uri": "https://localhost:8080/"
        }
      },
      "source": [
        "import math\n",
        "def angular_distance(src, tgt):\n",
        "    cos_sim = cosine_similarity(src, tgt)\n",
        "    np.fill_diagonal(cos_sim, 1)\n",
        "    distance_ = 1 - (np.arccos(cos_sim) / math.pi)\n",
        "    return distance_\n",
        "angular_distance(e1, e2)  "
      ],
      "execution_count": null,
      "outputs": [
        {
          "output_type": "execute_result",
          "data": {
            "text/plain": [
              "array([[1.]], dtype=float32)"
            ]
          },
          "metadata": {
            "tags": []
          },
          "execution_count": 219
        }
      ]
    },
    {
      "cell_type": "code",
      "metadata": {
        "id": "yvHSrMzLkmAV",
        "outputId": "f880688d-b8f1-45dc-d85d-5868185bb9fb",
        "colab": {
          "base_uri": "https://localhost:8080/"
        }
      },
      "source": [
        "def manhattan_dist(src, tgt):\n",
        "    distance_ = manhattan_distances(src, tgt)\n",
        "    return distance_\n",
        "from sklearn.metrics.pairwise import (\n",
        "    cosine_similarity,\n",
        "    euclidean_distances,\n",
        "    manhattan_distances,\n",
        ")\n",
        "\n",
        "manhattan_dist(e1, e2)"
      ],
      "execution_count": null,
      "outputs": [
        {
          "output_type": "execute_result",
          "data": {
            "text/plain": [
              "array([[692.03031792]])"
            ]
          },
          "metadata": {
            "tags": []
          },
          "execution_count": 227
        }
      ]
    },
    {
      "cell_type": "code",
      "metadata": {
        "id": "MYZESqg4k4Uq",
        "outputId": "89cf7e13-089a-4646-eb44-3fa250106fad",
        "colab": {
          "base_uri": "https://localhost:8080/"
        }
      },
      "source": [
        "def euclidean_dist(src, tgt):\n",
        "    distance_ = euclidean_distances(src, tgt)\n",
        "    return distance_\n",
        "euclidean_dist(e1, e2)"
      ],
      "execution_count": null,
      "outputs": [
        {
          "output_type": "execute_result",
          "data": {
            "text/plain": [
              "array([[32.878075]], dtype=float32)"
            ]
          },
          "metadata": {
            "tags": []
          },
          "execution_count": 228
        }
      ]
    },
    {
      "cell_type": "code",
      "metadata": {
        "id": "M42T77hplCFE",
        "outputId": "495a0b5f-8620-4238-9308-127a9b90e404",
        "colab": {
          "base_uri": "https://localhost:8080/"
        }
      },
      "source": [
        "def inner_product(src, tgt):\n",
        "    similarity_ = np.inner(src, tgt)\n",
        "    return similarity_\n",
        "inner_product(e1, e2)"
      ],
      "execution_count": null,
      "outputs": [
        {
          "output_type": "execute_result",
          "data": {
            "text/plain": [
              "array([[796.4137]], dtype=float32)"
            ]
          },
          "metadata": {
            "tags": []
          },
          "execution_count": 231
        }
      ]
    },
    {
      "cell_type": "code",
      "metadata": {
        "id": "x8PCKxUMiZYX",
        "outputId": "199a161d-c188-4831-8c52-40b1b069d221",
        "colab": {
          "base_uri": "https://localhost:8080/"
        }
      },
      "source": [
        "from sklearn.metrics.pairwise import cosine_similarity\n",
        "def get_cosine_similarity(feature_vec_1, feature_vec_2):    \n",
        "    return cosine_similarity(feature_vec_1.reshape(1, -1), feature_vec_2.reshape(1, -1))[0][0]\n",
        "get_cosine_similarity(e1, e2)"
      ],
      "execution_count": null,
      "outputs": [
        {
          "output_type": "execute_result",
          "data": {
            "text/plain": [
              "0.84524596"
            ]
          },
          "metadata": {
            "tags": []
          },
          "execution_count": 220
        }
      ]
    },
    {
      "cell_type": "code",
      "metadata": {
        "id": "E6Y_ehvPlr-i"
      },
      "source": [
        "from numpy.linalg import norm\n",
        "\n",
        "\n",
        "\n",
        "\n",
        "def theta(src, tgt):\n",
        "    similarity_ = cosine_sim(src, tgt)\n",
        "    np.fill_diagonal(similarity_, 1)\n",
        "    theta_ = np.arccos(similarity_) + math.radians(10)\n",
        "    return theta_\n",
        "\n",
        "\n",
        "def magnitude_difference(src, tgt):\n",
        "    src_len = len(src)\n",
        "    src_norm = norm(src, axis=1).repeat(src_len).reshape(src_len, -1)\n",
        "    tgt_norm = norm(tgt, axis=1)\n",
        "    difference_ = np.abs(src_norm - tgt_norm)\n",
        "    return difference_\n",
        "\n",
        "\n",
        "def triangle_area_similarity(src, tgt, theta_):\n",
        "    src_len = len(src)\n",
        "    src_norm = norm(src, axis=1).repeat(src_len).reshape(src_len, -1)\n",
        "    tgt_norm = norm(tgt, axis=1)\n",
        "    triangle_similarity_ = (src_norm * tgt_norm * np.sin(theta_)) / 2\n",
        "    return triangle_similarity_\n",
        "\n",
        "\n",
        "def sector_area_similarity(src, tgt, theta_):\n",
        "    distance_ = euclidean_dist(src, tgt)\n",
        "    difference_ = magnitude_difference(src, tgt)\n",
        "    sector_similarity_ = math.pi * ((distance_ + difference_) ** 2)\n",
        "    sector_similarity_ *= theta_ / 360\n",
        "    return sector_similarity_\n",
        "\n",
        "\n",
        "def triangle_sector_similarity(src, tgt):\n",
        "    theta_ = theta(src, tgt)\n",
        "    triangle_similarity_ = triangle_area_similarity(src, tgt, theta_)\n",
        "    sector_similarity_ = sector_area_similarity(src, tgt, theta_)\n",
        "    ts_ss_ = triangle_similarity_ * sector_similarity_\n",
        "    return ts_ss_"
      ],
      "execution_count": null,
      "outputs": []
    },
    {
      "cell_type": "code",
      "metadata": {
        "id": "hpBU4A7lb2HT"
      },
      "source": [
        "\n",
        "page = requests.get('https://www.republicworld.com/india-news/politics/dissenting-letter-brainchild-of-2-congress-functionaries-who-are-not-s.html') \n",
        "soup = BeautifulSoup(page.content, 'html.parser')\n",
        "\n"
      ],
      "execution_count": null,
      "outputs": []
    },
    {
      "cell_type": "code",
      "metadata": {
        "id": "sugJYYd6YdJE"
      },
      "source": [
        "for s in soup.select('script'):\n",
        "    s.extract()\n",
        "for a in soup.findAll('a', href=True):\n",
        "    a.extract()\n",
        "\n",
        "for tags in soup.findAll(\"p\", class_=[\"ham-title\",\"mrgn0 color-white\",\"mrgn0 font12\"]):\n",
        "    tags.extract()"
      ],
      "execution_count": null,
      "outputs": []
    },
    {
      "cell_type": "code",
      "metadata": {
        "id": "dG1-ALfFYd3g",
        "outputId": "148ef7c9-af99-49b8-a1d6-fddf0241eeb4",
        "colab": {
          "base_uri": "https://localhost:8080/"
        }
      },
      "source": [
        "p_tags = soup.find_all(['p','ul'])\n",
        "s=[]\n",
        "for each in p_tags:\n",
        "    print (each.text)\n",
        "    s.append(each.text)\n"
      ],
      "execution_count": null,
      "outputs": [
        {
          "output_type": "stream",
          "text": [
            "On Monday, top sources told Republic TV that the letter of dissent by 23 senior Congress leaders is the brainchild of two party functionaries who are not signatories to the letter. The two Congress leaders who have facilitated the dissenting letter have distanced themselves from either camp for now. Sources added that one of the aforesaid leaders is not even present in Delhi. Reportedly, the leaders behind the letter are pretending to be neutral. It is perceived that the fight between the two camps is expected to escalate.\n",
            "\n",
            "Reportedly, several Congress leaders wrote to the Congress president on August 12 calling for sweeping changes in the party's functioning. The 23 leaders who have signed the letter are Leader of Opposition in Rajya Sabha Ghulam Nabi Azad, Anand Sharma, Kapil Sibal, Manish Tewari, Shashi Tharoor, Vivek Tankha, M Veerappa Moily, Mukul Wasnik, Jitin Prasada, Bhupinder Singh Hooda, Rajinder Kaur Bhattal, Prithviraj Chavan,  PJ Kurian, Ajay Singh, Renuka Chaudhary, Milind Deora, Sandeep Dixit, Raj Babbar, Arvinder Singh Lovely, Kaul Singh Thakur, Akhilesh Prasad Singh, former Haryana Speaker Kuldeep Sharma and former Delhi Speaker Yoganand Shastri. \n",
            "They observed that the uncertainly over the leadership and the drift in the party have weakened Congress and demoralized the workers. The letter reportedly mentioned many suggestions such as the need for a full-time leadership available at the national and state headquarters, conducting elections at all levels including the Congress Working Committee and state level, the formation of an Independent Election Authority, and institutional leadership mechanism to guide the party's revival. \n",
            "\n",
            "At the beginning of the Congress Working Committee meeting, interim president Sonia Gandhi offered to resign. However, former Prime Minister Dr. Manmohan Singh and ex-Defence Minister urged her to continue as president of the Congress party. Speaking at the meeting, Wayanad MP Rahul Gandhi lamented that the dissenting letter had been sent at a time when his mother was in the hospital. Thereafter, he reportedly accused the signatories to the letter of colluding with BJP. \n",
            "As per sources, 4 senior Congress leaders logged off from the CWC meeting in protest against the former party president's remarks. Sources revealed that Rahul Gandhi's camp has said that the details of the letter should not have been released to the media. It has also been alleged that the 23 dissenting members “betrayed” Congress by going to the media. After Ghulam Nabi Azad and Kapil Azad took objection to Gandhi's allegation, Congress went into damage control mode. According to sources, the Wayanad MP spoke to Sibal after which the latter decided to withdraw his tweet. \n",
            "\n",
            "\n"
          ],
          "name": "stdout"
        }
      ]
    },
    {
      "cell_type": "code",
      "metadata": {
        "id": "m3W6V0PSZIi5"
      },
      "source": [
        "listToStr3= ' '.join([str(elem) for elem in s]) \n",
        "listToStr3 = listToStr3.replace(u'\\xa0', u' ')"
      ],
      "execution_count": null,
      "outputs": []
    },
    {
      "cell_type": "code",
      "metadata": {
        "id": "b12H2mQNZtxQ",
        "outputId": "107eef0d-9883-4bef-b1d4-f8c53991937d",
        "colab": {
          "base_uri": "https://localhost:8080/",
          "height": 171
        }
      },
      "source": [
        "listToStr3"
      ],
      "execution_count": null,
      "outputs": [
        {
          "output_type": "execute_result",
          "data": {
            "application/vnd.google.colaboratory.intrinsic+json": {
              "type": "string"
            },
            "text/plain": [
              "\"On Monday, top sources told Republic TV that the letter of dissent by 23 senior Congress leaders is the brainchild of two party functionaries who are not signatories to the letter. The two Congress leaders who have facilitated the dissenting letter have distanced themselves from either camp for now. Sources added that one of the aforesaid leaders is not even present in Delhi. Reportedly, the leaders behind the letter are pretending to be neutral. It is perceived that the fight between the two camps is expected to escalate.  Reportedly, several Congress leaders wrote to the Congress president on August 12 calling for sweeping changes in the party's functioning. The 23 leaders who have signed the letter are Leader of Opposition in Rajya Sabha Ghulam Nabi Azad, Anand Sharma, Kapil Sibal, Manish Tewari, Shashi Tharoor, Vivek Tankha, M Veerappa Moily, Mukul Wasnik, Jitin Prasada, Bhupinder Singh Hooda, Rajinder Kaur Bhattal, Prithviraj Chavan,  PJ Kurian, Ajay Singh, Renuka Chaudhary, Milind Deora, Sandeep Dixit, Raj Babbar, Arvinder Singh Lovely, Kaul Singh Thakur, Akhilesh Prasad Singh, former Haryana Speaker Kuldeep Sharma and former Delhi Speaker Yoganand Shastri.  They observed that the uncertainly over the leadership and the drift in the party have weakened Congress and demoralized the workers. The letter reportedly mentioned many suggestions such as the need for a full-time leadership available at the national and state headquarters, conducting elections at all levels including the Congress Working Committee and state level, the formation of an Independent Election Authority, and institutional leadership mechanism to guide the party's revival.   At the beginning of the Congress Working Committee meeting, interim president Sonia Gandhi offered to resign. However, former Prime Minister Dr. Manmohan Singh and ex-Defence Minister urged her to continue as president of the Congress party. Speaking at the meeting, Wayanad MP Rahul Gandhi lamented that the dissenting letter had been sent at a time when his mother was in the hospital. Thereafter, he reportedly accused the signatories to the letter of colluding with BJP.  As per sources, 4 senior Congress leaders logged off from the CWC meeting in protest against the former party president's remarks. Sources revealed that Rahul Gandhi's camp has said that the details of the letter should not have been released to the media. It has also been alleged that the 23 dissenting members “betrayed” Congress by going to the media. After Ghulam Nabi Azad and Kapil Azad took objection to Gandhi's allegation, Congress went into damage control mode. According to sources, the Wayanad MP spoke to Sibal after which the latter decided to withdraw his tweet.   \""
            ]
          },
          "metadata": {
            "tags": []
          },
          "execution_count": 127
        }
      ]
    },
    {
      "cell_type": "code",
      "metadata": {
        "id": "UlfweK3dZuwN",
        "outputId": "de2ec4bf-bac8-4129-ad0f-9c1bba00acdc",
        "colab": {
          "base_uri": "https://localhost:8080/",
          "height": 106
        }
      },
      "source": [
        "model = T5ForConditionalGeneration.from_pretrained(\"/content/gdrive/My Drive/my_t5_model/\")\n",
        "tokenizer = T5Tokenizer.from_pretrained(\"/content/gdrive/My Drive/my_t5_tokenizer/\")\n",
        "l3=summarize(listToStr3,150)\n",
        "l3"
      ],
      "execution_count": null,
      "outputs": [
        {
          "output_type": "stream",
          "text": [
            "Token indices sequence length is longer than the specified maximum sequence length for this model (657 > 512). Running this sequence through the model will result in indexing errors\n"
          ],
          "name": "stderr"
        },
        {
          "output_type": "execute_result",
          "data": {
            "application/vnd.google.colaboratory.intrinsic+json": {
              "type": "string"
            },
            "text/plain": [
              "'a letter of dissent by 23 senior Congress leaders is the brainchild of two party functionaries who are not signatories to the letter. The two party functionaries behind the letter have distanced themselves from either camp for now, according to reports.'"
            ]
          },
          "metadata": {
            "tags": []
          },
          "execution_count": 128
        }
      ]
    },
    {
      "cell_type": "code",
      "metadata": {
        "id": "lN2oAkHzZ8ru"
      },
      "source": [
        "\n",
        "page = requests.get('https://www.timesnownews.com/sports/cricket/article/chennai-super-kings-vs-mumbai-indians-head-to-head-record-important-stats-ahead-of-csks-must-win-tie/671418') \n",
        "soup = BeautifulSoup(page.content, 'html.parser')"
      ],
      "execution_count": null,
      "outputs": []
    },
    {
      "cell_type": "code",
      "metadata": {
        "id": "K8r2M2DCapct"
      },
      "source": [
        "for s in soup.select('script'):\n",
        "    s.extract()\n",
        "for a in soup.findAll('a', href=True):\n",
        "    a.extract()\n"
      ],
      "execution_count": null,
      "outputs": []
    },
    {
      "cell_type": "code",
      "metadata": {
        "id": "PEVBMFW1cGeM",
        "outputId": "028c7773-46a4-48db-8e3f-29f2400bcd58",
        "colab": {
          "base_uri": "https://localhost:8080/"
        }
      },
      "source": [
        "p_tags = soup.find_all(['p'])\n",
        "s=[]\n",
        "for each in p_tags:\n",
        "    print (each.text)\n",
        "    s.append(each.text)\n"
      ],
      "execution_count": null,
      "outputs": [
        {
          "output_type": "stream",
          "text": [
            "With an aim to keep for their playoffs hopes alive, Chennai Super Kings (CSK) will face defending champions, Mumbai Indians (MI), in the 41st match of the Indian Premier League (IPL) 2020. Both the teams have had contrasting fortunes so far. With just three wins from 10 matches, CSK are reeling at the last spot in the points table. On the other hand, MI, who have also achieved the top spot on many occasions, currently sit at the third spot with six wins from nine matches. A win here will see them regain the numero uno position.\n",
            "For the first time in the history of IPL, CSK are staring at an early exit. The only team to qualify for playoffs in every season they have been part of, CSK had kicked off their season with a win. After defeating Mumbai Indians in the season-opener, things haven't gone their way and the Yellow Army has only managed two more wins.\n",
            "A win is the need of the hour for CSK and a defeat here will end their campaign. In past, teams with six wins have made it to the playoffs but that might not be the case this time. Going into the contest, there are still doubts over Rohit Sharma's availability.\n",
            "He was unwell after the previous tie against Kings XI Punjab. Mumbai Indians haven't given any update regarding Rohit. Ahead of the must-win game for CSK, here's a look at their head-to-head record against MI and some important stats as well -\n",
            "Mumbai Indians hold a 17-11 lead over Chennai Super Kings in IPL's history. Though, Rohit's side is yet to defeat CSK in UAE. They lost to CSK in 2014 and in the opening game of IPL 2020. In fact, MI had lost all five matches in the UAE in 2014. Given the past record, CSK are favourites but do they have the squad to challenge MI's domination?\n",
            "In the batting department, skippers of both the teams have led their respective sides from the front. Rohit, IPL's third-highest run-scorer, has 658 runs against CSK. The tally includes his much-needed half-century in the final of IPL 2015, where MI won by 41 runs. For CSK, MS Dhoni sits at the top with 627 runs. Interestingly, MI's all four title victories as captain have come against sides including Dhoni in the playing XI.\n",
            "Surprisingly, Kieron Pollard tops the bowling charts for MI. Usually, Lasith Malinga comes at the top in this list. The MI's vice-captain has 13 scalps against CSK. All-rounder Ravindra Jadeja has 17 wickets against MI. The senior all-rounder has contributed more with the bat in the ongoing season but is yet to deliver with the ball.\n",
            "Get , live scores, top , match highlights of Cricket, Football, Tennis and other sports on TimesNow\n"
          ],
          "name": "stdout"
        }
      ]
    },
    {
      "cell_type": "code",
      "metadata": {
        "id": "EZjWn42UcJAG"
      },
      "source": [
        "listToStr4= ' '.join([str(elem) for elem in s]) "
      ],
      "execution_count": null,
      "outputs": []
    },
    {
      "cell_type": "code",
      "metadata": {
        "id": "ePMgX1i4cgUG",
        "outputId": "4c854485-e393-4f5b-b8b1-3fca2bd7cc57",
        "colab": {
          "base_uri": "https://localhost:8080/",
          "height": 106
        }
      },
      "source": [
        "model = T5ForConditionalGeneration.from_pretrained(\"/content/gdrive/My Drive/my_t5_model/\")\n",
        "tokenizer = T5Tokenizer.from_pretrained(\"/content/gdrive/My Drive/my_t5_tokenizer/\")\n",
        "l4=summarize(listToStr4,150)\n",
        "l4"
      ],
      "execution_count": null,
      "outputs": [
        {
          "output_type": "stream",
          "text": [
            "Token indices sequence length is longer than the specified maximum sequence length for this model (673 > 512). Running this sequence through the model will result in indexing errors\n"
          ],
          "name": "stderr"
        },
        {
          "output_type": "execute_result",
          "data": {
            "application/vnd.google.colaboratory.intrinsic+json": {
              "type": "string"
            },
            "text/plain": [
              "\"defending champions, Mumbai Indians (MI), in the 41st match of the Indian Premier League (IPL) 2020. Chennai Super Kings have won just three out of 10 matches so far this season and are currently sitting at the third spot with 627 runs against CSK. However, MI's skipper MS Dhoni sits at the top with 627 runs while Lasith Malinga comes at the top with 13 scalps.\""
            ]
          },
          "metadata": {
            "tags": []
          },
          "execution_count": 142
        }
      ]
    },
    {
      "cell_type": "code",
      "metadata": {
        "id": "o0Vi3wyBcmIi"
      },
      "source": [
        "\n",
        "page = requests.get('https://www.india.com/news/india/air-pollution-ahead-of-diwali-these-states-ban-use-and-sale-of-fireworks-complete-list-here-4196431/') \n",
        "soup = BeautifulSoup(page.content, 'html.parser')"
      ],
      "execution_count": null,
      "outputs": []
    },
    {
      "cell_type": "code",
      "metadata": {
        "id": "n4IU85Tpde8-"
      },
      "source": [
        "for s in soup.select('script'):\n",
        "    s.extract()\n",
        "for a in soup.findAll('a', href=True):\n",
        "    a.extract()\n"
      ],
      "execution_count": null,
      "outputs": []
    },
    {
      "cell_type": "code",
      "metadata": {
        "id": "ovoZLI-Cd2Z0",
        "outputId": "f6070577-6e54-4dae-ec44-b24ac70bcb79",
        "colab": {
          "base_uri": "https://localhost:8080/"
        }
      },
      "source": [
        "p_tags = soup.find_all(['p'])\n",
        "s=[]\n",
        "for each in p_tags:\n",
        "    print (each.text)\n",
        "    s.append(each.text)\n"
      ],
      "execution_count": null,
      "outputs": [
        {
          "output_type": "stream",
          "text": [
            "Air Pollution Latest News: A day after the National Green Tribunal issued notice to Ministry of Environment and Forests (MoEF) to ban the use of fire crackers from November 7-30 in the interest of public health and environment, a number of states have issued order in this regard. Starting from Rajasthan and Odisha to Bengal and Haryana — these states have made it mandatory to ban the use of fire crackers, keeping in mind the pollution and coronavirus pandemic in mind. Also Read - \n",
            "Rajasthan Also Read - \n",
            "The Rajasthan government has decided to ban the sale of firecrackers during the festive season in the state in the wake of the crisis created by the coronavirus pandemic. “Protecting the lives of people is paramount for the government in this challenging time,” Chief Minister Ashok Gehlot said. Also Read - \n",
            "He further added that in a situation like this, people should avoid using fireworks on Diwali.\n",
            "Delhi\n",
            "Delhi Environment Minister Gopal Rai on Tuesday urged the people of Delhi to avoid bursting firecrackers as much as possible this Diwali in the interests of public health and environment.\n",
            "The minister launched an “anti-cracker” campaign and inspected various places to ensure that only “green” firecrackers are manufactured and sold in the city.\n",
            "The Delhi Pollution Control Committee (DPCC), all district magistrates and the Delhi Police have been asked to ensure that only “green” crackers are sold.\n",
            "Haryana\n",
            "The Haryana government on Monday declared possession and sale of imported firecrackers as illegal and punishable in the state. Deputy commissioners of all the districts have been directed to be vigilant in this regard and take strict action against the sale and distribution of imported firecrackers.\n",
            "Additionally, they have also been asked to ensure there is no storage of imported firecrackers by conducting the inspection of all the establishments and taking preventive actions.\n",
            "Odisha\n",
            "The Odisha government on Tuesday prohibited the sale and use of firecrackers from 10th to 30th of November. “Considering the potentially harmful consequences of burning of crackers amidst COVID-19 pandemic situation and approaching winter, state govt prohibits the sale and use of firecrackers from 10th to 30th of November,” the state government said in its order.\n",
            "West Bengal\n",
            "In a similar manner, the West Bengal government also pledged not to allow bursting of firecrackers during Kali puja, Diwali to check air pollution.\n",
            "“The West Bengal government will not allow bursting of firecrackers during Kali puja and Diwali to check air pollution and also because they are hazardous for Covid-19 patients,” Chief Secretary Alapan Bandyopadhyay said in the new order.\n",
            "Notably, the National Green Tribunal issued notice to Ministry of Environment and Forests (MoEF) and four state governments on whether use of fire crackers be banned from November 7-30 in the interest of public health and environment. The NGT also appointed senior advocate Raj Panjwani and advocate Shibhani Ghosh to assist it as amicus curiae in the matter.\n",
            "For breaking news and live news updates, like us on  or follow us on  and . Read more on Latest  on . \n",
            "Published Date: November 3, 2020 8:05 PM IST\n",
            "Copyright © 2020. Zee Entertainment Enterprises Limited. All Rights Reserved.\n"
          ],
          "name": "stdout"
        }
      ]
    },
    {
      "cell_type": "code",
      "metadata": {
        "id": "Exz-LqCfd592"
      },
      "source": [
        "listToStr5= ' '.join([str(elem) for elem in s]) "
      ],
      "execution_count": null,
      "outputs": []
    },
    {
      "cell_type": "code",
      "metadata": {
        "id": "QqfPltGWf4b7",
        "outputId": "8539ccf2-2757-49f6-8225-06d529839686",
        "colab": {
          "base_uri": "https://localhost:8080/",
          "height": 123
        }
      },
      "source": [
        "model = T5ForConditionalGeneration.from_pretrained(\"/content/gdrive/My Drive/my_t5_model/\")\n",
        "tokenizer = T5Tokenizer.from_pretrained(\"/content/gdrive/My Drive/my_t5_tokenizer/\")\n",
        "l5=summarize(listToStr5,150)\n",
        "l5"
      ],
      "execution_count": null,
      "outputs": [
        {
          "output_type": "stream",
          "text": [
            "Token indices sequence length is longer than the specified maximum sequence length for this model (730 > 512). Running this sequence through the model will result in indexing errors\n"
          ],
          "name": "stderr"
        },
        {
          "output_type": "execute_result",
          "data": {
            "application/vnd.google.colaboratory.intrinsic+json": {
              "type": "string"
            },
            "text/plain": [
              "'from Rajasthan and Odisha to Bengal and Haryana have made it mandatory to ban the use of firecrackers during Diwali, keeping in mind the pollution and coronavirus pandemic in mind. Notably, the National Green Tribunal issued notice to Ministry of Environment and Forests (MoEF) to ban the use of firecrackers from November 7-30 in the interest of public health and environment. The NGT also appointed senior advocate Raj Panjwani and advocate Shibhani Ghosh to assist it.'"
            ]
          },
          "metadata": {
            "tags": []
          },
          "execution_count": 190
        }
      ]
    },
    {
      "cell_type": "code",
      "metadata": {
        "id": "TnS2VDeVf-Ox"
      },
      "source": [
        ""
      ],
      "execution_count": null,
      "outputs": []
    }
  ]
}